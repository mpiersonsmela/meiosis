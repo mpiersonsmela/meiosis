{
 "cells": [
  {
   "cell_type": "code",
   "execution_count": null,
   "metadata": {},
   "outputs": [],
   "source": [
    "import os\n",
    "from pathlib import Path\n",
    "import pandas as pd\n",
    "from dotenv import load_dotenv\n",
    "import scanpy as sc\n",
    "import anndata\n"
   ]
  },
  {
   "cell_type": "code",
   "execution_count": null,
   "metadata": {},
   "outputs": [],
   "source": [
    "import h5py\n",
    "\n",
    "# Open the file and list all available keys/datasets\n",
    "with h5py.File(\"/mnt/windows/extradata/meiotic_cells_2/scplus_pipeline/Snakemake/ctx_results.hdf5\", 'r') as f:\n",
    "    print(\"Available keys in the HDF5 file:\")\n",
    "    print(list(f.keys()))"
   ]
  },
  {
   "cell_type": "code",
   "execution_count": null,
   "metadata": {},
   "outputs": [],
   "source": [
    "with pd.HDFStore(\"/mnt/windows/extradata/meiotic_cells_2/scplus_pipeline/Snakemake/ctx_results.hdf5\") as store:\n",
    "    keys = store.keys()\n",
    "print(len(keys))\n",
    "print(keys)"
   ]
  },
  {
   "cell_type": "code",
   "execution_count": null,
   "metadata": {},
   "outputs": [],
   "source": [
    "store = pd.HDFStore(\"/mnt/windows/extradata/meiotic_cells_2/scplus_pipeline/Snakemake/dem_results.hdf5\")"
   ]
  },
  {
   "cell_type": "code",
   "execution_count": null,
   "metadata": {},
   "outputs": [],
   "source": [
    "store.keys()"
   ]
  },
  {
   "cell_type": "code",
   "execution_count": null,
   "metadata": {},
   "outputs": [],
   "source": [
    "dars_oogonia_STRA8_regions = store.select(\"DARs_cell_type_oogonia_STRA8_vs_all/regions_to_db\")\n",
    "dars_oogonia_STRA8_regions"
   ]
  },
  {
   "cell_type": "code",
   "execution_count": null,
   "metadata": {},
   "outputs": [],
   "source": [
    "dars_oogonia_STRA8 = store.select(\"DARs_cell_type_oogonia_STRA8_vs_all/motif_enrichment\")"
   ]
  },
  {
   "cell_type": "code",
   "execution_count": null,
   "metadata": {},
   "outputs": [],
   "source": [
    "dars_oogonia_meiotic = store.select(\"DARs_cell_type_oogonia_meiotic_vs_all/motif_enrichment\")"
   ]
  },
  {
   "cell_type": "code",
   "execution_count": null,
   "metadata": {},
   "outputs": [],
   "source": [
    "dars_combined = pd.concat([dars_oogonia_STRA8, dars_oogonia_meiotic])"
   ]
  },
  {
   "cell_type": "code",
   "execution_count": null,
   "metadata": {},
   "outputs": [],
   "source": [
    "dars_combined"
   ]
  },
  {
   "cell_type": "code",
   "execution_count": null,
   "metadata": {},
   "outputs": [],
   "source": [
    "dars_combined.sort_values(by=\"Log2FC\", ascending=False, inplace=True)\n",
    "dars_combined.head(20)"
   ]
  },
  {
   "cell_type": "code",
   "execution_count": null,
   "metadata": {},
   "outputs": [],
   "source": [
    "import numpy as np\n",
    "dars_combined['TF'] = np.where(dars_combined['Direct_annot'].notna(), dars_combined['Direct_annot'], dars_combined['Orthology_annot'])\n",
    "#dars_combined['TF'] = dars_combined['TF'].str.split(',').str[0]\n",
    "dars_combined_avg = dars_combined.groupby(dars_combined.index).agg({\n",
    "    'Log2FC': 'mean',\n",
    "    'TF': 'first',\n",
    "    'Logo': 'first'\n",
    "}).reset_index()\n",
    "dars_combined_avg.set_index('motifs', inplace=True)\n",
    "dars_combined_avg.sort_values(by=\"Log2FC\", ascending=False, inplace=True)\n",
    "dars_combined_avg_top_20 = dars_combined_avg.head(20)"
   ]
  },
  {
   "cell_type": "code",
   "execution_count": null,
   "metadata": {},
   "outputs": [],
   "source": [
    "dars_combined_avg_top_20"
   ]
  },
  {
   "cell_type": "code",
   "execution_count": null,
   "metadata": {},
   "outputs": [],
   "source": [
    "import matplotlib.pyplot as plt\n",
    "\n",
    "dars_combined_avg_top_20['TF'] = dars_combined_avg_top_20['TF'].str.split(',').str[0]\n",
    "\n",
    "plt.figure(figsize=(12, 6))\n",
    "plt.bar(dars_combined_avg_top_20['TF'], dars_combined_avg_top_20['Log2FC'])\n",
    "plt.xticks(rotation=90)\n",
    "plt.ylabel('Log2FC')\n",
    "plt.xlabel('Transcription Factors')\n",
    "plt.title('Transcription Factor Enrichment in Meiotic Cells DARs')\n",
    "plt.tight_layout()\n",
    "plt.savefig('/mnt/storage/outputs/garcia_ATAC/outputs/top_motifs_meiotic_DARs.svg', format='svg')\n",
    "plt.show()\n"
   ]
  },
  {
   "cell_type": "code",
   "execution_count": null,
   "metadata": {},
   "outputs": [],
   "source": [
    "dars_combined_avg.to_csv('/mnt/storage/outputs/garcia_ATAC/outputs/top_motifs_meiotic_DARs_with_logos.csv', sep = \",\")"
   ]
  },
  {
   "cell_type": "code",
   "execution_count": null,
   "metadata": {},
   "outputs": [],
   "source": [
    "test = pd.read_csv('/mnt/storage/outputs/garcia_ATAC/top_motifs_meiotic_DARs.csv', sep = \",\")\n",
    "test"
   ]
  },
  {
   "cell_type": "code",
   "execution_count": null,
   "metadata": {},
   "outputs": [],
   "source": [
    "test.Logo[0]"
   ]
  },
  {
   "cell_type": "code",
   "execution_count": null,
   "metadata": {},
   "outputs": [],
   "source": []
  }
 ],
 "metadata": {
  "kernelspec": {
   "display_name": "ovelle_research",
   "language": "python",
   "name": "python3"
  },
  "language_info": {
   "codemirror_mode": {
    "name": "ipython",
    "version": 3
   },
   "file_extension": ".py",
   "mimetype": "text/x-python",
   "name": "python",
   "nbconvert_exporter": "python",
   "pygments_lexer": "ipython3",
   "version": "3.11.8"
  }
 },
 "nbformat": 4,
 "nbformat_minor": 2
}
