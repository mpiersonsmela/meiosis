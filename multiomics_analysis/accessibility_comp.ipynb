{
 "cells": [
  {
   "cell_type": "code",
   "execution_count": null,
   "metadata": {},
   "outputs": [],
   "source": [
    "import pybedtools\n",
    "import pandas as pd\n",
    "import matplotlib.pyplot as plt\n",
    "import seaborn as sns\n",
    "import os\n",
    "from pathlib import Path\n",
    "from dotenv import load_dotenv\n",
    "import scanpy as sc\n",
    "\n",
    "load_dotenv()\n",
    "DATA_PATH = Path(os.getenv(\"OUTPUT_PATH\"))/'garcia_ATAC'\n"
   ]
  },
  {
   "cell_type": "code",
   "execution_count": null,
   "metadata": {},
   "outputs": [],
   "source": [
    "meiotic_cells_consensus_peak_paths = '/mnt/windows/extradata/meiotic_cells/atac_preprocessing/consensus_regions.bed'\n",
    "\n",
    "peaks = pd.read_csv(meiotic_cells_consensus_peak_paths, sep='\\t', header=None)\n",
    "# Assuming standard BED3+ format\n",
    "peaks.columns = ['chrom', 'start', 'end', 'name', 'score']\n",
    "meiotic_cells_consensus_peaks_bed = pybedtools.BedTool.from_dataframe(peaks)\n"
   ]
  },
  {
   "cell_type": "code",
   "execution_count": null,
   "metadata": {},
   "outputs": [],
   "source": [
    "print(f'total_peaks: {len(meiotic_cells_consensus_peaks_bed)}')\n",
    "print(f'total_coverage: {sum(peak.length for peak in meiotic_cells_consensus_peaks_bed)}')"
   ]
  },
  {
   "cell_type": "code",
   "execution_count": null,
   "metadata": {},
   "outputs": [],
   "source": [
    "garcia_ATAC_consensus_peak_paths = DATA_PATH / 'atac_preprocessing/consensus_peak_calling/consensus_regions.bed'\n",
    "\n",
    "peaks = pd.read_csv(garcia_ATAC_consensus_peak_paths, sep='\\t', header=None)\n",
    "# Assuming standard BED3+ format\n",
    "peaks.columns = ['chrom', 'start', 'end', 'name', 'score']\n",
    "garcia_ATAC_consensus_peaks_bed = pybedtools.BedTool.from_dataframe(peaks)\n"
   ]
  },
  {
   "cell_type": "code",
   "execution_count": null,
   "metadata": {},
   "outputs": [],
   "source": [
    "print(f'total_peaks: {len(garcia_ATAC_consensus_peaks_bed)}')\n",
    "print(f'total_coverage: {sum(peak.length for peak in garcia_ATAC_consensus_peaks_bed)}')"
   ]
  },
  {
   "cell_type": "code",
   "execution_count": null,
   "metadata": {},
   "outputs": [],
   "source": [
    "overlaps = meiotic_cells_consensus_peaks_bed.intersect(garcia_ATAC_consensus_peaks_bed, wo=True)\n",
    "overlaps.head()"
   ]
  },
  {
   "cell_type": "code",
   "execution_count": null,
   "metadata": {},
   "outputs": [],
   "source": [
    "total_meiotic_cells_peak_bases = sum(peak.length for peak in meiotic_cells_consensus_peaks_bed)\n",
    "total_garcia_ATAC_bases = sum(peak.length for peak in garcia_ATAC_consensus_peaks_bed)\n",
    "bases_overlapping = sum(int(o.fields[-1]) for o in overlaps) if overlaps else 0\n",
    "    \n",
    "print(f\"\"\"Peak Base Coverage Statistics:\n",
    "    \n",
    "Total bases in meiotic cells peaks:     {total_meiotic_cells_peak_bases:,}\n",
    "Total bases in Garcia ATAC peaks:       {total_garcia_ATAC_bases:,} \n",
    "Overlapping bases between datasets:     {bases_overlapping:,}\n",
    "\n",
    "Overlap percentages:\n",
    "- {bases_overlapping/total_meiotic_cells_peak_bases:.1%} of meiotic cells peaks overlap\n",
    "- {bases_overlapping/total_garcia_ATAC_bases:.1%} of Garcia ATAC peaks overlap\n",
    "\"\"\")"
   ]
  },
  {
   "cell_type": "markdown",
   "metadata": {},
   "source": [
    "# Clustering comparison"
   ]
  },
  {
   "cell_type": "code",
   "execution_count": null,
   "metadata": {},
   "outputs": [],
   "source": [
    "# Load cisTopic objects\n",
    "import pickle\n",
    "cistopic_obj_meiotic = pickle.load(open('/mnt/windows/extradata/meiotic_cells/atac_preprocessing/cistopic_obj.pkl', \"rb\"))"
   ]
  },
  {
   "cell_type": "code",
   "execution_count": null,
   "metadata": {},
   "outputs": [],
   "source": [
    "cistopic_obj_garcia = pickle.load(open(DATA_PATH / 'atac_preprocessing/cistopic_obj.pkl', \"rb\"))"
   ]
  },
  {
   "cell_type": "code",
   "execution_count": null,
   "metadata": {},
   "outputs": [],
   "source": [
    "len(cistopic_obj_meiotic.region_names)"
   ]
  },
  {
   "cell_type": "code",
   "execution_count": null,
   "metadata": {},
   "outputs": [],
   "source": [
    "len(cistopic_obj_garcia.region_names)"
   ]
  },
  {
   "cell_type": "code",
   "execution_count": null,
   "metadata": {},
   "outputs": [],
   "source": [
    "# First, create BED files with cisTopic region names\n",
    "def create_bed_from_region_names(region_names):\n",
    "    \"\"\"Convert cisTopic region names to BED format\"\"\"\n",
    "    regions = []\n",
    "    for name in region_names:\n",
    "        chrom, coords = name.split(':')\n",
    "        start, end = coords.split('-')\n",
    "        regions.append([chrom, int(start), int(end), name])\n",
    "    return pybedtools.BedTool(regions)\n"
   ]
  },
  {
   "cell_type": "code",
   "execution_count": null,
   "metadata": {},
   "outputs": [],
   "source": [
    "\n",
    "# Create BED files with correct names\n",
    "meiotic_regions_bed = create_bed_from_region_names(cistopic_obj_meiotic.region_names)\n",
    "garcia_regions_bed = create_bed_from_region_names(cistopic_obj_garcia.region_names)\n"
   ]
  },
  {
   "cell_type": "code",
   "execution_count": null,
   "metadata": {},
   "outputs": [],
   "source": [
    "\n",
    "# Merge them to create unified regions\n",
    "merged_regions = meiotic_regions_bed.cat(garcia_regions_bed, postmerge=False)\n",
    "merged_regions = merged_regions.sort()\n",
    "merged_regions = merged_regions.merge()  # preserve names during merge\n",
    "\n",
    "\n",
    "# Convert to dataframe and add standard names\n",
    "merged_df = merged_regions.to_dataframe()\n",
    "merged_df['name'] = merged_df.apply(lambda x: f\"{x['chrom']}:{x['start']}-{x['end']}\", axis=1)\n",
    "\n",
    "# Convert back to BedTool if needed\n",
    "merged_regions = pybedtools.BedTool.from_dataframe(merged_df)\n"
   ]
  },
  {
   "cell_type": "code",
   "execution_count": null,
   "metadata": {},
   "outputs": [],
   "source": [
    "# Print statistics\n",
    "n_regions1 = len(meiotic_cells_consensus_peaks_bed)\n",
    "n_regions2 = len(garcia_ATAC_consensus_peaks_bed)\n",
    "n_merged = len(merged_regions)\n",
    "\n",
    "print(f\"Number of regions in first file: {n_regions1}\")\n",
    "print(f\"Number of regions in second file: {n_regions2}\")\n",
    "print(f\"Number of regions after merging: {n_merged}\")"
   ]
  },
  {
   "cell_type": "code",
   "execution_count": null,
   "metadata": {},
   "outputs": [],
   "source": [
    "from scipy import sparse\n",
    "\n",
    "def calculate_overlap_weights_vectorized(original_regions_bed, unified_regions_bed):\n",
    "    \"\"\"Vectorized version of overlap weight calculation\"\"\"\n",
    "    # Get intersections as a dataframe\n",
    "    overlaps_df = original_regions_bed.intersect(unified_regions_bed, wo=True).to_dataframe()\n",
    "    \n",
    "    # Calculate weights using pandas operations\n",
    "    overlaps_df['weight'] = overlaps_df.iloc[:, -1].astype(float) / (\n",
    "        overlaps_df.iloc[:, 2] - overlaps_df.iloc[:, 1]\n",
    "    )\n",
    "    \n",
    "    # Create region names\n",
    "    overlaps_df['orig_region'] = overlaps_df.iloc[:, 3]\n",
    "    overlaps_df['unified_region'] = overlaps_df.iloc[:, 7]\n",
    "    \n",
    "    # Get ALL unified regions (not just those with overlaps)\n",
    "    all_unified_regions = [f\"{r.chrom}:{r.start}-{r.end}\" for r in unified_regions_bed]\n",
    "    \n",
    "    # Create unique indices for regions\n",
    "    orig_regions = overlaps_df['orig_region'].unique()\n",
    "    orig_to_idx = {region: idx for idx, region in enumerate(orig_regions)}\n",
    "    unified_to_idx = {region: idx for idx, region in enumerate(all_unified_regions)}\n",
    "    \n",
    "    # Create sparse matrix of weights\n",
    "    rows = [orig_to_idx[r] for r in overlaps_df['orig_region']]\n",
    "    cols = [unified_to_idx[r] for r in overlaps_df['unified_region']]\n",
    "    weights = overlaps_df['weight'].values\n",
    "    \n",
    "    weight_matrix = sparse.csr_matrix(\n",
    "        (weights, (rows, cols)),\n",
    "        shape=(len(orig_regions), len(all_unified_regions))\n",
    "    )\n",
    "    \n",
    "    return weight_matrix, orig_regions, all_unified_regions"
   ]
  },
  {
   "cell_type": "code",
   "execution_count": null,
   "metadata": {},
   "outputs": [],
   "source": [
    "# Calculate weights using the new BED files\n",
    "meiotic_weight_matrix, meiotic_orig_regions, unified_regions = calculate_overlap_weights_vectorized(meiotic_regions_bed, merged_regions)\n",
    "garcia_weight_matrix, garcia_orig_regions, _  = calculate_overlap_weights_vectorized(garcia_regions_bed, merged_regions)"
   ]
  },
  {
   "cell_type": "code",
   "execution_count": null,
   "metadata": {},
   "outputs": [],
   "source": [
    "def redistribute_counts_vectorized(matrix, weight_matrix, orig_regions, unified_regions):\n",
    "    \"\"\"Vectorized version of count redistribution\"\"\"\n",
    "    print(f\"Input matrix shape: {matrix.shape}\")\n",
    "    print(f\"Weight matrix shape: {weight_matrix.shape}\")\n",
    "    print(f\"Number of original regions: {len(orig_regions)}\")\n",
    "    print(f\"Number of unified regions: {len(unified_regions)}\")\n",
    "    \n",
    "    # Ensure matrix is in CSR format for efficient operations\n",
    "    matrix = sparse.csr_matrix(matrix)\n",
    "    weight_matrix = sparse.csr_matrix(weight_matrix)\n",
    "    \n",
    "    # Process in chunks to save memory\n",
    "    chunk_size = 1000\n",
    "    n_chunks = (matrix.shape[1] + chunk_size - 1) // chunk_size\n",
    "    result_chunks = []\n",
    "    \n",
    "    for i in range(n_chunks):\n",
    "        start_idx = i * chunk_size\n",
    "        end_idx = min((i + 1) * chunk_size, matrix.shape[1])\n",
    "        print(f\"Processing chunk {i+1}/{n_chunks}\")\n",
    "        \n",
    "        # Process chunk of the transposed matrix\n",
    "        chunk = matrix[:, start_idx:end_idx].T\n",
    "        chunk_result = chunk.dot(weight_matrix)\n",
    "        result_chunks.append(chunk_result)\n",
    "    \n",
    "    # Vertically stack the results\n",
    "    final_matrix = sparse.vstack(result_chunks)\n",
    "    \n",
    "    # Convert to DataFrame\n",
    "    return final_matrix\n",
    "\n"
   ]
  },
  {
   "cell_type": "code",
   "execution_count": null,
   "metadata": {},
   "outputs": [],
   "source": [
    "# Redistribute counts using vectorized approach\n",
    "meiotic_unified = redistribute_counts_vectorized(\n",
    "    cistopic_obj_meiotic.fragment_matrix, \n",
    "    meiotic_weight_matrix, \n",
    "    meiotic_orig_regions, \n",
    "    unified_regions\n",
    ")\n"
   ]
  },
  {
   "cell_type": "code",
   "execution_count": null,
   "metadata": {},
   "outputs": [],
   "source": [
    "\n",
    "# Clear some memory\n",
    "del meiotic_weight_matrix\n",
    "import gc\n",
    "gc.collect()\n",
    "\n",
    "print(\"\\nProcessing Garcia ATAC data...\")\n",
    "garcia_unified = redistribute_counts_vectorized(\n",
    "    cistopic_obj_garcia.fragment_matrix, \n",
    "    garcia_weight_matrix, \n",
    "    garcia_orig_regions, \n",
    "    unified_regions\n",
    ")"
   ]
  },
  {
   "cell_type": "code",
   "execution_count": null,
   "metadata": {},
   "outputs": [],
   "source": [
    "print(\"Length of unified_regions:\", len(unified_regions))\n",
    "print(\"Number of regions in merged_regions:\", len(merged_regions))\n",
    "print(\"First few unified_regions:\", list(unified_regions)[:3])\n",
    "print(\"First few merged_regions:\")\n",
    "print(merged_regions.head())"
   ]
  },
  {
   "cell_type": "code",
   "execution_count": null,
   "metadata": {},
   "outputs": [],
   "source": [
    "import anndata as ad\n",
    "\n",
    "# Create AnnData objects\n",
    "adata_meiotic = ad.AnnData(X=meiotic_unified, \n",
    "            obs=pd.DataFrame(index=cistopic_obj_meiotic.cell_names), \n",
    "            var=pd.DataFrame(index=unified_regions))\n",
    "\n",
    "adata_garcia = ad.AnnData(X=garcia_unified, \n",
    "            obs=pd.DataFrame(index=cistopic_obj_garcia.cell_names), \n",
    "            var=pd.DataFrame(index=unified_regions))\n",
    "\n",
    "# Add some metadata\n",
    "adata_meiotic.obs['dataset'] = 'meiotic'\n",
    "adata_garcia.obs['dataset'] = 'garcia'\n",
    "adata_garcia.obs['celltype'] = cistopic_obj_garcia.cell_data.celltype\n",
    "adata_meiotic.obs['celltype'] = cistopic_obj_meiotic.cell_data.celltype\n",
    "adata_garcia = adata_garcia[~adata_garcia.obs.celltype.isna()].copy()\n",
    "adata_meiotic.obs['celltype'] = cistopic_obj_meiotic.cell_data.celltype\n",
    "adata_meiotic = adata_meiotic[~adata_meiotic.obs.celltype.isna()].copy()\n",
    "\n",
    "print(adata_meiotic.shape, adata_garcia.shape)"
   ]
  },
  {
   "cell_type": "code",
   "execution_count": null,
   "metadata": {},
   "outputs": [],
   "source": [
    "adata_combined = ad.concat([adata_meiotic, adata_garcia], join='inner')"
   ]
  },
  {
   "cell_type": "code",
   "execution_count": null,
   "metadata": {},
   "outputs": [],
   "source": [
    "adata_combined"
   ]
  },
  {
   "cell_type": "code",
   "execution_count": null,
   "metadata": {},
   "outputs": [],
   "source": [
    "#adata_combined.X.toarray().max()"
   ]
  },
  {
   "cell_type": "code",
   "execution_count": null,
   "metadata": {},
   "outputs": [],
   "source": [
    "import scanpy as sc\n",
    "# Process the combined data\n",
    "sc.pp.normalize_total(adata_combined)\n",
    "sc.pp.log1p(adata_combined)\n",
    "sc.pp.pca(adata_combined)\n",
    "sc.pp.neighbors(adata_combined)\n",
    "sc.tl.umap(adata_combined)\n",
    "\n",
    "# Plot\n",
    "fig, (ax1, ax2) = plt.subplots(1, 2, figsize=(12, 5))\n",
    "sc.pl.umap(adata_combined, color=\"dataset\", ax=ax1, show=False, title='Datasets')\n",
    "sc.pl.umap(adata_combined, color=\"celltype\", ax=ax2, show=False, title='Cell Types')\n",
    "plt.tight_layout()\n",
    "plt.savefig('/mnt/storage/outputs/garcia_ATAC/outputs/atac_joint_UMAP.svg', format='svg')\n",
    "plt.show()"
   ]
  },
  {
   "cell_type": "code",
   "execution_count": null,
   "metadata": {},
   "outputs": [],
   "source": [
    "# Also do ingest, like in celltype_inget.ipynb to get them nicely aligned."
   ]
  },
  {
   "cell_type": "code",
   "execution_count": null,
   "metadata": {},
   "outputs": [],
   "source": [
    "sc.pp.normalize_total(adata_garcia)\n",
    "sc.pp.log1p(adata_garcia)\n",
    "sc.pp.pca(adata_garcia)\n",
    "sc.pp.neighbors(adata_garcia)\n",
    "sc.tl.umap(adata_garcia)"
   ]
  },
  {
   "cell_type": "code",
   "execution_count": null,
   "metadata": {},
   "outputs": [],
   "source": [
    "sc.pp.normalize_total(adata_meiotic)\n",
    "sc.pp.log1p(adata_meiotic)\n",
    "sc.pp.pca(adata_meiotic)\n",
    "sc.pp.neighbors(adata_meiotic)\n",
    "sc.tl.umap(adata_meiotic)"
   ]
  },
  {
   "cell_type": "code",
   "execution_count": null,
   "metadata": {},
   "outputs": [],
   "source": [
    "adata_meiotic.write_h5ad(DATA_PATH / \"adata_meiotic_processed.h5ad\")\n",
    "adata_garcia.write_h5ad(DATA_PATH / \"adata_garcia_processed.h5ad\")\n"
   ]
  },
  {
   "cell_type": "code",
   "execution_count": null,
   "metadata": {},
   "outputs": [],
   "source": [
    "adata_meiotic = sc.read_h5ad(DATA_PATH / \"adata_meiotic_processed.h5ad\")\n",
    "adata_garcia = sc.read_h5ad(DATA_PATH / \"adata_garcia_processed.h5ad\")"
   ]
  },
  {
   "cell_type": "code",
   "execution_count": null,
   "metadata": {},
   "outputs": [],
   "source": [
    "adata_meiotic.shape, adata_garcia.shape"
   ]
  },
  {
   "cell_type": "code",
   "execution_count": null,
   "metadata": {},
   "outputs": [],
   "source": [
    "# Ingest the new data into the reference\n",
    "sc.tl.ingest(adata_meiotic, adata_garcia, obs=\"celltype\")"
   ]
  },
  {
   "cell_type": "code",
   "execution_count": null,
   "metadata": {},
   "outputs": [],
   "source": [
    "from matplotlib import pyplot as plt\n",
    "\n",
    "# Plot\n",
    "fig, (ax1, ax2) = plt.subplots(1, 2, figsize=(12, 5))\n",
    "sc.pl.umap(adata_garcia, ax=ax1, color = \"celltype\", show=False, title='Garcia')\n",
    "sc.pl.umap(adata_meiotic, ax=ax2, color = \"celltype\", show=False, title='Meiotic')\n",
    "plt.tight_layout()\n",
    "plt.savefig('/mnt/storage/outputs/garcia_ATAC/outputs/atac_joint_ingest.svg', format='svg')\n",
    "plt.show()"
   ]
  },
  {
   "cell_type": "code",
   "execution_count": null,
   "metadata": {},
   "outputs": [],
   "source": []
  }
 ],
 "metadata": {
  "kernelspec": {
   "display_name": "scenicplus",
   "language": "python",
   "name": "python3"
  },
  "language_info": {
   "codemirror_mode": {
    "name": "ipython",
    "version": 3
   },
   "file_extension": ".py",
   "mimetype": "text/x-python",
   "name": "python",
   "nbconvert_exporter": "python",
   "pygments_lexer": "ipython3",
   "version": "3.11.8"
  }
 },
 "nbformat": 4,
 "nbformat_minor": 2
}
