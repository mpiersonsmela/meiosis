{
 "cells": [
  {
   "cell_type": "code",
   "execution_count": null,
   "metadata": {},
   "outputs": [],
   "source": [
    "import os\n",
    "from pathlib import Path\n",
    "import scanpy as sc\n",
    "import pandas as pd\n",
    "import numpy as np\n",
    "from dotenv import load_dotenv\n",
    "import mudata\n",
    "\n",
    "load_dotenv()\n",
    "\n",
    "# set working directory\n",
    "os.chdir(os.getenv('PROJECT_PATH'))\n",
    "\n",
    "OUTPUT_PATH = Path('/mnt/windows/extradata') / 'meiotic_cells/scplus_pipeline_custom_cis/Snakemake'"
   ]
  },
  {
   "cell_type": "code",
   "execution_count": null,
   "metadata": {},
   "outputs": [],
   "source": [
    "%load_ext autoreload\n",
    "%autoreload 2"
   ]
  },
  {
   "cell_type": "code",
   "execution_count": null,
   "metadata": {},
   "outputs": [],
   "source": [
    "scplus_mdata = mudata.read(OUTPUT_PATH / \"scplusmdata.h5mu\")"
   ]
  },
  {
   "cell_type": "markdown",
   "metadata": {},
   "source": [
    "Direct and extended predicted TF-to-region-to-gene links. This dataframe contains also a ranking of each TF-region-gene triplet, based on its importance triplet_rank."
   ]
  },
  {
   "cell_type": "code",
   "execution_count": null,
   "metadata": {},
   "outputs": [],
   "source": [
    "scplus_mdata.uns[\"direct_e_regulon_metadata\"]"
   ]
  },
  {
   "cell_type": "code",
   "execution_count": null,
   "metadata": {},
   "outputs": [],
   "source": [
    "direct_e_regulons = scplus_mdata.uns[\"direct_e_regulon_metadata\"]\n",
    "#direct_e_regulons.loc[direct_e_regulons[\"Gene\"].isin([\"STRA8\", \"SPO11\", \"DMC1\"])]\n",
    "direct_e_regulons.loc[direct_e_regulons[\"Gene\"].isin([\"SPO11\"])]\n"
   ]
  },
  {
   "cell_type": "code",
   "execution_count": null,
   "metadata": {},
   "outputs": [],
   "source": [
    "scplus_mdata.uns[\"extended_e_regulon_metadata\"]"
   ]
  },
  {
   "cell_type": "code",
   "execution_count": null,
   "metadata": {},
   "outputs": [],
   "source": [
    "extended_e_regulons = scplus_mdata.uns[\"extended_e_regulon_metadata\"]\n",
    "extended_e_regulons.loc[extended_e_regulons[\"Gene\"].isin([\"STRA8\", \"SPO11\", \"DMC1\"])]\n",
    "#extended_e_regulons.loc[extended_e_regulons[\"Gene\"].isin([\"SPO11\"])]"
   ]
  },
  {
   "cell_type": "markdown",
   "metadata": {},
   "source": [
    "## eRegulon specificity scores"
   ]
  },
  {
   "cell_type": "code",
   "execution_count": null,
   "metadata": {},
   "outputs": [],
   "source": [
    "from scenicplus.RSS import (regulon_specificity_scores, plot_rss)"
   ]
  },
  {
   "cell_type": "code",
   "execution_count": null,
   "metadata": {},
   "outputs": [],
   "source": [
    "rss = regulon_specificity_scores(\n",
    "    scplus_mudata = scplus_mdata,\n",
    "    variable = \"scATAC_counts:celltype\",\n",
    "    modalities = [\"direct_gene_based_AUC\", \"extended_gene_based_AUC\"]\n",
    ")"
   ]
  },
  {
   "cell_type": "code",
   "execution_count": null,
   "metadata": {},
   "outputs": [],
   "source": [
    "scplus_mdata.obs[\"scATAC_counts:celltype\"].value_counts()"
   ]
  },
  {
   "cell_type": "code",
   "execution_count": null,
   "metadata": {},
   "outputs": [],
   "source": [
    "# Look at top regulons specific to meiotic cells\n",
    "meiotic_cells_types = ['oogonia_STRA8', 'oogonia_meiotic']\n",
    "\n",
    "# Get top regulons for these cells\n",
    "top_meiotic_regulons = rss.loc[meiotic_cells_types].sum(axis=0).sort_values(ascending=False)\n",
    "print(f\"Top 20 most specific regulons in meiotic cells {meiotic_cells_types}:\")\n",
    "print(top_meiotic_regulons.head(20))"
   ]
  },
  {
   "cell_type": "code",
   "execution_count": null,
   "metadata": {},
   "outputs": [],
   "source": [
    "# Look at its target genes\n",
    "direct_e_regulons[direct_e_regulons['eRegulon_name'] == 'IKZF3_direct_+/+'].Gene.unique()"
   ]
  },
  {
   "cell_type": "code",
   "execution_count": null,
   "metadata": {},
   "outputs": [],
   "source": [
    "direct_e_regulons[direct_e_regulons['Gene'] == 'SYCP1']\n",
    "\n"
   ]
  },
  {
   "cell_type": "code",
   "execution_count": null,
   "metadata": {},
   "outputs": [],
   "source": [
    "extended_e_regulons[extended_e_regulons['Gene'] == 'SYCP1']\n"
   ]
  },
  {
   "cell_type": "markdown",
   "metadata": {},
   "source": [
    "## Heatmap dotplot"
   ]
  },
  {
   "cell_type": "code",
   "execution_count": null,
   "metadata": {},
   "outputs": [],
   "source": [
    "regulon_names = top_meiotic_regulons.head(20).index.str.split(\"_\").str[0] + \"_\" + top_meiotic_regulons.head(20).index.str.split(\"_\").str[1] + \"_\" + top_meiotic_regulons.head(20).index.str.split(\"_\").str[2]"
   ]
  },
  {
   "cell_type": "markdown",
   "metadata": {},
   "source": [
    "We can draw a heatmap where the color represent target gene enrichment and the dotsize target region enrichment."
   ]
  },
  {
   "cell_type": "code",
   "execution_count": null,
   "metadata": {},
   "outputs": [],
   "source": [
    "from scenicplus.plotting.dotplot import heatmap_dotplot\n",
    "heatmap_dotplot(\n",
    "    scplus_mudata = scplus_mdata,\n",
    "    color_modality = \"direct_gene_based_AUC\",\n",
    "    size_modality = \"direct_region_based_AUC\",\n",
    "    group_variable = \"scATAC_counts:celltype\",\n",
    "    eRegulon_metadata_key = \"direct_e_regulon_metadata\",\n",
    "    color_feature_key = \"Gene_signature_name\",\n",
    "    size_feature_key = \"Region_signature_name\",\n",
    "    feature_name_key = \"eRegulon_name\",    \n",
    "    sort_data_by = \"direct_gene_based_AUC\",        \n",
    "    orientation = \"horizontal\",\n",
    "    figsize = (16, 5)\n",
    ")"
   ]
  },
  {
   "cell_type": "code",
   "execution_count": null,
   "metadata": {},
   "outputs": [],
   "source": [
    "from scenicplus.plotting.dotplot import heatmap_dotplot\n",
    "heatmap_dotplot(\n",
    "    scplus_mudata = scplus_mdata,\n",
    "    color_modality = \"direct_gene_based_AUC\",\n",
    "    size_modality = \"direct_region_based_AUC\",\n",
    "    group_variable = \"scATAC_counts:celltype\",\n",
    "    eRegulon_metadata_key = \"direct_e_regulon_metadata\",\n",
    "    color_feature_key = \"Gene_signature_name\",\n",
    "    size_feature_key = \"Region_signature_name\",\n",
    "    feature_name_key = \"eRegulon_name\",    \n",
    "    sort_data_by = \"direct_gene_based_AUC\",        \n",
    "    subset_feature_names = regulon_names.tolist(),\n",
    "    figsize = (16, 5)\n",
    ")"
   ]
  },
  {
   "cell_type": "markdown",
   "metadata": {},
   "source": [
    "## Cytoscape network\n"
   ]
  },
  {
   "cell_type": "code",
   "execution_count": null,
   "metadata": {},
   "outputs": [],
   "source": [
    "direct_e_regulons"
   ]
  },
  {
   "cell_type": "code",
   "execution_count": null,
   "metadata": {},
   "outputs": [],
   "source": [
    "direct_e_regulons.sort_values(by=\"triplet_rank\").head(200).loc[:, [\"TF\", \"Region\", \"Gene\"]].to_csv(OUTPUT_PATH / \"direct_e_regulons_top200.csv\", index=False)"
   ]
  },
  {
   "cell_type": "markdown",
   "metadata": {},
   "source": [
    "## TF Enrichment"
   ]
  },
  {
   "cell_type": "code",
   "execution_count": null,
   "metadata": {},
   "outputs": [],
   "source": [
    "# Look at regulons specific to meiotic cells by comparing to other cell types\n",
    "meiotic_cells_types = ['oogonia_STRA8', 'oogonia_meiotic'] # addd oogonia_meiotic\n",
    "other_cells = [ct for ct in rss.index if ct not in meiotic_cells_types]\n",
    "\n",
    "# Calculate enrichment as difference between meiotic cells and others\n",
    "meiotic_avg = rss.loc[meiotic_cells_types].mean()\n",
    "other_avg = rss.loc[other_cells].mean()\n",
    "enrichment = meiotic_avg - other_avg\n",
    "\n",
    "# Sort by enrichment and get top regulons\n",
    "top_meiotic_regulons = enrichment.sort_values(ascending=False)\n",
    "print(f\"Top 20 most enriched regulons in meiotic cells {meiotic_cells_types}:\")\n",
    "print(top_meiotic_regulons.head(20))"
   ]
  },
  {
   "cell_type": "code",
   "execution_count": null,
   "metadata": {},
   "outputs": [],
   "source": [
    "plus_plus_regulons = direct_e_regulons[direct_e_regulons['eRegulon_name'] == \"ZEB1_direct_+/+\"].Gene.unique()\n",
    "plus_minus_regulons = direct_e_regulons[direct_e_regulons['eRegulon_name'] == \"ZEB1_direct_+/-\"].Gene.unique()\n",
    "plus_plus_regulons\n"
   ]
  },
  {
   "cell_type": "code",
   "execution_count": null,
   "metadata": {},
   "outputs": [],
   "source": [
    "plus_minus_regulons"
   ]
  },
  {
   "cell_type": "code",
   "execution_count": null,
   "metadata": {},
   "outputs": [],
   "source": [
    "set(plus_plus_regulons).intersection(set(plus_minus_regulons))\n"
   ]
  },
  {
   "cell_type": "code",
   "execution_count": null,
   "metadata": {},
   "outputs": [],
   "source": [
    "direct_e_regulons[(direct_e_regulons['TF'] == \"ZEB1\") & (direct_e_regulons['Gene'] == \"MEIOB\")]\n"
   ]
  },
  {
   "cell_type": "markdown",
   "metadata": {},
   "source": [
    "## UMAP Plots"
   ]
  },
  {
   "cell_type": "code",
   "execution_count": null,
   "metadata": {},
   "outputs": [],
   "source": [
    "rna_data = scplus_mdata[\"scRNA_counts\"]\n",
    "rna_data.obs[\"celltype\"]= scplus_mdata[\"scATAC_counts\"].obs[\"celltype\"]"
   ]
  },
  {
   "cell_type": "code",
   "execution_count": null,
   "metadata": {},
   "outputs": [],
   "source": [
    "sc.pp.normalize_total(rna_data, target_sum=1e4)\n",
    "sc.pp.log1p(rna_data)"
   ]
  },
  {
   "cell_type": "code",
   "execution_count": null,
   "metadata": {},
   "outputs": [],
   "source": [
    "sc.tl.rank_genes_groups(rna_data, 'celltype')#, method='t-test')\n",
    "\n",
    "# The head function returns the top n genes per cluster\n",
    "top_markers = pd.DataFrame(rna_data.uns['rank_genes_groups']['names']).head(5)\n",
    "print(top_markers)"
   ]
  },
  {
   "cell_type": "code",
   "execution_count": null,
   "metadata": {},
   "outputs": [],
   "source": [
    "sc.pp.pca(rna_data)\n",
    "sc.pp.neighbors(rna_data)\n",
    "sc.tl.umap(rna_data)"
   ]
  },
  {
   "cell_type": "code",
   "execution_count": null,
   "metadata": {},
   "outputs": [],
   "source": [
    "import matplotlib.pyplot as plt\n",
    "\n",
    "fig, ax = plt.subplots()\n",
    "sc.pl.umap(rna_data, color=\"celltype\", ax=ax, show=False)\n",
    "plt.tight_layout()\n",
    "plt.show()"
   ]
  },
  {
   "cell_type": "code",
   "execution_count": null,
   "metadata": {},
   "outputs": [],
   "source": [
    "# plot a umap but with only one gene highlighted\n",
    "#DMC1 HORMAD1 HORMAD2 INCA1 MEIOB PRDM9 RAD51AP2 SCML1 SHCBP1L SMC1B SPATA22 SPDYA SPO11 SYCE2 SYCE3 SYCP1 SYCP2 SYCP3 TEX12\n",
    "sc.pl.umap(rna_data, color=[\"DMC1\", \"HORMAD1\", \"HORMAD2\", \"INCA1\", \"MEIOB\", \"PRDM9\", \"RAD51AP2\", \"SCML1\", \"SHCBP1L\", \"SMC1B\", \"SPATA22\", \"SPDYA\", \"SPO11\", \"SYCE2\", \"SYCE3\", \"SYCP1\", \"SYCP2\", \"SYCP3\", \"TEX12\"])\n"
   ]
  },
  {
   "cell_type": "code",
   "execution_count": null,
   "metadata": {},
   "outputs": [],
   "source": [
    "rna_data_meiotic = rna_data[rna_data.obs[\"celltype\"].isin([\"oogonia_meiotic\", \"oogonia_STRA8\"])].copy()\n",
    "sc.tl.rank_genes_groups(rna_data_meiotic, 'celltype')#, method='t-test')\n"
   ]
  },
  {
   "cell_type": "code",
   "execution_count": null,
   "metadata": {},
   "outputs": [],
   "source": [
    "top_markers = pd.DataFrame(rna_data_meiotic.uns['rank_genes_groups']['names']).head(5)\n",
    "print(top_markers)"
   ]
  },
  {
   "cell_type": "code",
   "execution_count": null,
   "metadata": {},
   "outputs": [],
   "source": [
    "sc.tl.score_genes(rna_data, [\"DMC1\", \"HORMAD1\", \"HORMAD2\", \"INCA1\", \"MEIOB\", \"PRDM9\", \"RAD51AP2\", \"SCML1\", \"SHCBP1L\", \"SMC1B\", \"SPATA22\", \"SPDYA\", \"SPO11\", \"SYCE2\", \"SYCE3\", \"SYCP1\", \"SYCP2\", \"SYCP3\", \"TEX12\"])\n",
    "sc.pl.umap(rna_data, color=\"score\")"
   ]
  },
  {
   "cell_type": "code",
   "execution_count": null,
   "metadata": {},
   "outputs": [],
   "source": [
    "rna_data.obs.groupby(\"celltype\")[\"score\"].mean()"
   ]
  },
  {
   "cell_type": "markdown",
   "metadata": {},
   "source": [
    "Set a cutoff at 0.6. Look at 2 cell types."
   ]
  },
  {
   "cell_type": "code",
   "execution_count": null,
   "metadata": {},
   "outputs": [],
   "source": [
    "rna_data[rna_data.obs[\"score\"] > 0.6].obs[\"celltype\"].value_counts()"
   ]
  },
  {
   "cell_type": "code",
   "execution_count": null,
   "metadata": {},
   "outputs": [],
   "source": [
    "rna_data.obs[\"celltype\"].value_counts()"
   ]
  },
  {
   "cell_type": "code",
   "execution_count": null,
   "metadata": {},
   "outputs": [],
   "source": [
    "rna_data.obs[\"score\"].max()"
   ]
  },
  {
   "cell_type": "code",
   "execution_count": null,
   "metadata": {},
   "outputs": [],
   "source": [
    "rna_data.obs[rna_data.obs[\"score\"] == 1.3427788075725315]\n"
   ]
  },
  {
   "cell_type": "markdown",
   "metadata": {},
   "source": [
    "## Correlation TF/region"
   ]
  },
  {
   "cell_type": "code",
   "execution_count": null,
   "metadata": {},
   "outputs": [],
   "source": [
    "# Convert sparse matrices to dense arrays and ensure same shape\n",
    "index_gene = rna_data.var_names.tolist().index(\"IKZF3\")\n",
    "index_region = scplus_mdata['scATAC_counts'].var_names.tolist().index(\"chr16:1989418-1989918\")\n",
    "\n",
    "rna_vec = scplus_mdata['scRNA_counts'].X[:, index_gene].toarray().reshape(-1)\n",
    "atac_vec = scplus_mdata['scATAC_counts'].X[:, index_region].reshape(-1)\n",
    "\n",
    "from scipy.stats import spearmanr, pearsonr\n",
    "print(spearmanr(rna_vec, atac_vec))\n",
    "print(pearsonr(rna_vec, atac_vec))\n"
   ]
  },
  {
   "cell_type": "markdown",
   "metadata": {},
   "source": [
    "## Create a cell type based on gene scoring"
   ]
  },
  {
   "cell_type": "code",
   "execution_count": null,
   "metadata": {},
   "outputs": [],
   "source": [
    "scplus_mdata.obs[\"celltype_2\"] = np.where(rna_data.obs['score'] > 0.6, \"meiotic\", \"non_meiotic\")\n",
    "scplus_mdata.obs[\"celltype_2\"].value_counts()"
   ]
  },
  {
   "cell_type": "code",
   "execution_count": null,
   "metadata": {},
   "outputs": [],
   "source": [
    "# Calculate rss with new cell types\n",
    "rss_2 = regulon_specificity_scores(\n",
    "    scplus_mudata = scplus_mdata,\n",
    "    variable = \"celltype_2\",\n",
    "    modalities = [\"direct_gene_based_AUC\", \"extended_gene_based_AUC\"]\n",
    ")"
   ]
  },
  {
   "cell_type": "code",
   "execution_count": null,
   "metadata": {},
   "outputs": [],
   "source": [
    "rss_2"
   ]
  },
  {
   "cell_type": "code",
   "execution_count": null,
   "metadata": {},
   "outputs": [],
   "source": [
    "# Calculate enrichment as difference between meiotic cells and others\n",
    "meiotic_avg = rss_2.loc[\"meiotic\"]\n",
    "other_avg = rss_2.loc[\"non_meiotic\"]\n",
    "enrichment = meiotic_avg - other_avg\n",
    "\n",
    "# Sort by enrichment and get top regulons\n",
    "top_meiotic_regulons_2 = enrichment.sort_values(ascending=False)\n",
    "print(\"Top 20 most enriched regulons in meiotic cells:\")\n",
    "print(top_meiotic_regulons_2.head(20))"
   ]
  },
  {
   "cell_type": "code",
   "execution_count": null,
   "metadata": {},
   "outputs": [],
   "source": [
    "meiotic_avg.sort_values(ascending=False).head(20)"
   ]
  },
  {
   "cell_type": "markdown",
   "metadata": {},
   "source": [
    "## Intersection with previous top regulons"
   ]
  },
  {
   "cell_type": "code",
   "execution_count": null,
   "metadata": {},
   "outputs": [],
   "source": [
    "intersection = top_meiotic_regulons_2.head(20).index.intersection(top_meiotic_regulons.head(20).index)\n",
    "print(len(intersection))\n",
    "intersection"
   ]
  },
  {
   "cell_type": "markdown",
   "metadata": {},
   "source": [
    "## Visualize regions from those eRegulons"
   ]
  },
  {
   "cell_type": "code",
   "execution_count": null,
   "metadata": {},
   "outputs": [],
   "source": [
    "from scenicplus.scenicplus_class import mudata_to_scenicplus\n",
    "scplus_obj = mudata_to_scenicplus(\n",
    "    mdata = scplus_mdata,\n",
    "    path_to_cistarget_h5 = \"/mnt/storage/outputs/meiotic_cells/scplus_pipeline/Snakemake/ctx_results.hdf5\",\n",
    "    path_to_dem_h5 = \"/mnt/storage/outputs/meiotic_cells/scplus_pipeline/Snakemake/dem_results.hdf5\"\n",
    ")\n"
   ]
  },
  {
   "cell_type": "code",
   "execution_count": null,
   "metadata": {},
   "outputs": [],
   "source": [
    "scplus_obj.metadata_cell['celltype_2'] = scplus_mdata.obs[\"celltype_2\"]"
   ]
  },
  {
   "cell_type": "code",
   "execution_count": null,
   "metadata": {},
   "outputs": [],
   "source": [
    "regulons_to_plot = intersection.tolist()[:6]\n",
    "regulons_to_plot = [regulon.split(\"_\")[0] + \"_\" + regulon.split(\"_\")[1] + \"_\" + regulon.split(\"_\")[2] for regulon in regulons_to_plot]\n",
    "regulons_to_plot"
   ]
  },
  {
   "cell_type": "code",
   "execution_count": null,
   "metadata": {},
   "outputs": [],
   "source": [
    "tfs_to_plot = [regulon.split(\"_\")[0] for regulon in regulons_to_plot]\n",
    "tfs_to_plot = list(set(tfs_to_plot))\n",
    "color_map = {tf: f\"C{i}\" for i, tf in enumerate(tfs_to_plot)}\n",
    "color_map"
   ]
  },
  {
   "cell_type": "code",
   "execution_count": null,
   "metadata": {},
   "outputs": [],
   "source": [
    "from scenicplus.networks import create_nx_tables, create_nx_graph\n",
    "nx_tables = create_nx_tables(scplus_obj, subset_eRegulons=regulons_to_plot,\n",
    "                             add_differential_gene_expression=True, # add_differential_region_accessibility=True, \n",
    "                             differential_variable=[\"celltype_2\"]\n",
    "                             )\n"
   ]
  },
  {
   "cell_type": "code",
   "execution_count": null,
   "metadata": {},
   "outputs": [],
   "source": [
    "nx_tables['Node']['TF']"
   ]
  },
  {
   "cell_type": "code",
   "execution_count": null,
   "metadata": {},
   "outputs": [],
   "source": [
    "#G, pos, edge_tables, node_tables = create_nx_graph(nx_tables)\n",
    "G, pos, edge_tables, node_tables = create_nx_graph(nx_tables, \n",
    "                   use_edge_tables = ['TF2R','R2G'],\n",
    "                   color_edge_by = {'TF2R': {'variable' : 'TF', 'category_color' : color_map},\n",
    "                                    'R2G': {'variable' : 'importance_x_rho', 'continuous_color' : 'viridis', 'v_min': -1, 'v_max': 1}},\n",
    "                   transparency_edge_by =  {'R2G': {'variable' : 'importance_R2G', 'min_alpha': 0.1, 'v_min': 0}},\n",
    "                   width_edge_by = {'R2G': {'variable' : 'importance_R2G', 'max_size' :  1.5, 'min_size' : 1}},\n",
    "                   shape_node_by = {\n",
    "                        'TF': {'variable': 'fixed_shape', 'fixed_shape': 'ellipse'},\n",
    "                        'Gene': {'variable': 'fixed_shape', 'fixed_shape': 'ellipse'},\n",
    "                        'Region': {'variable': 'fixed_shape', 'fixed_shape': 'diamond'}\n",
    "                   },\n",
    "\n",
    "                   color_node_by = {'TF': {'variable': 'TF', 'category_color' : color_map},\n",
    "                                   'Gene': {'variable': 'celltype_2_Log2FC_meiotic', 'continuous_color' : 'PiYG'}, # or use 'RdYlBu', 'RdGy', 'PiYG', 'PRGn', 'BrBG', 'RdYlGn', 'coolwarm', 'seismic'                                    \n",
    "                                    },\n",
    "                   transparency_node_by =  {'Gene': {'variable' : 'celltype_2_Log2FC_meiotic', 'min_alpha': 0.1}},\n",
    "                   size_node_by = {'TF': {'variable': 'fixed_size', 'fixed_size': 30},\n",
    "                                    'Gene': {'variable': 'fixed_size', 'fixed_size': 15},\n",
    "                                    'Region': {'variable': 'fixed_size', 'fixed_size': 10}},\n",
    "                   label_size_by = {'TF': {'variable': 'fixed_label_size', 'fixed_label_size': 20.0},\n",
    "                                    'Gene': {'variable': 'fixed_label_size', 'fixed_label_size': 5.0},\n",
    "                                    'Region': {'variable': 'fixed_label_size', 'fixed_label_size': 0.0}},\n",
    "                   layout='kamada_kawai_layout',\n",
    "                   scale_position_by=250)"
   ]
  },
  {
   "cell_type": "code",
   "execution_count": null,
   "metadata": {},
   "outputs": [],
   "source": [
    "from scenicplus.networks import plot_networkx\n",
    "plot_networkx(G, pos)\n"
   ]
  },
  {
   "cell_type": "code",
   "execution_count": null,
   "metadata": {},
   "outputs": [],
   "source": [
    "#from scenicplus.networks import export_to_cytoscape\n",
    "#export_to_cytoscape(G, pos, out_file = OUTPUT_PATH / \"meiotic_regulons_network.cyjs\")\n"
   ]
  },
  {
   "cell_type": "code",
   "execution_count": null,
   "metadata": {},
   "outputs": [],
   "source": [
    "# Normalize each to [0,1] range\n",
    "def normalize_series(series):\n",
    "    return (series - series.min()) / (series.max() - series.min())\n",
    "\n",
    "normalized_regulons_1 = normalize_series(top_meiotic_regulons)\n",
    "normalized_regulons_2 = normalize_series(top_meiotic_regulons_2)\n"
   ]
  },
  {
   "cell_type": "code",
   "execution_count": null,
   "metadata": {},
   "outputs": [],
   "source": [
    "normalized_regulons = pd.concat([normalized_regulons_1, normalized_regulons_2], axis=1)\n",
    "normalized_regulons.columns = ['Score3', 'Score4']\n",
    "normalized_regulons.to_csv(\"/mnt/windows/extradata/meiotic_cells/top_meiotic_regulons_ensemble_2.csv\", index=True)"
   ]
  },
  {
   "cell_type": "code",
   "execution_count": null,
   "metadata": {},
   "outputs": [],
   "source": [
    "test = pd.read_csv(\"/mnt/windows/extradata/meiotic_cells/top_meiotic_regulons_ensemble_1.csv\", index_col=0)\n",
    "test.head()\n"
   ]
  },
  {
   "cell_type": "code",
   "execution_count": null,
   "metadata": {},
   "outputs": [],
   "source": [
    "regulons = test.drop(columns = \"Score2\")"
   ]
  },
  {
   "cell_type": "code",
   "execution_count": null,
   "metadata": {},
   "outputs": [],
   "source": [
    "regulons.columns = [\"Score\"]\n",
    "regulons.sort_values(\"Score\", ascending=False, inplace=True)\n",
    "regulons.to_csv(\"/mnt/windows/extradata/meiotic_cells/top_meiotic_regulons_ensemble.csv\", index=True)"
   ]
  },
  {
   "cell_type": "code",
   "execution_count": null,
   "metadata": {},
   "outputs": [],
   "source": [
    "test = pd.read_csv(\"/mnt/windows/extradata/meiotic_cells/top_meiotic_regulons_ensemble.csv\", index_col=0)\n",
    "test.head()"
   ]
  },
  {
   "cell_type": "code",
   "execution_count": null,
   "metadata": {},
   "outputs": [],
   "source": [
    "def regulons_to_tf_scores(regulons):\n",
    "    df = regulons.to_frame(name='Score')\n",
    "    df['TF'] = df.index.str.split('_').str[0]\n",
    "    return df.groupby('TF').mean()\n",
    "\n",
    "normalized_tfs_1 = regulons_to_tf_scores(normalized_regulons_1)\n",
    "normalized_tfs_2 = regulons_to_tf_scores(normalized_regulons_2)\n",
    "\n",
    "normalized_tfs = pd.concat([normalized_tfs_1, normalized_tfs_2], axis=1)\n",
    "normalized_tfs.columns = ['TopTFS1', 'TopTFS2']\n",
    "#normalized_tfs.to_csv(Path(os.getenv('OUTPUT_PATH')) / \"meiotic_cells/top_meiotic_tfs_ensemble.csv\", index=True)\n"
   ]
  },
  {
   "cell_type": "code",
   "execution_count": null,
   "metadata": {},
   "outputs": [],
   "source": [
    "combined_tfs_previous = pd.read_csv(\"/mnt/windows/extradata/meiotic_cells/top_meiotic_regulons_ensemble_1.csv\", index_col=0)\n",
    "combined_tfs = pd.concat([combined_tfs_previous, normalized_regulons], axis=1)\n",
    "#combined_tfs.to_csv(Path(os.getenv('OUTPUT_PATH')) / \"meiotic_cells/top_meiotic_tfs_ensemble.csv\", index=True)\n"
   ]
  },
  {
   "cell_type": "code",
   "execution_count": null,
   "metadata": {},
   "outputs": [],
   "source": [
    "combined_tfs.fillna(0, inplace=True)\n"
   ]
  },
  {
   "cell_type": "code",
   "execution_count": null,
   "metadata": {},
   "outputs": [],
   "source": [
    "combined_tfs['AvgScore'] = combined_tfs.mean(axis=1)\n",
    "combined_tfs.sort_values(by='AvgScore', ascending=False, inplace=True)\n"
   ]
  },
  {
   "cell_type": "code",
   "execution_count": null,
   "metadata": {},
   "outputs": [],
   "source": [
    "#combined_tfs.to_csv(\"/mnt/windows/extradata/meiotic_cells/top_meiotic_regulons_ensemble.csv\", index=True)"
   ]
  },
  {
   "cell_type": "code",
   "execution_count": null,
   "metadata": {},
   "outputs": [],
   "source": [
    "test = pd.read_csv(\"/mnt/windows/extradata/meiotic_cells/top_meiotic_regulons_ensemble.csv\", index_col=0)\n"
   ]
  },
  {
   "cell_type": "code",
   "execution_count": null,
   "metadata": {},
   "outputs": [],
   "source": [
    "test.head(20)"
   ]
  },
  {
   "cell_type": "code",
   "execution_count": null,
   "metadata": {},
   "outputs": [],
   "source": [
    "plt.figure(figsize=(12, 6))\n",
    "plt.bar(regulons.head(20).index, regulons.head(20)['Score'])\n",
    "plt.xticks(rotation=90)\n",
    "plt.ylabel('Score')\n",
    "plt.xlabel('eRegulons')\n",
    "plt.title('eRegulon score')\n",
    "plt.tight_layout()\n",
    "plt.savefig('/mnt/storage/outputs/garcia_ATAC/outputs/top20_eRegulons.svg', format='svg')\n",
    "plt.show()"
   ]
  },
  {
   "cell_type": "code",
   "execution_count": null,
   "metadata": {},
   "outputs": [],
   "source": [
    "tfs_df = test.copy()\n",
    "tfs_df['TF'] = tfs_df.index.str.split('_').str[0]\n",
    "tfs_df = tfs_df.groupby('TF').mean().sort_values(\"Score\", ascending=False)\n",
    "tfs_df"
   ]
  },
  {
   "cell_type": "code",
   "execution_count": null,
   "metadata": {},
   "outputs": [],
   "source": [
    "import matplotlib.pyplot as plt\n",
    "\n",
    "plt.figure(figsize=(12, 6))\n",
    "plt.bar(tfs_df.head(20).index, tfs_df.head(20)['Score'])\n",
    "plt.xticks(rotation=90)\n",
    "plt.ylabel('Score')\n",
    "plt.xlabel('TFs')\n",
    "plt.title('TF Score')\n",
    "plt.tight_layout()\n",
    "plt.show()"
   ]
  },
  {
   "cell_type": "code",
   "execution_count": null,
   "metadata": {},
   "outputs": [],
   "source": [
    "tfs_df.to_csv(\"/mnt/windows/extradata/meiotic_cells/top_meiotic_TFs.csv\", index=True)"
   ]
  },
  {
   "cell_type": "code",
   "execution_count": null,
   "metadata": {},
   "outputs": [],
   "source": [
    "test = pd.read_csv(\"/mnt/windows/extradata/meiotic_cells/top_meiotic_TFs.csv\", index_col=0)\n",
    "test.head()"
   ]
  },
  {
   "cell_type": "code",
   "execution_count": null,
   "metadata": {},
   "outputs": [],
   "source": []
  }
 ],
 "metadata": {
  "kernelspec": {
   "display_name": "scenicplus",
   "language": "python",
   "name": "python3"
  },
  "language_info": {
   "codemirror_mode": {
    "name": "ipython",
    "version": 3
   },
   "file_extension": ".py",
   "mimetype": "text/x-python",
   "name": "python",
   "nbconvert_exporter": "python",
   "pygments_lexer": "ipython3",
   "version": "3.11.8"
  }
 },
 "nbformat": 4,
 "nbformat_minor": 2
}
