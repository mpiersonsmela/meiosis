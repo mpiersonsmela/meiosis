{
 "cells": [
  {
   "cell_type": "code",
   "execution_count": null,
   "metadata": {},
   "outputs": [],
   "source": [
    "import pybedtools\n",
    "import pandas as pd\n",
    "import matplotlib.pyplot as plt\n",
    "import seaborn as sns\n",
    "import os\n",
    "from pathlib import Path\n",
    "from dotenv import load_dotenv\n",
    "\n",
    "load_dotenv()\n",
    "DATA_PATH = Path(os.getenv(\"DATA_PATH\"))/'garcia_ATAC'\n"
   ]
  },
  {
   "cell_type": "code",
   "execution_count": null,
   "metadata": {},
   "outputs": [],
   "source": [
    "oogonia_meiotic_peak_paths = '/mnt/windows/extradata/meiotic_cells/atac_preprocessing/oogonia_meiotic.bed'\n",
    "peaks_bed_meiotic = pybedtools.BedTool(oogonia_meiotic_peak_paths)\n",
    "\n",
    "oogonia_STRA8_peak_paths = '/mnt/windows/extradata/meiotic_cells/atac_preprocessing/oogonia_STRA8.bed'\n",
    "peaks_bed_STRA8 = pybedtools.BedTool(oogonia_STRA8_peak_paths)\n"
   ]
  },
  {
   "cell_type": "code",
   "execution_count": null,
   "metadata": {},
   "outputs": [],
   "source": [
    "peaks_bed = peaks_bed_meiotic.cat(peaks_bed_STRA8)"
   ]
  },
  {
   "cell_type": "code",
   "execution_count": null,
   "metadata": {},
   "outputs": [],
   "source": [
    "peaks_bed.head()"
   ]
  },
  {
   "cell_type": "code",
   "execution_count": null,
   "metadata": {},
   "outputs": [],
   "source": [
    "print(f'total_peaks: {len(peaks_bed)}')\n",
    "print(f'total_coverage: {sum(peak.length for peak in peaks_bed)}')\n",
    "    "
   ]
  },
  {
   "cell_type": "code",
   "execution_count": null,
   "metadata": {},
   "outputs": [],
   "source": [
    "\n",
    "feature_beds = {\n",
    "    'promoters': DATA_PATH / 'feature_annotation/Hs_EPDnew_006_hg38_900up400down.bed',\n",
    "    'TEs': DATA_PATH / 'feature_annotation/2024-01-06_RepeatMasker_UCSC_Export.bed'\n",
    "}\n"
   ]
  },
  {
   "cell_type": "code",
   "execution_count": null,
   "metadata": {},
   "outputs": [],
   "source": [
    "feature = pybedtools.BedTool(feature_beds['promoters'])\n"
   ]
  },
  {
   "cell_type": "code",
   "execution_count": null,
   "metadata": {},
   "outputs": [],
   "source": [
    "overlaps = peaks_bed.intersect(feature, u = True)\n",
    "overlaps"
   ]
  },
  {
   "cell_type": "code",
   "execution_count": null,
   "metadata": {},
   "outputs": [],
   "source": [
    "len(overlaps)"
   ]
  },
  {
   "cell_type": "code",
   "execution_count": null,
   "metadata": {},
   "outputs": [],
   "source": [
    "len(overlaps)"
   ]
  },
  {
   "cell_type": "code",
   "execution_count": null,
   "metadata": {},
   "outputs": [],
   "source": [
    "len(peaks_bed), len(feature)\n"
   ]
  },
  {
   "cell_type": "code",
   "execution_count": null,
   "metadata": {},
   "outputs": [],
   "source": [
    "def analyze_overlap(atac_peaks, feature_name, feature_bed):       \n",
    "    results = []\n",
    "    feature = pybedtools.BedTool(feature_bed)\n",
    "    overlaps = atac_peaks.intersect(feature, u=True)\n",
    "    \n",
    "    # Calculate base coverage\n",
    "    total_peaks = len(atac_peaks)\n",
    "    total_features = len(feature)\n",
    "    total_overlaps = len(overlaps)\n",
    "    total_peak_bases = sum(peak.length for peak in atac_peaks)\n",
    "    total_feature_bases = sum(f.length for f in feature)\n",
    "\n",
    "\n",
    "    results.append({\n",
    "        'feature_type': feature_name,        \n",
    "        'percent_of_peaks_intersecting_at_least_once': (total_overlaps / total_peaks) * 100,\n",
    "        'total_DARs_peaks': total_peaks,\n",
    "        'total_features': total_features,        \n",
    "        'total_peak_bases': total_peak_bases,\n",
    "        'total_feature_bases': total_feature_bases\n",
    "        })\n",
    "    \n",
    "    return pd.DataFrame(results)"
   ]
  },
  {
   "cell_type": "code",
   "execution_count": null,
   "metadata": {},
   "outputs": [],
   "source": [
    "all_results = []\n",
    "for name, bed in feature_beds.items():\n",
    "    print(name)\n",
    "    all_results.append(analyze_overlap(peaks_bed, name, bed))\n",
    "\n",
    "all_results_df = pd.concat(all_results)\n",
    "all_results_df\n"
   ]
  }
 ],
 "metadata": {
  "kernelspec": {
   "display_name": "scenicplus",
   "language": "python",
   "name": "python3"
  },
  "language_info": {
   "codemirror_mode": {
    "name": "ipython",
    "version": 3
   },
   "file_extension": ".py",
   "mimetype": "text/x-python",
   "name": "python",
   "nbconvert_exporter": "python",
   "pygments_lexer": "ipython3",
   "version": "3.11.8"
  }
 },
 "nbformat": 4,
 "nbformat_minor": 2
}
