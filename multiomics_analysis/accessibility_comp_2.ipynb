{
 "cells": [
  {
   "cell_type": "code",
   "execution_count": null,
   "metadata": {},
   "outputs": [],
   "source": [
    "import pybedtools\n",
    "import pandas as pd\n",
    "import matplotlib.pyplot as plt\n",
    "import seaborn as sns\n",
    "import os\n",
    "from pathlib import Path\n",
    "from dotenv import load_dotenv\n",
    "import scanpy as sc\n",
    "\n",
    "load_dotenv()\n",
    "DATA_PATH = Path(os.getenv(\"OUTPUT_PATH\"))/'garcia_ATAC'\n"
   ]
  },
  {
   "cell_type": "markdown",
   "metadata": {},
   "source": [
    "# Clustering comparison"
   ]
  },
  {
   "cell_type": "code",
   "execution_count": null,
   "metadata": {},
   "outputs": [],
   "source": [
    "# Load cisTopic objects\n",
    "import pickle\n",
    "cistopic_obj_meiotic = pickle.load(open('/mnt/windows/extradata/meiotic_cells/atac_preprocessing/cistopic_obj.pkl', \"rb\"))"
   ]
  },
  {
   "cell_type": "code",
   "execution_count": null,
   "metadata": {},
   "outputs": [],
   "source": [
    "cistopic_obj_garcia = pickle.load(open(DATA_PATH / 'atac_preprocessing/cistopic_obj.pkl', \"rb\"))"
   ]
  },
  {
   "cell_type": "code",
   "execution_count": null,
   "metadata": {},
   "outputs": [],
   "source": [
    "len(cistopic_obj_meiotic.region_names)"
   ]
  },
  {
   "cell_type": "code",
   "execution_count": null,
   "metadata": {},
   "outputs": [],
   "source": [
    "len(cistopic_obj_garcia.region_names)"
   ]
  },
  {
   "cell_type": "code",
   "execution_count": null,
   "metadata": {},
   "outputs": [],
   "source": [
    "# First, create BED files with cisTopic region names\n",
    "def create_bed_from_region_names(region_names):\n",
    "    \"\"\"Convert cisTopic region names to BED format\"\"\"\n",
    "    regions = []\n",
    "    for name in region_names:\n",
    "        chrom, coords = name.split(':')\n",
    "        start, end = coords.split('-')\n",
    "        regions.append([chrom, int(start), int(end), name])\n",
    "    return pybedtools.BedTool(regions)\n"
   ]
  },
  {
   "cell_type": "code",
   "execution_count": null,
   "metadata": {},
   "outputs": [],
   "source": [
    "\n",
    "# Create BED files with correct names\n",
    "meiotic_regions_bed = create_bed_from_region_names(cistopic_obj_meiotic.region_names)\n",
    "garcia_regions_bed = create_bed_from_region_names(cistopic_obj_garcia.region_names)\n"
   ]
  },
  {
   "cell_type": "code",
   "execution_count": null,
   "metadata": {},
   "outputs": [],
   "source": [
    "from scipy import sparse\n",
    "\n",
    "def calculate_overlap_weights_vectorized(original_regions_bed, unified_regions_bed):\n",
    "    \"\"\"Vectorized version of overlap weight calculation\"\"\"\n",
    "    # Get intersections as a dataframe\n",
    "    overlaps_df = unified_regions_bed.intersect(original_regions_bed, wo=True).to_dataframe()\n",
    "    \n",
    "    # Calculate weights using pandas operations\n",
    "    overlaps_df['weight'] = overlaps_df.iloc[:, -1].astype(float) / (\n",
    "        overlaps_df.iloc[:, 2] - overlaps_df.iloc[:, 1]\n",
    "    )\n",
    "    \n",
    "    # Create region names\n",
    "    overlaps_df['orig_region'] = overlaps_df.iloc[:, 7]\n",
    "    overlaps_df['unified_region'] = overlaps_df.iloc[:, 3]\n",
    "    \n",
    "    # Get ALL regions (not just those with overlaps)\n",
    "    all_unified_regions = [f\"{r.chrom}:{r.start}-{r.end}\" for r in unified_regions_bed]\n",
    "    all_original_regions = [f\"{r.chrom}:{r.start}-{r.end}\" for r in original_regions_bed]\n",
    "\n",
    "    # Create unique indices for regions\n",
    "    orig_to_idx = {region: idx for idx, region in enumerate(all_original_regions)}\n",
    "    unified_to_idx = {region: idx for idx, region in enumerate(all_unified_regions)}\n",
    "    \n",
    "    # Create sparse matrix of weights\n",
    "    rows = [orig_to_idx[r] for r in overlaps_df['orig_region']]\n",
    "    cols = [unified_to_idx[r] for r in overlaps_df['unified_region']]\n",
    "    weights = overlaps_df['weight'].values\n",
    "    \n",
    "    weight_matrix = sparse.csr_matrix(\n",
    "        (weights, (rows, cols)),\n",
    "        shape=(len(all_original_regions), len(all_unified_regions))\n",
    "    )\n",
    "    print(weight_matrix.max())\n",
    "    return weight_matrix"
   ]
  },
  {
   "cell_type": "code",
   "execution_count": null,
   "metadata": {},
   "outputs": [],
   "source": [
    "overlaps_df = meiotic_regions_bed.intersect(garcia_regions_bed, wo=True).to_dataframe()\n",
    "overlaps_df"
   ]
  },
  {
   "cell_type": "code",
   "execution_count": null,
   "metadata": {},
   "outputs": [],
   "source": [
    "df = meiotic_regions_bed.to_dataframe()\n",
    "df.loc[df['name'] == 'chr7:20797993-20798493']"
   ]
  },
  {
   "cell_type": "code",
   "execution_count": null,
   "metadata": {},
   "outputs": [],
   "source": [
    "overlaps_df['orig_region'] = overlaps_df.iloc[:, 3]\n",
    "orig_regions = overlaps_df['orig_region'].unique()\n",
    "print(len(overlaps_df), len(orig_regions))"
   ]
  },
  {
   "cell_type": "code",
   "execution_count": null,
   "metadata": {},
   "outputs": [],
   "source": [
    "# Calculate weights using the new BED files\n",
    "meiotic_weight_matrix = calculate_overlap_weights_vectorized(meiotic_regions_bed, garcia_regions_bed)"
   ]
  },
  {
   "cell_type": "code",
   "execution_count": null,
   "metadata": {},
   "outputs": [],
   "source": [
    "meiotic_weight_matrix.min()"
   ]
  },
  {
   "cell_type": "code",
   "execution_count": null,
   "metadata": {},
   "outputs": [],
   "source": [
    "def redistribute_counts_vectorized(matrix, weight_matrix, unified_regions):\n",
    "    \"\"\"Vectorized version of count redistribution\"\"\"\n",
    "    print(f\"Input matrix shape: {matrix.shape}\")\n",
    "    print(f\"Weight matrix shape: {weight_matrix.shape}\")    \n",
    "    print(f\"Number of unified regions: {len(unified_regions)}\")\n",
    "    \n",
    "    # Ensure matrix is in CSR format for efficient operations\n",
    "    matrix = sparse.csr_matrix(matrix)\n",
    "    weight_matrix = sparse.csr_matrix(weight_matrix)\n",
    "    \n",
    "    # Process in chunks to save memory\n",
    "    chunk_size = 1000\n",
    "    n_chunks = (matrix.shape[1] + chunk_size - 1) // chunk_size\n",
    "    result_chunks = []\n",
    "    \n",
    "    for i in range(n_chunks):\n",
    "        start_idx = i * chunk_size\n",
    "        end_idx = min((i + 1) * chunk_size, matrix.shape[1])\n",
    "        print(f\"Processing chunk {i+1}/{n_chunks}\")\n",
    "        \n",
    "        # Process chunk of the transposed matrix\n",
    "        chunk = matrix[:, start_idx:end_idx].T\n",
    "        chunk_result = chunk.dot(weight_matrix)\n",
    "        result_chunks.append(chunk_result)\n",
    "    \n",
    "    # Vertically stack the results\n",
    "    final_matrix = sparse.vstack(result_chunks)\n",
    "    \n",
    "    # Convert to DataFrame\n",
    "    return final_matrix\n",
    "\n"
   ]
  },
  {
   "cell_type": "code",
   "execution_count": null,
   "metadata": {},
   "outputs": [],
   "source": [
    "# Redistribute counts using vectorized approach\n",
    "meiotic_unified = redistribute_counts_vectorized(\n",
    "    cistopic_obj_meiotic.fragment_matrix, \n",
    "    meiotic_weight_matrix, \n",
    "    garcia_regions_bed\n",
    ")\n"
   ]
  },
  {
   "cell_type": "code",
   "execution_count": null,
   "metadata": {},
   "outputs": [],
   "source": [
    "import anndata as ad\n",
    "\n",
    "# Create AnnData objects\n",
    "adata_meiotic = ad.AnnData(X=meiotic_unified, \n",
    "            obs=pd.DataFrame(index=cistopic_obj_meiotic.cell_names), \n",
    "            var=pd.DataFrame(index=cistopic_obj_garcia.region_names))\n",
    "\n",
    "adata_garcia = ad.AnnData(X=cistopic_obj_garcia.fragment_matrix.T, \n",
    "            obs=pd.DataFrame(index=cistopic_obj_garcia.cell_names), \n",
    "            var=pd.DataFrame(index=cistopic_obj_garcia.region_names))\n",
    "\n",
    "# Add some metadata\n",
    "adata_meiotic.obs['dataset'] = 'meiotic'\n",
    "adata_garcia.obs['dataset'] = 'garcia'"
   ]
  },
  {
   "cell_type": "code",
   "execution_count": null,
   "metadata": {},
   "outputs": [],
   "source": [
    "#adata_combined = ad.concat([adata_meiotic, adata_garcia], join='inner')"
   ]
  },
  {
   "cell_type": "code",
   "execution_count": null,
   "metadata": {},
   "outputs": [],
   "source": [
    "##adata_combined"
   ]
  },
  {
   "cell_type": "code",
   "execution_count": null,
   "metadata": {},
   "outputs": [],
   "source": [
    "#adata_combined.X.toarray().max()"
   ]
  },
  {
   "cell_type": "code",
   "execution_count": null,
   "metadata": {},
   "outputs": [],
   "source": [
    "# import scanpy as sc\n",
    "# # Process the combined data\n",
    "# sc.pp.normalize_total(adata_combined)\n",
    "# sc.pp.log1p(adata_combined)\n",
    "# sc.pp.pca(adata_combined)\n",
    "# sc.pp.neighbors(adata_combined)\n",
    "# sc.tl.umap(adata_combined)\n",
    "\n",
    "# # Plot\n",
    "# fig, (ax1, ax2) = plt.subplots(1, 2, figsize=(12, 5))\n",
    "# sc.pl.umap(adata_combined, color=\"dataset\", ax=ax1, show=False, title='Datasets')\n",
    "# #sc.pl.umap(adata_combined, color=\"celltype\", ax=ax2, show=False, title='Cell Types')\n",
    "# plt.tight_layout()\n",
    "# plt.show()"
   ]
  },
  {
   "cell_type": "code",
   "execution_count": null,
   "metadata": {},
   "outputs": [],
   "source": [
    "# Also do ingest, like in celltype_inget.ipynb to get them nicely aligned."
   ]
  },
  {
   "cell_type": "code",
   "execution_count": null,
   "metadata": {},
   "outputs": [],
   "source": [
    "import scanpy as sc"
   ]
  },
  {
   "cell_type": "code",
   "execution_count": null,
   "metadata": {},
   "outputs": [],
   "source": [
    "adata_garcia.obs['celltype'] = cistopic_obj_garcia.cell_data.celltype"
   ]
  },
  {
   "cell_type": "code",
   "execution_count": null,
   "metadata": {},
   "outputs": [],
   "source": [
    "adata_garcia = adata_garcia[~adata_garcia.obs.celltype.isna()].copy()"
   ]
  },
  {
   "cell_type": "code",
   "execution_count": null,
   "metadata": {},
   "outputs": [],
   "source": [
    "adata_garcia.shape"
   ]
  },
  {
   "cell_type": "code",
   "execution_count": null,
   "metadata": {},
   "outputs": [],
   "source": [
    "adata_meiotic.obs['celltype'] = cistopic_obj_meiotic.cell_data.celltype"
   ]
  },
  {
   "cell_type": "code",
   "execution_count": null,
   "metadata": {},
   "outputs": [],
   "source": [
    "adata_meiotic.shape"
   ]
  },
  {
   "cell_type": "code",
   "execution_count": null,
   "metadata": {},
   "outputs": [],
   "source": [
    "adata_meiotic = adata_meiotic[~adata_meiotic.obs.celltype.isna()].copy()"
   ]
  },
  {
   "cell_type": "code",
   "execution_count": null,
   "metadata": {},
   "outputs": [],
   "source": [
    "adata_meiotic.shape"
   ]
  },
  {
   "cell_type": "code",
   "execution_count": null,
   "metadata": {},
   "outputs": [],
   "source": [
    "# Filter garcia to germ cells only\n",
    "germ_celltypes = list(adata_meiotic.obs['celltype'].unique())"
   ]
  },
  {
   "cell_type": "code",
   "execution_count": null,
   "metadata": {},
   "outputs": [],
   "source": [
    "adata_garcia = adata_garcia[adata_garcia.obs.celltype.isin(germ_celltypes)].copy()"
   ]
  },
  {
   "cell_type": "code",
   "execution_count": null,
   "metadata": {},
   "outputs": [],
   "source": [
    "adata_garcia.shape, adata_garcia.obs['celltype'].unique()"
   ]
  },
  {
   "cell_type": "code",
   "execution_count": null,
   "metadata": {},
   "outputs": [],
   "source": [
    "sc.pp.normalize_total(adata_garcia)\n",
    "sc.pp.log1p(adata_garcia)\n",
    "sc.pp.pca(adata_garcia)\n",
    "sc.pp.neighbors(adata_garcia)\n",
    "sc.tl.umap(adata_garcia)"
   ]
  },
  {
   "cell_type": "code",
   "execution_count": null,
   "metadata": {},
   "outputs": [],
   "source": [
    "sc.pp.normalize_total(adata_meiotic)\n",
    "sc.pp.log1p(adata_meiotic)\n",
    "sc.pp.pca(adata_meiotic)\n",
    "sc.pp.neighbors(adata_meiotic)\n",
    "sc.tl.umap(adata_meiotic)"
   ]
  },
  {
   "cell_type": "code",
   "execution_count": null,
   "metadata": {},
   "outputs": [],
   "source": [
    "adata_meiotic.write_h5ad(DATA_PATH / \"adata_meiotic_intersection.h5ad\")\n",
    "adata_garcia.write_h5ad(DATA_PATH / \"adata_garcia_intersection.h5ad\")\n"
   ]
  },
  {
   "cell_type": "code",
   "execution_count": null,
   "metadata": {},
   "outputs": [],
   "source": [
    "adata_meiotic = sc.read_h5ad(DATA_PATH / \"adata_meiotic_intersection.h5ad\")\n",
    "adata_garcia = sc.read_h5ad(DATA_PATH / \"adata_garcia_intersection.h5ad\")"
   ]
  },
  {
   "cell_type": "code",
   "execution_count": null,
   "metadata": {},
   "outputs": [],
   "source": [
    "adata_meiotic.shape, adata_garcia.shape"
   ]
  },
  {
   "cell_type": "code",
   "execution_count": null,
   "metadata": {},
   "outputs": [],
   "source": [
    "# Ingest the new data into the reference\n",
    "sc.tl.ingest(adata_meiotic, adata_garcia)"
   ]
  },
  {
   "cell_type": "code",
   "execution_count": null,
   "metadata": {},
   "outputs": [],
   "source": [
    "from matplotlib import pyplot as plt\n",
    "\n",
    "# Plot\n",
    "fig, (ax1, ax2) = plt.subplots(1, 2, figsize=(12, 5))\n",
    "sc.pl.umap(adata_garcia, ax=ax1, color = \"celltype\", show=False, title='Garcia')\n",
    "sc.pl.umap(adata_meiotic, ax=ax2, color = \"celltype\", show=False, title='Meiotic')\n",
    "plt.tight_layout()\n",
    "plt.show()"
   ]
  }
 ],
 "metadata": {
  "kernelspec": {
   "display_name": "scenicplus",
   "language": "python",
   "name": "python3"
  },
  "language_info": {
   "codemirror_mode": {
    "name": "ipython",
    "version": 3
   },
   "file_extension": ".py",
   "mimetype": "text/x-python",
   "name": "python",
   "nbconvert_exporter": "python",
   "pygments_lexer": "ipython3",
   "version": "3.11.8"
  }
 },
 "nbformat": 4,
 "nbformat_minor": 2
}
