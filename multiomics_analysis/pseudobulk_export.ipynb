{
 "cells": [
  {
   "cell_type": "code",
   "execution_count": null,
   "metadata": {},
   "outputs": [],
   "source": [
    "import os\n",
    "import pycisTopic\n",
    "from dotenv import load_dotenv\n",
    "from pathlib import Path\n",
    "import pandas as pd\n",
    "import numpy as np\n",
    "\n",
    "load_dotenv()\n",
    "\n",
    "out_dir = Path(os.getenv(\"OUTPUT_PATH\")) / \"garcia_ATAC/atac_preprocessing_combined\""
   ]
  },
  {
   "cell_type": "code",
   "execution_count": null,
   "metadata": {},
   "outputs": [],
   "source": [
    "import pickle\n",
    "cistopic_obj = pickle.load(open(os.path.join(out_dir, \"cistopic_obj.pkl\"), \"rb\"))\n",
    "fragment_matrix = cistopic_obj.fragment_matrix"
   ]
  },
  {
   "cell_type": "code",
   "execution_count": null,
   "metadata": {},
   "outputs": [],
   "source": [
    "fragment_matrix"
   ]
  },
  {
   "cell_type": "code",
   "execution_count": null,
   "metadata": {},
   "outputs": [],
   "source": [
    "# Create a dataframe that has cell_id as rows, peaks as columns (or vice versa)\n",
    "df_counts = pd.DataFrame.sparse.from_spmatrix(fragment_matrix, index=cistopic_obj.region_names, columns=cistopic_obj.cell_names)\n",
    "\n",
    "# Merge cell_type and sample info\n",
    "cell_info = cistopic_obj.cell_data[[\"sample\", \"celltype\"]]\n",
    "\n",
    "# For each cell_type–sample combo, sum the counts\n",
    "pseudobulk_counts = []\n",
    "for (ctype, smp), subset_ix in cell_info.groupby(['celltype', 'sample']).groups.items():\n",
    "    summed_counts = df_counts.loc[:, subset_ix].sum(axis=1)\n",
    "    # Name that row something like ctype_sample\n",
    "    pseudobulk_counts.append(summed_counts.rename(f'{ctype}X{smp}'))\n",
    "\n",
    "# Combine into a single pseudobulk df\n",
    "df_pseudobulk = pd.concat(pseudobulk_counts, axis=1)\n"
   ]
  },
  {
   "cell_type": "code",
   "execution_count": null,
   "metadata": {},
   "outputs": [],
   "source": [
    "df_pseudobulk"
   ]
  },
  {
   "cell_type": "code",
   "execution_count": null,
   "metadata": {},
   "outputs": [],
   "source": [
    "df_pseudobulk.to_csv(out_dir / \"pseudobulk_export.csv\", sep = \",\")"
   ]
  },
  {
   "cell_type": "code",
   "execution_count": null,
   "metadata": {},
   "outputs": [],
   "source": [
    "test = pd.read_csv(out_dir / \"pseudobulk_export.csv\", index_col=0)"
   ]
  },
  {
   "cell_type": "code",
   "execution_count": null,
   "metadata": {},
   "outputs": [],
   "source": [
    "test"
   ]
  },
  {
   "cell_type": "code",
   "execution_count": null,
   "metadata": {},
   "outputs": [],
   "source": []
  }
 ],
 "metadata": {
  "kernelspec": {
   "display_name": "scenicplus",
   "language": "python",
   "name": "python3"
  },
  "language_info": {
   "codemirror_mode": {
    "name": "ipython",
    "version": 3
   },
   "file_extension": ".py",
   "mimetype": "text/x-python",
   "name": "python",
   "nbconvert_exporter": "python",
   "pygments_lexer": "ipython3",
   "version": "3.11.8"
  }
 },
 "nbformat": 4,
 "nbformat_minor": 2
}
