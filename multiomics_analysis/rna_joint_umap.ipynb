{
 "cells": [
  {
   "cell_type": "code",
   "execution_count": null,
   "metadata": {},
   "outputs": [],
   "source": [
    "import os\n",
    "from pathlib import Path\n",
    "import pandas as pd\n",
    "from dotenv import load_dotenv\n",
    "import scanpy as sc\n",
    "import anndata\n",
    "import numpy as np\n",
    "import seaborn as sns\n",
    "import matplotlib.pyplot as plt\n",
    "load_dotenv()\n",
    "\n",
    "DATA_PATH = Path('/mnt/windows/extradata/')\n",
    "DATA_PATH_2 = Path(os.getenv(\"DATA_PATH\")) / \"garcia_ATAC\""
   ]
  },
  {
   "cell_type": "code",
   "execution_count": null,
   "metadata": {},
   "outputs": [],
   "source": [
    "meiotic_cells = sc.read_h5ad(DATA_PATH / 'meiotic_cells/meiotic_merged/preprocessed/merged_preprocessed_data.h5ad')\n",
    "meiotic_cell_types = pd.read_csv(DATA_PATH / 'meiotic_cells/meiotic_merged/preprocessed/cell_data.csv', index_col=0)\n",
    "meiotic_cells.obs['celltype'] = meiotic_cell_types['celltype']"
   ]
  },
  {
   "cell_type": "code",
   "execution_count": null,
   "metadata": {},
   "outputs": [],
   "source": [
    "garcia_cells = sc.read_h5ad(DATA_PATH_2 / 'combined_samples.h5ad')\n",
    "garcia_cells.obs_names_make_unique()\n"
   ]
  },
  {
   "cell_type": "code",
   "execution_count": null,
   "metadata": {},
   "outputs": [],
   "source": [
    "common_genes = meiotic_cells.var_names.intersection(garcia_cells.var_names)\n",
    "garcia_cells = garcia_cells[:, common_genes]\n",
    "meiotic_cells = meiotic_cells[:, common_genes]"
   ]
  },
  {
   "cell_type": "code",
   "execution_count": null,
   "metadata": {},
   "outputs": [],
   "source": [
    "sc.pp.normalize_total(garcia_cells, target_sum=1e4)\n",
    "sc.pp.log1p(garcia_cells)"
   ]
  },
  {
   "cell_type": "code",
   "execution_count": null,
   "metadata": {},
   "outputs": [],
   "source": [
    "garcia_cells.obs[\"dataset\"] = \"garcia_RNA\"\n",
    "meiotic_cells.obs[\"dataset\"] = \"our_meiotic_cells\"\n",
    "combined = anndata.concat([garcia_cells, meiotic_cells])"
   ]
  },
  {
   "cell_type": "code",
   "execution_count": null,
   "metadata": {},
   "outputs": [],
   "source": [
    "sc.pp.neighbors(combined)\n",
    "sc.tl.umap(combined)"
   ]
  },
  {
   "cell_type": "code",
   "execution_count": null,
   "metadata": {},
   "outputs": [],
   "source": [
    "# Plot\n",
    "fig, (ax1, ax2) = plt.subplots(1, 2, figsize=(12, 5))\n",
    "sc.pl.umap(combined, color=\"dataset\", ax=ax1, show=False, title='Datasets')\n",
    "sc.pl.umap(combined, color=\"celltype\", ax=ax2, show=False, title='Cell Types')\n",
    "plt.tight_layout()\n",
    "plt.savefig('/mnt/storage/outputs/garcia_ATAC/outputs/rna_joint_UMAP.png', format='png')\n",
    "plt.show()"
   ]
  }
 ],
 "metadata": {
  "kernelspec": {
   "display_name": "ovelle_research",
   "language": "python",
   "name": "python3"
  },
  "language_info": {
   "codemirror_mode": {
    "name": "ipython",
    "version": 3
   },
   "file_extension": ".py",
   "mimetype": "text/x-python",
   "name": "python",
   "nbconvert_exporter": "python",
   "pygments_lexer": "ipython3",
   "version": "3.12.7"
  }
 },
 "nbformat": 4,
 "nbformat_minor": 2
}
