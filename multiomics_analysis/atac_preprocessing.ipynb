{
 "cells": [
  {
   "cell_type": "code",
   "execution_count": null,
   "metadata": {},
   "outputs": [],
   "source": [
    "import os\n",
    "import pycisTopic\n",
    "from dotenv import load_dotenv\n",
    "from pathlib import Path\n",
    "import pandas as pd\n",
    "\n",
    "load_dotenv()\n"
   ]
  },
  {
   "cell_type": "code",
   "execution_count": null,
   "metadata": {},
   "outputs": [],
   "source": [
    "out_dir = Path(os.getenv(\"OUTPUT_PATH\")) / \"garcia_ATAC/atac_preprocessing_allcelltypes\"\n",
    "os.makedirs(out_dir, exist_ok=True)\n",
    "path_to_regions = os.path.join(out_dir, \"consensus_peak_calling/consensus_regions.bed\")\n",
    "path_to_blacklist = str(Path(os.getenv(\"RESOURCES_PATH\")) / \"scenicplus/hg38-blacklist.v2.bed\")\n",
    "pycistopic_qc_output_dir = os.path.join(out_dir, \"qc\")\n",
    "\n",
    "DATA_PATH = Path(os.getenv(\"DATA_PATH\")) / \"garcia_ATAC\"\n",
    "fragments_dict = {\n",
    "    \"FCA_GND10287600\": str(DATA_PATH / \"FCA_GND10287600_atac_fragments.tsv.gz\"),\n",
    "    \"FCA_GND10287601\": str(DATA_PATH / \"FCA_GND10287601_atac_fragments.tsv.gz\"),\n",
    "    \"FCA_GND10287602\": str(DATA_PATH / \"FCA_GND10287602_atac_fragments.tsv.gz\"),\n",
    "    \"FCA_GND10287603\": str(DATA_PATH / \"FCA_GND10287603_atac_fragments.tsv.gz\"),\n",
    "    \"FCA_GND10287604\": str(DATA_PATH / \"FCA_GND10287604_atac_fragments.tsv.gz\"),\n",
    "    \"HCA_F_GON10535495\": str(DATA_PATH / \"HCA_F_GON10535495_atac_fragments.tsv.gz\"),\n",
    "    \"HCA_F_GON10713284\": str(DATA_PATH / \"HCA_F_GON10713284_atac_fragments.tsv.gz\"),\n",
    "    \"HCA_F_GON10713285\": str(DATA_PATH / \"HCA_F_GON10713285_atac_fragments.tsv.gz\"),\n",
    "    \"HCA_F_GON10713286\": str(DATA_PATH / \"HCA_F_GON10713286_atac_fragments.tsv.gz\")\n",
    "}"
   ]
  },
  {
   "cell_type": "code",
   "execution_count": null,
   "metadata": {},
   "outputs": [],
   "source": [
    "# Load cell types\n",
    "cell_data = pd.read_csv(DATA_PATH / \"celltype_predictions/all_celltypes.csv\", index_col=0)\n",
    "#cell_data = pd.read_csv(DATA_PATH / \"celltype_predictions/germcell_types.csv\", index_col=0)\n",
    "cell_data[\"sample\"] = cell_data['sample'].str[:-1]\n",
    "cell_data = cell_data[cell_data[\"sample\"].isin(fragments_dict.keys())]\n"
   ]
  },
  {
   "cell_type": "code",
   "execution_count": null,
   "metadata": {},
   "outputs": [],
   "source": [
    "cell_data.shape"
   ]
  },
  {
   "cell_type": "code",
   "execution_count": null,
   "metadata": {},
   "outputs": [],
   "source": [
    "# Merge cell barcode with sample id\n",
    "cell_data.index = cell_data.index + \"___\" + cell_data[\"sample\"]"
   ]
  },
  {
   "cell_type": "code",
   "execution_count": null,
   "metadata": {},
   "outputs": [],
   "source": [
    "cell_data.celltype.value_counts(), cell_data.shape[0]"
   ]
  },
  {
   "cell_type": "code",
   "execution_count": null,
   "metadata": {},
   "outputs": [],
   "source": [
    "chromsizes = pd.read_table(\n",
    "    \"http://hgdownload.cse.ucsc.edu/goldenPath/hg38/bigZips/hg38.chrom.sizes\",\n",
    "    header = None,\n",
    "    names = [\"Chromosome\", \"End\"]\n",
    ")\n",
    "chromsizes.insert(1, \"Start\", 0)\n",
    "chromsizes.head()"
   ]
  },
  {
   "cell_type": "code",
   "execution_count": null,
   "metadata": {},
   "outputs": [],
   "source": [
    "from pycisTopic.pseudobulk_peak_calling import export_pseudobulk\n",
    "os.makedirs(out_dir / \"consensus_peak_calling\", exist_ok = True)\n",
    "os.makedirs(out_dir / \"consensus_peak_calling/pseudobulk_bed_files\", exist_ok = True)\n",
    "os.makedirs(out_dir / \"consensus_peak_calling/pseudobulk_bw_files\", exist_ok = True)\n",
    "\n",
    "bw_paths, bed_paths = export_pseudobulk(\n",
    "    input_data = cell_data,\n",
    "    variable = \"celltype\",\n",
    "    sample_id_col = \"sample\",\n",
    "    chromsizes = chromsizes,\n",
    "    bed_path = out_dir / \"consensus_peak_calling/pseudobulk_bed_files\",\n",
    "    bigwig_path = out_dir / \"consensus_peak_calling/pseudobulk_bw_files\",\n",
    "    path_to_fragments = fragments_dict,\n",
    "    n_cpu = 3,\n",
    "    normalize_bigwig = True,\n",
    "    temp_dir = \"/tmp\")"
   ]
  },
  {
   "cell_type": "code",
   "execution_count": null,
   "metadata": {},
   "outputs": [],
   "source": [
    "with open(os.path.join(out_dir, \"consensus_peak_calling/bw_paths.tsv\"), \"wt\") as f:\n",
    "    for v in bw_paths:\n",
    "        _ = f.write(f\"{v}\\t{bw_paths[v]}\\n\")"
   ]
  },
  {
   "cell_type": "code",
   "execution_count": null,
   "metadata": {},
   "outputs": [],
   "source": [
    "with open(os.path.join(out_dir, \"consensus_peak_calling/bed_paths.tsv\"), \"wt\") as f:\n",
    "    for v in bed_paths:\n",
    "        _ = f.write(f\"{v}\\t{bed_paths[v]}\\n\")"
   ]
  },
  {
   "cell_type": "markdown",
   "metadata": {},
   "source": [
    "# Infer consensus peaks\n"
   ]
  },
  {
   "cell_type": "code",
   "execution_count": null,
   "metadata": {},
   "outputs": [],
   "source": [
    "bw_paths = {}\n",
    "with open(os.path.join(out_dir, \"consensus_peak_calling/bw_paths.tsv\")) as f:\n",
    "    for line in f:\n",
    "        v, p = line.strip().split(\"\\t\")\n",
    "        bw_paths.update({v: p})"
   ]
  },
  {
   "cell_type": "code",
   "execution_count": null,
   "metadata": {},
   "outputs": [],
   "source": [
    "bed_paths = {}\n",
    "with open(os.path.join(out_dir, \"consensus_peak_calling/bed_paths.tsv\")) as f:\n",
    "    for line in f:\n",
    "        v, p = line.strip().split(\"\\t\")\n",
    "        bed_paths.update({v: p})"
   ]
  },
  {
   "cell_type": "code",
   "execution_count": null,
   "metadata": {},
   "outputs": [],
   "source": [
    "from pycisTopic.pseudobulk_peak_calling import peak_calling\n",
    "macs_path = \"macs2\"\n",
    "\n",
    "os.makedirs(os.path.join(out_dir, \"consensus_peak_calling/MACS\"), exist_ok = True)\n",
    "\n",
    "narrow_peak_dict = peak_calling(\n",
    "    macs_path = macs_path,\n",
    "    bed_paths = bed_paths,\n",
    "    outdir = os.path.join(os.path.join(out_dir, \"consensus_peak_calling/MACS\")),\n",
    "    genome_size = 'hs',\n",
    "    n_cpu = 20,\n",
    "    input_format = 'BEDPE',\n",
    "    shift = 73,\n",
    "    ext_size = 146,\n",
    "    keep_dup = 'all',\n",
    "    q_value = 0.05,\n",
    "    _temp_dir = '/tmp'\n",
    ")"
   ]
  },
  {
   "cell_type": "markdown",
   "metadata": {},
   "source": [
    "Consensus peaks"
   ]
  },
  {
   "cell_type": "code",
   "execution_count": null,
   "metadata": {},
   "outputs": [],
   "source": [
    "from pycisTopic.iterative_peak_calling import get_consensus_peaks\n",
    "# Other param\n",
    "peak_half_width = 250\n",
    "# Get consensus peaks\n",
    "consensus_peaks = get_consensus_peaks(\n",
    "    narrow_peaks_dict = narrow_peak_dict,\n",
    "    peak_half_width = peak_half_width,\n",
    "    chromsizes = chromsizes,\n",
    "    path_to_blacklist = path_to_blacklist)"
   ]
  },
  {
   "cell_type": "code",
   "execution_count": null,
   "metadata": {},
   "outputs": [],
   "source": [
    "# Convert to DataFrame and write directly\n",
    "df = consensus_peaks.as_df()\n",
    "df.to_csv(\n",
    "    os.path.join(out_dir, \"consensus_peak_calling/consensus_regions.bed\"),\n",
    "    sep='\\t',\n",
    "    index=False,\n",
    "    header=False\n",
    ")"
   ]
  },
  {
   "cell_type": "code",
   "execution_count": null,
   "metadata": {},
   "outputs": [],
   "source": [
    "#!pycistopic tss gene_annotation_list | grep Human"
   ]
  },
  {
   "cell_type": "code",
   "execution_count": null,
   "metadata": {},
   "outputs": [],
   "source": [
    "!mkdir -p {out_dir}/qc\n",
    "!pycistopic tss get_tss \\\n",
    "    --output {out_dir}/qc/tss.bed \\\n",
    "    --name \"hsapiens_gene_ensembl\" \\\n",
    "    --to-chrom-source ucsc \\\n",
    "    --ucsc hg38"
   ]
  },
  {
   "cell_type": "code",
   "execution_count": null,
   "metadata": {},
   "outputs": [],
   "source": [
    "!head {out_dir}/qc/tss.bed | column -t"
   ]
  },
  {
   "cell_type": "code",
   "execution_count": null,
   "metadata": {},
   "outputs": [],
   "source": [
    "regions_bed_filename = os.path.join(out_dir, \"consensus_peak_calling/consensus_regions.bed\")\n",
    "tss_bed_filename = os.path.join(out_dir, \"qc\", \"tss.bed\")\n",
    "\n",
    "pycistopic_qc_commands_filename = \"pycistopic_qc_commands.txt\"\n",
    "\n",
    "# Create text file with all pycistopic qc command lines.\n",
    "with open(pycistopic_qc_commands_filename, \"w\") as fh:\n",
    "    for sample, fragment_filename in fragments_dict.items():\n",
    "        print(\n",
    "            \"pycistopic qc\",\n",
    "            f\"--fragments {fragment_filename}\",\n",
    "            f\"--regions {regions_bed_filename}\",\n",
    "            f\"--tss {tss_bed_filename}\",\n",
    "            f\"--output {os.path.join(out_dir, 'qc')}/{sample}\",\n",
    "            sep=\" \",\n",
    "            file=fh,\n",
    "        )"
   ]
  },
  {
   "cell_type": "markdown",
   "metadata": {},
   "source": [
    "RUN from CL: cat pycistopic_qc_commands.txt | parallel -j 4 {}"
   ]
  },
  {
   "cell_type": "code",
   "execution_count": null,
   "metadata": {},
   "outputs": [],
   "source": [
    "from pycisTopic.plotting.qc_plot import plot_sample_stats, plot_barcode_stats\n",
    "import matplotlib.pyplot as plt"
   ]
  },
  {
   "cell_type": "code",
   "execution_count": null,
   "metadata": {},
   "outputs": [],
   "source": [
    "for sample_id in fragments_dict:\n",
    "    fig = plot_sample_stats(\n",
    "        sample_id = sample_id,\n",
    "        pycistopic_qc_output_dir = os.path.join(out_dir, \"qc\")\n",
    "    )"
   ]
  },
  {
   "cell_type": "code",
   "execution_count": null,
   "metadata": {},
   "outputs": [],
   "source": [
    "from pycisTopic.qc import get_barcodes_passing_qc_for_sample\n",
    "sample_id_to_barcodes_passing_filters = {}\n",
    "sample_id_to_thresholds = {}\n",
    "for sample_id in fragments_dict:\n",
    "    (\n",
    "        sample_id_to_barcodes_passing_filters[sample_id],\n",
    "        sample_id_to_thresholds[sample_id]\n",
    "    ) = get_barcodes_passing_qc_for_sample(\n",
    "            sample_id = sample_id,\n",
    "            pycistopic_qc_output_dir = os.path.join(out_dir, \"qc\"),\n",
    "            unique_fragments_threshold = None, # use automatic thresholding\n",
    "            tss_enrichment_threshold = None, # use automatic thresholding\n",
    "            frip_threshold = 0,\n",
    "            use_automatic_thresholds = True,\n",
    "    )"
   ]
  },
  {
   "cell_type": "code",
   "execution_count": null,
   "metadata": {},
   "outputs": [],
   "source": [
    "for sample_id in fragments_dict:\n",
    "    fig = plot_barcode_stats(\n",
    "        sample_id = sample_id,\n",
    "        pycistopic_qc_output_dir = os.path.join(out_dir, \"qc\"),\n",
    "        bc_passing_filters = sample_id_to_barcodes_passing_filters[sample_id],\n",
    "        detailed_title = False,\n",
    "        **sample_id_to_thresholds[sample_id]\n",
    "    )"
   ]
  },
  {
   "cell_type": "code",
   "execution_count": null,
   "metadata": {},
   "outputs": [],
   "source": [
    "from pycisTopic.cistopic_class import create_cistopic_object_from_fragments\n",
    "import polars as pl\n",
    "\n",
    "cistopic_obj_list = []\n",
    "for sample_id in fragments_dict:\n",
    "    sample_metrics = pl.read_parquet(\n",
    "        os.path.join(pycistopic_qc_output_dir, f'{sample_id}.fragments_stats_per_cb.parquet')\n",
    "    ).to_pandas().set_index(\"CB\").loc[ sample_id_to_barcodes_passing_filters[sample_id] ]\n",
    "    cistopic_obj = create_cistopic_object_from_fragments(\n",
    "        path_to_fragments = fragments_dict[sample_id],\n",
    "        path_to_regions = path_to_regions,\n",
    "        path_to_blacklist = path_to_blacklist,\n",
    "        metrics = sample_metrics,\n",
    "        valid_bc = sample_id_to_barcodes_passing_filters[sample_id],\n",
    "        n_cpu = 20,\n",
    "        project = sample_id    )\n",
    "    cistopic_obj_list.append(cistopic_obj)"
   ]
  },
  {
   "cell_type": "code",
   "execution_count": null,
   "metadata": {},
   "outputs": [],
   "source": [
    "from pycisTopic.cistopic_class import merge\n",
    "cistopic_obj = merge(cistopic_obj_list)\n",
    "print(cistopic_obj)"
   ]
  },
  {
   "cell_type": "code",
   "execution_count": null,
   "metadata": {},
   "outputs": [],
   "source": [
    "import pickle\n",
    "pickle.dump(\n",
    "    cistopic_obj,\n",
    "    open(os.path.join(out_dir, \"cistopic_obj.pkl\"), \"wb\")\n",
    ")"
   ]
  },
  {
   "cell_type": "code",
   "execution_count": null,
   "metadata": {},
   "outputs": [],
   "source": [
    "cistopic_obj.add_cell_data(cell_data)"
   ]
  },
  {
   "cell_type": "code",
   "execution_count": null,
   "metadata": {},
   "outputs": [],
   "source": [
    "cistopic_obj.cell_data['sample'].unique()"
   ]
  },
  {
   "cell_type": "code",
   "execution_count": null,
   "metadata": {},
   "outputs": [],
   "source": [
    "cistopic_obj.cell_data.head()"
   ]
  },
  {
   "cell_type": "code",
   "execution_count": null,
   "metadata": {},
   "outputs": [],
   "source": [
    "pickle.dump(\n",
    "    cistopic_obj,\n",
    "    open(os.path.join(out_dir, \"cistopic_obj.pkl\"), \"wb\")\n",
    ")"
   ]
  },
  {
   "cell_type": "code",
   "execution_count": null,
   "metadata": {},
   "outputs": [],
   "source": [
    "import pickle\n",
    "cistopic_obj = pickle.load(open(os.path.join(out_dir, \"cistopic_obj.pkl\"), \"rb\"))"
   ]
  },
  {
   "cell_type": "code",
   "execution_count": null,
   "metadata": {},
   "outputs": [],
   "source": [
    "import scrublet as scr\n",
    "scrub = scr.Scrublet(cistopic_obj.fragment_matrix.T, expected_doublet_rate=0.1)\n",
    "doublet_scores, predicted_doublets = scrub.scrub_doublets()\n",
    "scrub.plot_histogram();\n",
    "scrub.call_doublets(threshold=0.22)\n",
    "scrub.plot_histogram();\n",
    "scrublet = pd.DataFrame([scrub.doublet_scores_obs_, scrub.predicted_doublets_], columns=cistopic_obj.cell_names, index=['Doublet_scores_fragments', 'Predicted_doublets_fragments']).T\n"
   ]
  },
  {
   "cell_type": "code",
   "execution_count": null,
   "metadata": {},
   "outputs": [],
   "source": [
    "cistopic_obj.add_cell_data(scrublet)\n",
    "sum(cistopic_obj.cell_data.Predicted_doublets_fragments == True)"
   ]
  },
  {
   "cell_type": "code",
   "execution_count": null,
   "metadata": {},
   "outputs": [],
   "source": [
    "pickle.dump(\n",
    "    cistopic_obj,\n",
    "    open(os.path.join(out_dir, \"cistopic_obj.pkl\"), \"wb\")\n",
    ")"
   ]
  },
  {
   "cell_type": "code",
   "execution_count": null,
   "metadata": {},
   "outputs": [],
   "source": [
    "# Remove doublets\n",
    "singlets = cistopic_obj.cell_data[cistopic_obj.cell_data.Predicted_doublets_fragments == False].index.tolist()\n",
    "# Subset cisTopic object\n",
    "cistopic_obj_noDBL = cistopic_obj.subset(singlets, copy=True)\n",
    "print(cistopic_obj_noDBL)"
   ]
  },
  {
   "cell_type": "code",
   "execution_count": null,
   "metadata": {},
   "outputs": [],
   "source": [
    "pickle.dump(\n",
    "    cistopic_obj,\n",
    "    open(os.path.join(out_dir, \"cistopic_obj_noDBL.pkl\"), \"wb\")\n",
    ")"
   ]
  },
  {
   "cell_type": "code",
   "execution_count": null,
   "metadata": {},
   "outputs": [],
   "source": [
    "#!wget https://github.com/mimno/Mallet/releases/download/v202108/Mallet-202108-bin.tar.gz\n",
    "#!tar -xf Mallet-202108-bin.tar.gz"
   ]
  },
  {
   "cell_type": "code",
   "execution_count": null,
   "metadata": {},
   "outputs": [],
   "source": [
    "print(cistopic_obj)"
   ]
  },
  {
   "cell_type": "code",
   "execution_count": null,
   "metadata": {},
   "outputs": [],
   "source": [
    "# Remove no cell types\n",
    "has_celltype = cistopic_obj.cell_data[~cistopic_obj.cell_data.celltype.isna()].index.tolist()\n",
    "cistopic_obj = cistopic_obj.subset(cells=has_celltype, copy = True)"
   ]
  },
  {
   "cell_type": "code",
   "execution_count": null,
   "metadata": {},
   "outputs": [],
   "source": [
    "print(cistopic_obj)"
   ]
  },
  {
   "cell_type": "code",
   "execution_count": null,
   "metadata": {},
   "outputs": [],
   "source": [
    "os.environ['MALLET_MEMORY'] = '50G'\n",
    "from pycisTopic.lda_models import run_cgs_models_mallet\n",
    "# Configure path Mallet\n",
    "mallet_path = str(Path(os.getenv(\"RESOURCES_PATH\")) / \"scenicplus/Mallet-202108/bin/mallet\")\n",
    "# Run models\n",
    "models=run_cgs_models_mallet(\n",
    "    cistopic_obj,\n",
    "    n_topics=[2, 5, 10, 15, 20, 25, 30, 35, 40, 45, 50],\n",
    "    n_cpu=30,\n",
    "    n_iter=500,\n",
    "    random_state=555,\n",
    "    alpha=50,\n",
    "    alpha_by_topic=True,\n",
    "    eta=0.1,\n",
    "    eta_by_topic=False,\n",
    "    tmp_path=\"/tmp\",\n",
    "    save_path=os.path.join(out_dir, \"mallet_models\"),\n",
    "    mallet_path=mallet_path,\n",
    ")"
   ]
  },
  {
   "cell_type": "code",
   "execution_count": null,
   "metadata": {},
   "outputs": [],
   "source": [
    "pickle.dump(\n",
    "    models,\n",
    "    open(os.path.join(out_dir, \"models.pkl\"), \"wb\")\n",
    ")"
   ]
  },
  {
   "cell_type": "code",
   "execution_count": null,
   "metadata": {},
   "outputs": [],
   "source": [
    "from pycisTopic.lda_models import evaluate_models\n",
    "model = evaluate_models(\n",
    "    models,\n",
    "    select_model = 40,\n",
    "    return_model = True\n",
    ")"
   ]
  },
  {
   "cell_type": "code",
   "execution_count": null,
   "metadata": {},
   "outputs": [],
   "source": [
    "cistopic_obj.add_LDA_model(model)"
   ]
  },
  {
   "cell_type": "code",
   "execution_count": null,
   "metadata": {},
   "outputs": [],
   "source": [
    "pickle.dump(\n",
    "    cistopic_obj,\n",
    "    open(os.path.join(out_dir, \"cistopic_obj.pkl\"), \"wb\")\n",
    ")"
   ]
  },
  {
   "cell_type": "code",
   "execution_count": null,
   "metadata": {},
   "outputs": [],
   "source": [
    "from pycisTopic.clust_vis import (\n",
    "    find_clusters,\n",
    "    run_umap,\n",
    "    run_tsne,\n",
    "    plot_metadata,\n",
    "    plot_topic,\n",
    "    cell_topic_heatmap\n",
    ")"
   ]
  },
  {
   "cell_type": "code",
   "execution_count": null,
   "metadata": {},
   "outputs": [],
   "source": [
    "find_clusters(\n",
    "    cistopic_obj,\n",
    "    target  = 'cell',\n",
    "    k = 10,\n",
    "    res = [0.6, 1.2, 3],\n",
    "    prefix = 'pycisTopic_',\n",
    "    scale = True)"
   ]
  },
  {
   "cell_type": "code",
   "execution_count": null,
   "metadata": {},
   "outputs": [],
   "source": [
    "run_umap(\n",
    "    cistopic_obj,\n",
    "    target  = 'cell', scale=True)"
   ]
  },
  {
   "cell_type": "code",
   "execution_count": null,
   "metadata": {},
   "outputs": [],
   "source": [
    "run_tsne(\n",
    "    cistopic_obj,\n",
    "    target  = 'cell', scale=True)"
   ]
  },
  {
   "cell_type": "code",
   "execution_count": null,
   "metadata": {},
   "outputs": [],
   "source": [
    "plot_metadata(\n",
    "    cistopic_obj,\n",
    "    reduction_name='UMAP',\n",
    "    variables=['celltype', 'pycisTopic_leiden_10_0.6', 'pycisTopic_leiden_10_1.2', 'pycisTopic_leiden_10_3'],\n",
    "    target='cell', num_columns=4,\n",
    "    text_size=10,\n",
    "    dot_size=5)"
   ]
  },
  {
   "cell_type": "code",
   "execution_count": null,
   "metadata": {},
   "outputs": [],
   "source": [
    "annot_dict = {}\n",
    "for resolution in [0.6, 1.2, 3]:\n",
    "    annot_dict[f\"pycisTopic_leiden_10_{resolution}\"] = {}\n",
    "    for cluster in set(cistopic_obj.cell_data[f\"pycisTopic_leiden_10_{resolution}\"]):\n",
    "        cells_in_cluster = cistopic_obj.cell_data.loc[\n",
    "            cistopic_obj.cell_data[f\"pycisTopic_leiden_10_{resolution}\"] == cluster\n",
    "        ]\n",
    "        # Get celltype counts for cells that have annotations\n",
    "        counts = cells_in_cluster.loc[cells_in_cluster.celltype.notna(), \"celltype\"].value_counts()\n",
    "        \n",
    "        if len(counts) > 0:\n",
    "            # If there are cells with celltype annotations, use the most common one\n",
    "            annot_dict[f\"pycisTopic_leiden_10_{resolution}\"][cluster] = f\"{counts.index[0]}({cluster})\"\n",
    "        else:\n",
    "            # If no cells have celltype annotations, just use the cluster number\n",
    "            annot_dict[f\"pycisTopic_leiden_10_{resolution}\"][cluster] = f\"Unknown({cluster})\""
   ]
  },
  {
   "cell_type": "code",
   "execution_count": null,
   "metadata": {},
   "outputs": [],
   "source": [
    "annot_dict"
   ]
  },
  {
   "cell_type": "code",
   "execution_count": null,
   "metadata": {},
   "outputs": [],
   "source": [
    "for resolution in [0.6, 1.2, 3]:\n",
    "    cistopic_obj.cell_data[f'pycisTopic_leiden_10_{resolution}'] = [\n",
    "        annot_dict[f'pycisTopic_leiden_10_{resolution}'][x] for x in cistopic_obj.cell_data[f'pycisTopic_leiden_10_{resolution}'].tolist()\n",
    "    ]"
   ]
  },
  {
   "cell_type": "code",
   "execution_count": null,
   "metadata": {},
   "outputs": [],
   "source": [
    "plot_metadata(\n",
    "    cistopic_obj,\n",
    "    reduction_name='UMAP',\n",
    "    variables=['celltype', 'pycisTopic_leiden_10_0.6', 'pycisTopic_leiden_10_1.2', 'pycisTopic_leiden_10_3'],\n",
    "    target='cell', num_columns=4,\n",
    "    text_size=10,\n",
    "    dot_size=5)"
   ]
  },
  {
   "cell_type": "code",
   "execution_count": null,
   "metadata": {},
   "outputs": [],
   "source": [
    "plot_metadata(\n",
    "    cistopic_obj,\n",
    "    reduction_name='UMAP',\n",
    "    variables=['log10_unique_fragments_count', 'tss_enrichment',  'fraction_of_fragments_in_peaks'], #'Doublet_scores_fragments',\n",
    "    target='cell', num_columns=4,\n",
    "    text_size=10,\n",
    "    dot_size=5)"
   ]
  },
  {
   "cell_type": "code",
   "execution_count": null,
   "metadata": {},
   "outputs": [],
   "source": [
    "plot_topic(\n",
    "    cistopic_obj,\n",
    "    reduction_name = 'UMAP',\n",
    "    target = 'cell',\n",
    "    num_columns=5\n",
    ")"
   ]
  },
  {
   "cell_type": "code",
   "execution_count": null,
   "metadata": {},
   "outputs": [],
   "source": [
    "cell_topic_heatmap(\n",
    "    cistopic_obj,\n",
    "    variables = ['celltype'],\n",
    "    scale = False,\n",
    "    legend_loc_x = 1.0,\n",
    "    legend_loc_y = -1.2,\n",
    "    legend_dist_y = -1,\n",
    "    figsize = (10, 10)\n",
    ")"
   ]
  },
  {
   "cell_type": "code",
   "execution_count": null,
   "metadata": {},
   "outputs": [],
   "source": [
    "from pycisTopic.topic_binarization import binarize_topics\n"
   ]
  },
  {
   "cell_type": "code",
   "execution_count": null,
   "metadata": {},
   "outputs": [],
   "source": [
    "region_bin_topics_top_3k = binarize_topics(\n",
    "    cistopic_obj, method='ntop', ntop = 3_000,\n",
    "    plot=True, num_columns=5\n",
    ")"
   ]
  },
  {
   "cell_type": "code",
   "execution_count": null,
   "metadata": {},
   "outputs": [],
   "source": [
    "region_bin_topics_otsu = binarize_topics(\n",
    "    cistopic_obj, method='otsu',\n",
    "    plot=True, num_columns=5\n",
    ")"
   ]
  },
  {
   "cell_type": "code",
   "execution_count": null,
   "metadata": {},
   "outputs": [],
   "source": [
    "binarized_cell_topic = binarize_topics(\n",
    "    cistopic_obj,\n",
    "    target='cell',\n",
    "    method='li',\n",
    "    plot=True,\n",
    "    num_columns=5, nbins=100)"
   ]
  },
  {
   "cell_type": "code",
   "execution_count": null,
   "metadata": {},
   "outputs": [],
   "source": [
    "from pycisTopic.topic_qc import compute_topic_metrics, plot_topic_qc, topic_annotation\n",
    "import matplotlib.pyplot as plt\n",
    "from pycisTopic.utils import fig2img"
   ]
  },
  {
   "cell_type": "code",
   "execution_count": null,
   "metadata": {},
   "outputs": [],
   "source": [
    "topic_qc_metrics = compute_topic_metrics(cistopic_obj)"
   ]
  },
  {
   "cell_type": "code",
   "execution_count": null,
   "metadata": {},
   "outputs": [],
   "source": [
    "fig_dict={}\n",
    "fig_dict['CoherenceVSAssignments']=plot_topic_qc(topic_qc_metrics, var_x='Coherence', var_y='Log10_Assignments', var_color='Gini_index', plot=False, return_fig=True)\n",
    "fig_dict['AssignmentsVSCells_in_bin']=plot_topic_qc(topic_qc_metrics, var_x='Log10_Assignments', var_y='Cells_in_binarized_topic', var_color='Gini_index', plot=False, return_fig=True)\n",
    "fig_dict['CoherenceVSCells_in_bin']=plot_topic_qc(topic_qc_metrics, var_x='Coherence', var_y='Cells_in_binarized_topic', var_color='Gini_index', plot=False, return_fig=True)\n",
    "fig_dict['CoherenceVSRegions_in_bin']=plot_topic_qc(topic_qc_metrics, var_x='Coherence', var_y='Regions_in_binarized_topic', var_color='Gini_index', plot=False, return_fig=True)\n",
    "fig_dict['CoherenceVSMarginal_dist']=plot_topic_qc(topic_qc_metrics, var_x='Coherence', var_y='Marginal_topic_dist', var_color='Gini_index', plot=False, return_fig=True)\n",
    "fig_dict['CoherenceVSGini_index']=plot_topic_qc(topic_qc_metrics, var_x='Coherence', var_y='Gini_index', var_color='Gini_index', plot=False, return_fig=True)\n"
   ]
  },
  {
   "cell_type": "code",
   "execution_count": null,
   "metadata": {},
   "outputs": [],
   "source": [
    "# Plot topic stats in one figure\n",
    "fig=plt.figure(figsize=(40, 43))\n",
    "i = 1\n",
    "for fig_ in fig_dict.keys():\n",
    "    plt.subplot(2, 3, i)\n",
    "    img = fig2img(fig_dict[fig_]) #To convert figures to png to plot together, see .utils.py. This converts the figure to png.\n",
    "    plt.imshow(img)\n",
    "    plt.axis('off')\n",
    "    i += 1\n",
    "plt.subplots_adjust(wspace=0, hspace=-0.70)\n",
    "plt.show()"
   ]
  },
  {
   "cell_type": "code",
   "execution_count": null,
   "metadata": {},
   "outputs": [],
   "source": [
    "topic_annot = topic_annotation(\n",
    "    cistopic_obj,\n",
    "    annot_var='celltype',\n",
    "    binarized_cell_topic=binarized_cell_topic,\n",
    "    general_topic_thr = 0.2\n",
    ")"
   ]
  },
  {
   "cell_type": "code",
   "execution_count": null,
   "metadata": {},
   "outputs": [],
   "source": [
    "topic_annot\n"
   ]
  },
  {
   "cell_type": "code",
   "execution_count": null,
   "metadata": {},
   "outputs": [],
   "source": [
    "from pycisTopic.diff_features import (\n",
    "    impute_accessibility,\n",
    "    normalize_scores,\n",
    "    find_highly_variable_features,\n",
    "    find_diff_features\n",
    ")\n",
    "import numpy as np"
   ]
  },
  {
   "cell_type": "code",
   "execution_count": null,
   "metadata": {},
   "outputs": [],
   "source": [
    "imputed_acc_obj = impute_accessibility(\n",
    "    cistopic_obj,\n",
    "    selected_cells=None,\n",
    "    selected_regions=None,\n",
    "    scale_factor=10**6\n",
    ")"
   ]
  },
  {
   "cell_type": "code",
   "execution_count": null,
   "metadata": {},
   "outputs": [],
   "source": [
    "pickle.dump(\n",
    "    imputed_acc_obj,\n",
    "    open(os.path.join(out_dir, \"imputed_acc_obj.pkl\"), \"wb\")\n",
    ")"
   ]
  },
  {
   "cell_type": "code",
   "execution_count": null,
   "metadata": {},
   "outputs": [],
   "source": [
    "import pickle\n",
    "imputed_acc_obj = pickle.load(open(os.path.join(out_dir, \"imputed_acc_obj.pkl\"), \"rb\"))"
   ]
  },
  {
   "cell_type": "code",
   "execution_count": null,
   "metadata": {},
   "outputs": [],
   "source": [
    "normalized_imputed_acc_obj = normalize_scores(imputed_acc_obj, scale_factor=10**4)\n"
   ]
  },
  {
   "cell_type": "code",
   "execution_count": null,
   "metadata": {},
   "outputs": [],
   "source": [
    "pickle.dump(\n",
    "    normalized_imputed_acc_obj,\n",
    "    open(os.path.join(out_dir, \"normalized_imputed_acc_obj.pkl\"), \"wb\")\n",
    ")"
   ]
  },
  {
   "cell_type": "code",
   "execution_count": null,
   "metadata": {},
   "outputs": [],
   "source": [
    "variable_regions = find_highly_variable_features(\n",
    "    normalized_imputed_acc_obj,\n",
    "    min_disp = 0.05,\n",
    "    min_mean = 0.0125,\n",
    "    max_mean = 3,\n",
    "    max_disp = np.inf,\n",
    "    n_bins=20,\n",
    "    n_top_features=None,\n",
    "    plot=True\n",
    ")"
   ]
  },
  {
   "cell_type": "code",
   "execution_count": null,
   "metadata": {},
   "outputs": [],
   "source": [
    "len(variable_regions)"
   ]
  },
  {
   "cell_type": "code",
   "execution_count": null,
   "metadata": {},
   "outputs": [],
   "source": [
    "markers_dict= find_diff_features(\n",
    "    cistopic_obj,\n",
    "    imputed_acc_obj,\n",
    "    variable='celltype',\n",
    "    var_features=variable_regions,\n",
    "    contrasts=None,\n",
    "    adjpval_thr=0.05,\n",
    "    log2fc_thr=np.log2(1.5),\n",
    "    n_cpu=5,\n",
    "    _temp_dir='/tmp')\n"
   ]
  },
  {
   "cell_type": "code",
   "execution_count": null,
   "metadata": {},
   "outputs": [],
   "source": [
    "from pycisTopic.clust_vis import plot_imputed_features"
   ]
  },
  {
   "cell_type": "code",
   "execution_count": null,
   "metadata": {},
   "outputs": [],
   "source": [
    "markers_dict"
   ]
  },
  {
   "cell_type": "code",
   "execution_count": null,
   "metadata": {},
   "outputs": [],
   "source": [
    "plot_imputed_features(\n",
    "    cistopic_obj,\n",
    "    reduction_name='UMAP',\n",
    "    imputed_data=imputed_acc_obj,\n",
    "    features=[markers_dict[x].index.tolist()[0] for x in ['oogonia_STRA8']],\n",
    "    scale=False,\n",
    "    num_columns=4\n",
    ")\n"
   ]
  },
  {
   "cell_type": "code",
   "execution_count": null,
   "metadata": {},
   "outputs": [],
   "source": [
    "print(\"Number of DARs found:\")\n",
    "print(\"---------------------\")\n",
    "for x in markers_dict:\n",
    "    print(f\"  {x}: {len(markers_dict[x])}\")"
   ]
  },
  {
   "cell_type": "code",
   "execution_count": null,
   "metadata": {},
   "outputs": [],
   "source": [
    "os.makedirs(os.path.join(out_dir, \"region_sets\"), exist_ok = True)\n",
    "os.makedirs(os.path.join(out_dir, \"region_sets\", \"Topics_otsu\"), exist_ok = True)\n",
    "os.makedirs(os.path.join(out_dir, \"region_sets\", \"Topics_top_3k\"), exist_ok = True)\n",
    "os.makedirs(os.path.join(out_dir, \"region_sets\", \"DARs_cell_type\"), exist_ok = True)\n"
   ]
  },
  {
   "cell_type": "code",
   "execution_count": null,
   "metadata": {},
   "outputs": [],
   "source": [
    "from pycisTopic.utils import region_names_to_coordinates"
   ]
  },
  {
   "cell_type": "code",
   "execution_count": null,
   "metadata": {},
   "outputs": [],
   "source": [
    "for topic in region_bin_topics_otsu:\n",
    "    region_names_to_coordinates(\n",
    "        region_bin_topics_otsu[topic].index\n",
    "    ).sort_values(\n",
    "        [\"Chromosome\", \"Start\", \"End\"]\n",
    "    ).to_csv(\n",
    "        os.path.join(out_dir, \"region_sets\", \"Topics_otsu\", f\"{topic}.bed\"),\n",
    "        sep = \"\\t\",\n",
    "        header = False, index = False\n",
    "    )\n"
   ]
  },
  {
   "cell_type": "code",
   "execution_count": null,
   "metadata": {},
   "outputs": [],
   "source": [
    "for topic in region_bin_topics_top_3k:\n",
    "    region_names_to_coordinates(\n",
    "        region_bin_topics_top_3k[topic].index\n",
    "    ).sort_values(\n",
    "        [\"Chromosome\", \"Start\", \"End\"]\n",
    "    ).to_csv(\n",
    "        os.path.join(out_dir, \"region_sets\", \"Topics_top_3k\", f\"{topic}.bed\"),\n",
    "        sep = \"\\t\",\n",
    "        header = False, index = False\n",
    "    )"
   ]
  },
  {
   "cell_type": "code",
   "execution_count": null,
   "metadata": {},
   "outputs": [],
   "source": [
    "for cell_type in markers_dict:\n",
    "    region_names_to_coordinates(\n",
    "        markers_dict[cell_type].index\n",
    "    ).sort_values(\n",
    "        [\"Chromosome\", \"Start\", \"End\"]\n",
    "    ).to_csv(\n",
    "        os.path.join(out_dir, \"region_sets\", \"DARs_cell_type\", f\"{cell_type}.bed\"),\n",
    "        sep = \"\\t\",\n",
    "        header = False, index = False\n",
    "    )"
   ]
  }
 ],
 "metadata": {
  "kernelspec": {
   "display_name": "scenicplus",
   "language": "python",
   "name": "python3"
  },
  "language_info": {
   "codemirror_mode": {
    "name": "ipython",
    "version": 3
   },
   "file_extension": ".py",
   "mimetype": "text/x-python",
   "name": "python",
   "nbconvert_exporter": "python",
   "pygments_lexer": "ipython3",
   "version": "3.11.8"
  }
 },
 "nbformat": 4,
 "nbformat_minor": 2
}
