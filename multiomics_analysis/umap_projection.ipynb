{
 "cells": [
  {
   "cell_type": "code",
   "execution_count": null,
   "metadata": {},
   "outputs": [],
   "source": [
    "import os\n",
    "from dotenv import load_dotenv\n",
    "from pathlib import Path\n",
    "import pandas as pd\n",
    "import pickle\n",
    "import umap\n",
    "from sklearn.preprocessing import StandardScaler\n",
    "from pycisTopic.clust_vis import plot_metadata\n",
    "from pycisTopic.cistopic_class import CistopicObject\n",
    "load_dotenv()"
   ]
  },
  {
   "cell_type": "code",
   "execution_count": null,
   "metadata": {},
   "outputs": [],
   "source": [
    "out_dir = Path(os.getenv(\"OUTPUT_PATH\")) / \"garcia_ATAC/atac_preprocessing_combined\"\n",
    "cistopic_obj = pickle.load(open(os.path.join(out_dir, \"cistopic_obj.pkl\"), \"rb\"))"
   ]
  },
  {
   "cell_type": "code",
   "execution_count": null,
   "metadata": {},
   "outputs": [],
   "source": [
    "def run_umap_projection_within_cistopic_obj(\n",
    "    cistopic_obj: CistopicObject,\n",
    "    reference_dataset_value: str,\n",
    "    query_dataset_value: str,\n",
    "    dataset_column_name: str = \"dataset\",\n",
    "    target: str = \"cell\",\n",
    "    scale: bool = False,\n",
    "    reduction_name: str = \"UMAP_projected\",\n",
    "    random_state: int = 555,\n",
    "    harmony: bool = False,\n",
    "    **kwargs,\n",
    "):\n",
    "    \"\"\"\n",
    "    Run UMAP on a reference dataset (defined by a column value) and project a query dataset (defined by another column value)\n",
    "    onto the learned UMAP space, all within a single CistopicObject.\n",
    "\n",
    "    Parameters\n",
    "    ----------\n",
    "    cistopic_obj: CistopicObject\n",
    "        A cisTopic object with a model in `selected_model` containing both datasets.\n",
    "    reference_dataset_value: str\n",
    "        The value in the 'dataset_column_name' that identifies the reference dataset.\n",
    "    query_dataset_value: str\n",
    "        The value in the 'dataset_column_name' that identifies the query dataset.\n",
    "    dataset_column_name: str\n",
    "        The name of the column in `cistopic_obj.cell_data` that distinguishes the datasets. Default: \"dataset\"\n",
    "    target: str\n",
    "        Whether cells ('cell') or regions ('region') should be used. Default: 'cell'\n",
    "    scale: bool\n",
    "        Whether to scale the cell-topic or topic-regions contributions prior to the dimensionality reduction. Default: False\n",
    "    reduction_name: str\n",
    "        Reduction name to use as key in the dimensionality reduction dictionary. Default: 'UMAP_projected'\n",
    "    random_state: int\n",
    "        Seed parameter for running UMAP. Default: 555\n",
    "    harmony: bool\n",
    "        If target is 'cell', whether to use harmony processed topic contributions. Default: False.\n",
    "    **kwargs\n",
    "        Parameters to pass to umap.UMAP.\n",
    "\n",
    "    \"\"\"\n",
    "\n",
    "    # 1. Prepare Data from the Reference Dataset\n",
    "\n",
    "    model = cistopic_obj.selected_model\n",
    "\n",
    "    if target == \"cell\":\n",
    "        data_mat_reference = (\n",
    "            model.cell_topic_harmony\n",
    "            if harmony\n",
    "            else model.cell_topic\n",
    "        )\n",
    "        # Filter by cells in the reference dataset\n",
    "        reference_cells = cistopic_obj.cell_data[cistopic_obj.cell_data[dataset_column_name] == reference_dataset_value].index.tolist()\n",
    "        data_mat_reference = data_mat_reference.loc[:, reference_cells]\n",
    "        data_names_reference = reference_cells\n",
    "\n",
    "    if target == \"region\":\n",
    "        data_mat_reference = model.topic_region.T\n",
    "        # Filter by cells in the reference dataset, even when using regions\n",
    "        reference_cells = cistopic_obj.cell_data[cistopic_obj.cell_data[dataset_column_name] == reference_dataset_value].index.tolist()\n",
    "        data_mat_reference = data_mat_reference.loc[:, reference_cells]\n",
    "        data_names_reference = reference_cells\n",
    "\n",
    "    data_mat_reference = data_mat_reference.T\n",
    "\n",
    "    # Fit scaler on reference data\n",
    "    if scale:\n",
    "        scaler = StandardScaler()\n",
    "        data_mat_reference = pd.DataFrame(\n",
    "            scaler.fit_transform(data_mat_reference),\n",
    "            index=data_mat_reference.index.to_list(),\n",
    "            columns=data_mat_reference.columns,\n",
    "        )\n",
    "\n",
    "\n",
    "    # 2. Train UMAP on the Reference Dataset\n",
    "\n",
    "    reducer = umap.UMAP(random_state=random_state, **kwargs)\n",
    "    embedding_reference = reducer.fit_transform(data_mat_reference)\n",
    "\n",
    "    # 3. Prepare Data from the Query Dataset\n",
    "\n",
    "    if target == \"cell\":\n",
    "        data_mat_query = (\n",
    "            model.cell_topic_harmony if harmony else model.cell_topic\n",
    "        )\n",
    "        # Filter by cells in the query dataset\n",
    "        query_cells = cistopic_obj.cell_data[cistopic_obj.cell_data[dataset_column_name] == query_dataset_value].index.tolist()\n",
    "        data_mat_query = data_mat_query.loc[:, query_cells]\n",
    "        data_names_query = query_cells\n",
    "\n",
    "    if target == \"region\":\n",
    "        data_mat_query = model.topic_region.T\n",
    "        # Filter by cells in the query dataset, even when using regions\n",
    "        query_cells = cistopic_obj.cell_data[cistopic_obj.cell_data[dataset_column_name] == query_dataset_value].index.tolist()\n",
    "        data_mat_query = data_mat_query.loc[:, query_cells]\n",
    "        data_names_query = query_cells\n",
    "\n",
    "    data_mat_query = data_mat_query.T\n",
    "\n",
    "    # Use the same scaler that was fitted on reference data\n",
    "    if scale:\n",
    "        data_mat_query = pd.DataFrame(\n",
    "            scaler.transform(data_mat_query),\n",
    "            index=data_mat_query.index.to_list(),\n",
    "            columns=data_mat_query.columns,\n",
    "        )\n",
    "\n",
    "    # 4. Project the Query Dataset onto the Reference UMAP Space\n",
    "\n",
    "    embedding_query = reducer.transform(data_mat_query)\n",
    "\n",
    "    # 5. Store the Projected Embeddings\n",
    "\n",
    "    dr_reference = pd.DataFrame(\n",
    "        embedding_reference,\n",
    "        index=data_names_reference,\n",
    "        columns=[\"UMAP_1\", \"UMAP_2\"],\n",
    "    )\n",
    "    dr_query = pd.DataFrame(\n",
    "        embedding_query, index=data_names_query, columns=[\"UMAP_1\", \"UMAP_2\"]\n",
    "    )\n",
    "\n",
    "    if target == \"cell\":\n",
    "        # Update the cistopic object with the umap coordinates\n",
    "        cistopic_obj.projections[\"cell\"][reduction_name] = dr_reference\n",
    "        cistopic_obj.projections[\"cell\"][\"_\".join([reduction_name, query_dataset_value])] = dr_query\n",
    "        \n",
    "        # Create combined umap with labels for plotting\n",
    "        dr_combined = pd.concat([dr_reference, dr_query])\n",
    "        labels = [reference_dataset_value] * len(dr_reference) + [query_dataset_value] * len(dr_query)\n",
    "        dr_combined[dataset_column_name] = labels\n",
    "        \n",
    "        # Name the combined umap based on reference and query names\n",
    "        cistopic_obj.projections[\"cell\"][reduction_name + \"_\" + reference_dataset_value + \"_\" + query_dataset_value] = dr_combined\n",
    "\n",
    "    if target == \"region\":\n",
    "        cistopic_obj.projections[\"region\"][reduction_name] = dr_reference\n",
    "        cistopic_obj.projections[\"region\"][\"_\".join([reduction_name, query_dataset_value])] = dr_query\n",
    "        \n",
    "        # Create combined umap with labels for plotting\n",
    "        dr_combined = pd.concat([dr_reference, dr_query])\n",
    "        labels = [reference_dataset_value] * len(dr_reference) + [query_dataset_value] * len(dr_query)\n",
    "        dr_combined[dataset_column_name] = labels\n",
    "        cistopic_obj.projections[\"region\"][reduction_name + \"_\" + reference_dataset_value + \"_\" + query_dataset_value] = dr_combined\n",
    "\n",
    "    return reducer"
   ]
  },
  {
   "cell_type": "code",
   "execution_count": null,
   "metadata": {},
   "outputs": [],
   "source": [
    "import numpy as np\n",
    "cistopic_obj.cell_data['dataset'] = np.where(cistopic_obj.cell_data['sample'].str.contains('24047'), 'meiotic', 'garcia_ATAC')"
   ]
  },
  {
   "cell_type": "code",
   "execution_count": null,
   "metadata": {},
   "outputs": [],
   "source": [
    "cistopic_obj.cell_data.loc[cistopic_obj.cell_data['dataset'] == \"meiotic\", \"celltype\"].value_counts()"
   ]
  },
  {
   "cell_type": "code",
   "execution_count": null,
   "metadata": {},
   "outputs": [],
   "source": [
    "cistopic_obj.cell_data.loc[cistopic_obj.cell_data['dataset'] == \"garcia_ATAC\", \"celltype\"].value_counts()"
   ]
  },
  {
   "cell_type": "code",
   "execution_count": null,
   "metadata": {},
   "outputs": [],
   "source": [
    "from pycisTopic.clust_vis import harmony\n",
    "harmony(cistopic_obj, 'sample')"
   ]
  },
  {
   "cell_type": "code",
   "execution_count": null,
   "metadata": {},
   "outputs": [],
   "source": [
    "# Run UMAP projection\n",
    "run_umap_projection_within_cistopic_obj(\n",
    "    cistopic_obj,\n",
    "    reference_dataset_value=\"garcia_ATAC\",\n",
    "    query_dataset_value=\"meiotic\",\n",
    "    dataset_column_name=\"dataset\",\n",
    "    target=\"cell\",\n",
    "    scale=True,\n",
    "    harmony=True)"
   ]
  },
  {
   "cell_type": "code",
   "execution_count": null,
   "metadata": {},
   "outputs": [],
   "source": [
    "categories = list(cistopic_obj.cell_data.celltype.unique())\n",
    "colors = dict(zip(categories, [\"red\", \"green\", \"blue\", \"cyan\", \"yellow\", \"purple\", \"orange\", \"pink\"]))\n",
    "color_dictionary = {\"dataset\": {\"meiotic\": \"orange\", \"garcia_ATAC\": \"blue\"}, \"celltype\": colors}\n"
   ]
  },
  {
   "cell_type": "code",
   "execution_count": null,
   "metadata": {},
   "outputs": [],
   "source": [
    "plot_metadata(\n",
    "    cistopic_obj,\n",
    "    reduction_name=\"UMAP_projected_garcia_ATAC_meiotic\",  # Use the combined UMAP\n",
    "    variables=[\n",
    "        \"dataset\",\n",
    "        \"celltype\",        \n",
    "    ],\n",
    "    target=\"cell\",\n",
    "    num_columns=2,\n",
    "    show_label=False,\n",
    "    show_legend=True,\n",
    "    color_dictionary=color_dictionary,\n",
    "    text_size=10,\n",
    "    dot_size=5,\n",
    ")"
   ]
  },
  {
   "cell_type": "code",
   "execution_count": null,
   "metadata": {},
   "outputs": [],
   "source": [
    "\n",
    "plot_metadata(\n",
    "    cistopic_obj,\n",
    "    reduction_name=\"UMAP_projected_garcia_ATAC_meiotic\",  # Use the combined UMAP\n",
    "    variables=[\n",
    "        \"dataset\",\n",
    "        \"celltype\",        \n",
    "    ],\n",
    "    target=\"cell\",\n",
    "    num_columns=2,\n",
    "    show_label=False,\n",
    "    show_legend=True,\n",
    "    color_dictionary = color_dictionary,\n",
    "    selected_features=cistopic_obj.cell_data[cistopic_obj.cell_data['dataset'] == 'garcia_ATAC'].index.tolist(),\n",
    "    text_size=10,\n",
    "    dot_size=5,\n",
    ")"
   ]
  },
  {
   "cell_type": "code",
   "execution_count": null,
   "metadata": {},
   "outputs": [],
   "source": [
    "plot_metadata(\n",
    "    cistopic_obj,\n",
    "    reduction_name=\"UMAP_projected_garcia_ATAC_meiotic\",  # Use the combined UMAP\n",
    "    variables=[\n",
    "        \"dataset\",\n",
    "        \"celltype\",        \n",
    "    ],\n",
    "    target=\"cell\",\n",
    "    num_columns=2,\n",
    "    show_label=False,\n",
    "    show_legend=True,\n",
    "    color_dictionary = color_dictionary,\n",
    "    selected_features=cistopic_obj.cell_data[cistopic_obj.cell_data['dataset'] == 'meiotic'].index.tolist(),\n",
    "    text_size=10,\n",
    "    dot_size=5,\n",
    ")"
   ]
  },
  {
   "cell_type": "code",
   "execution_count": null,
   "metadata": {},
   "outputs": [],
   "source": [
    "import anndata as ad\n",
    "# Create AnnData objects\n",
    "adata_all = ad.AnnData(X=cistopic_obj.fragment_matrix.T.astype(np.float32), \n",
    "            obs=pd.DataFrame(index=cistopic_obj.cell_data.index.tolist()), \n",
    "            var=pd.DataFrame(index=cistopic_obj.region_names))\n",
    "\n",
    "\n",
    "adata_all.obs['celltype'] = cistopic_obj.cell_data.celltype\n",
    "adata_all.obs['dataset'] = cistopic_obj.cell_data.dataset"
   ]
  },
  {
   "cell_type": "code",
   "execution_count": null,
   "metadata": {},
   "outputs": [],
   "source": [
    "import scanpy as sc\n",
    "sc.pp.normalize_total(adata_all)\n",
    "sc.pp.log1p(adata_all)\n",
    "sc.pp.pca(adata_all)\n",
    "sc.pp.neighbors(adata_all)\n",
    "sc.tl.umap(adata_all)"
   ]
  },
  {
   "cell_type": "code",
   "execution_count": null,
   "metadata": {},
   "outputs": [],
   "source": [
    "from matplotlib import pyplot as plt\n",
    "\n",
    "# Plot\n",
    "fig, (ax1, ax2) = plt.subplots(1, 2, figsize=(12, 5))\n",
    "sc.pl.umap(adata_all, ax=ax1, color = \"dataset\", show=False)\n",
    "sc.pl.umap(adata_all, ax=ax2, color = \"celltype\", show=False)\n",
    "plt.tight_layout()\n",
    "plt.show()"
   ]
  },
  {
   "cell_type": "code",
   "execution_count": null,
   "metadata": {},
   "outputs": [],
   "source": [
    "# The scanpy ingest way\n",
    "\n",
    "cistopic_meiotic = cistopic_obj.subset(cistopic_obj.cell_data[cistopic_obj.cell_data['dataset'] == 'meiotic'].index.tolist(), copy=True)\n"
   ]
  },
  {
   "cell_type": "code",
   "execution_count": null,
   "metadata": {},
   "outputs": [],
   "source": [
    "cistopic_garcia = cistopic_obj.subset(cistopic_obj.cell_data[cistopic_obj.cell_data['dataset'] == 'garcia_ATAC'].index.tolist(), copy=True)"
   ]
  },
  {
   "cell_type": "code",
   "execution_count": null,
   "metadata": {},
   "outputs": [],
   "source": [
    "import anndata as ad\n",
    "# Create AnnData objects\n",
    "adata_meiotic = ad.AnnData(X=cistopic_meiotic.fragment_matrix.T.astype(np.float32), \n",
    "            obs=pd.DataFrame(index=cistopic_obj.cell_data[cistopic_obj.cell_data['dataset'] == 'meiotic'].index.tolist()), \n",
    "            var=pd.DataFrame(index=cistopic_obj.region_names))\n",
    "\n",
    "adata_garcia = ad.AnnData(X=cistopic_garcia.fragment_matrix.T.astype(np.float32), \n",
    "            obs=pd.DataFrame(index=cistopic_obj.cell_data[cistopic_obj.cell_data['dataset'] == 'garcia_ATAC'].index.tolist()), \n",
    "            var=pd.DataFrame(index=cistopic_garcia.region_names))"
   ]
  },
  {
   "cell_type": "code",
   "execution_count": null,
   "metadata": {},
   "outputs": [],
   "source": [
    "\n",
    "# Add some metadata\n",
    "adata_meiotic.obs['dataset'] = 'meiotic'\n",
    "adata_garcia.obs['dataset'] = 'garcia'\n",
    "\n",
    "adata_meiotic.obs['celltype'] = cistopic_meiotic.cell_data.celltype\n",
    "adata_garcia.obs['celltype'] = cistopic_garcia.cell_data.celltype"
   ]
  },
  {
   "cell_type": "code",
   "execution_count": null,
   "metadata": {},
   "outputs": [],
   "source": [
    "adata_garcia.X"
   ]
  },
  {
   "cell_type": "code",
   "execution_count": null,
   "metadata": {},
   "outputs": [],
   "source": [
    "common_regions = list(set(adata_garcia.var_names) & set(adata_meiotic.var_names))\n",
    "adata_meiotic = adata_meiotic[:, common_regions]\n",
    "adata_garcia = adata_garcia[:, common_regions]"
   ]
  },
  {
   "cell_type": "code",
   "execution_count": null,
   "metadata": {},
   "outputs": [],
   "source": [
    "import scanpy as sc\n",
    "sc.pp.normalize_total(adata_garcia)\n",
    "sc.pp.log1p(adata_garcia)\n",
    "sc.pp.pca(adata_garcia)\n",
    "sc.pp.neighbors(adata_garcia)\n",
    "sc.tl.umap(adata_garcia)"
   ]
  },
  {
   "cell_type": "code",
   "execution_count": null,
   "metadata": {},
   "outputs": [],
   "source": [
    "# Ingest the new data into the reference\n",
    "sc.tl.ingest(adata_meiotic, adata_garcia)"
   ]
  },
  {
   "cell_type": "code",
   "execution_count": null,
   "metadata": {},
   "outputs": [],
   "source": [
    "from matplotlib import pyplot as plt\n",
    "\n",
    "# Plot\n",
    "fig, (ax1, ax2) = plt.subplots(1, 2, figsize=(12, 5))\n",
    "sc.pl.umap(adata_garcia, ax=ax1, color = \"celltype\", show=False, title='Garcia')\n",
    "sc.pl.umap(adata_meiotic, ax=ax2, color = \"celltype\", show=False, title='Meiotic')\n",
    "plt.tight_layout()\n",
    "plt.show()"
   ]
  },
  {
   "cell_type": "code",
   "execution_count": null,
   "metadata": {},
   "outputs": [],
   "source": []
  }
 ],
 "metadata": {
  "kernelspec": {
   "display_name": "scenicplus",
   "language": "python",
   "name": "python3"
  },
  "language_info": {
   "codemirror_mode": {
    "name": "ipython",
    "version": 3
   },
   "file_extension": ".py",
   "mimetype": "text/x-python",
   "name": "python",
   "nbconvert_exporter": "python",
   "pygments_lexer": "ipython3",
   "version": "3.11.8"
  }
 },
 "nbformat": 4,
 "nbformat_minor": 2
}
