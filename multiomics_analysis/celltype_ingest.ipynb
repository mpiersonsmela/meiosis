{
 "cells": [
  {
   "cell_type": "code",
   "execution_count": null,
   "metadata": {},
   "outputs": [],
   "source": [
    "import os\n",
    "from pathlib import Path\n",
    "import pandas as pd\n",
    "from dotenv import load_dotenv\n",
    "import scanpy as sc\n",
    "import anndata\n",
    "\n",
    "load_dotenv()\n",
    "\n",
    "DATA_PATH = Path(os.getenv('DATA_PATH'))"
   ]
  },
  {
   "cell_type": "code",
   "execution_count": null,
   "metadata": {},
   "outputs": [],
   "source": [
    "# Load garcia_rna reference\n",
    "\n",
    "ref_germcell = sc.read_h5ad(DATA_PATH / 'atlas' / 'processed_files/E-MTAB-10551/human_germcells_reduced.h5ad')\n",
    "ref_somatic = sc.read_h5ad(DATA_PATH / 'atlas' / 'processed_files/E-MTAB-10551/human_somatic_reduced.h5ad')\n",
    "\n"
   ]
  },
  {
   "cell_type": "code",
   "execution_count": null,
   "metadata": {},
   "outputs": [],
   "source": [
    "ref_somatic.obs[\"celltype\"].value_counts()"
   ]
  },
  {
   "cell_type": "code",
   "execution_count": null,
   "metadata": {},
   "outputs": [],
   "source": [
    "ref_germcell.obs[\"celltype\"].value_counts()\n"
   ]
  },
  {
   "cell_type": "code",
   "execution_count": null,
   "metadata": {},
   "outputs": [],
   "source": [
    "ref_combined = sc.read_h5ad(DATA_PATH / 'atlas' / 'processed_files/E-MTAB-10551/human_combined.h5ad')\n",
    "new_types = pd.read_csv(DATA_PATH / 'garcia_ATAC/celltype_predictions/all_celltypes.csv', index_col = 0)\n",
    "germcell_types = new_types[new_types['is_germcell']]"
   ]
  },
  {
   "cell_type": "markdown",
   "metadata": {},
   "source": [
    "# Proportion of cell types comparison"
   ]
  },
  {
   "cell_type": "code",
   "execution_count": null,
   "metadata": {},
   "outputs": [],
   "source": [
    "ref_combined.obs[\"celltype\"].value_counts(normalize=True)"
   ]
  },
  {
   "cell_type": "code",
   "execution_count": null,
   "metadata": {},
   "outputs": [],
   "source": [
    "new_types['celltype'].value_counts(normalize=True)"
   ]
  },
  {
   "cell_type": "markdown",
   "metadata": {},
   "source": [
    "# Among germ cells only"
   ]
  },
  {
   "cell_type": "code",
   "execution_count": null,
   "metadata": {},
   "outputs": [],
   "source": [
    "ref_combined.obs[ref_combined.obs[\"celltype\"].isin(germcell_types['celltype'])][\"celltype\"].value_counts(normalize=True).loc[lambda x: x > 0]"
   ]
  },
  {
   "cell_type": "code",
   "execution_count": null,
   "metadata": {},
   "outputs": [],
   "source": [
    "germcell_types['celltype'].value_counts(normalize=True)"
   ]
  },
  {
   "cell_type": "code",
   "execution_count": null,
   "metadata": {},
   "outputs": [],
   "source": [
    "len(germcell_types) / len(new_types)"
   ]
  },
  {
   "cell_type": "markdown",
   "metadata": {},
   "source": [
    "# Merge all samples and create umap\n"
   ]
  },
  {
   "cell_type": "code",
   "execution_count": null,
   "metadata": {},
   "outputs": [],
   "source": [
    "# Load environment variables\n",
    "garcia_path = DATA_PATH / 'garcia_ATAC'\n",
    "matrix_files = list(garcia_path.glob('*matrix.mtx.gz'))    \n",
    "# Process each sample\n",
    "all_samples = []\n",
    "for matrix_file in matrix_files:\n",
    "    # Get the prefix before _matrix.mtx.gz\n",
    "    name = matrix_file.stem.replace('matrix.mtx', '')\n",
    "    # Return None if name contains \"and\" to skip these samples\n",
    "    sample_name = None if \"and\" in name.lower() else name\n",
    "    if sample_name is None:\n",
    "        print(f\"Skipping {matrix_file.name} as it contains 'and' in the name\")\n",
    "        continue\n",
    "        \n",
    "    print(f\"Processing sample {sample_name}...\")\n",
    "    \n",
    "    sample = sc.read_10x_mtx(garcia_path, prefix = sample_name)\n",
    "    sample.obs[\"sample\"] = sample_name\n",
    "    new_types_sample = new_types[new_types[\"sample\"] == sample_name]\n",
    "    sample.obs[\"celltype\"] = new_types_sample[\"celltype\"]\n",
    "    all_samples.append(sample)\n",
    "\n",
    "all_samples_adata = anndata.concat(all_samples, join = \"inner\")"
   ]
  },
  {
   "cell_type": "code",
   "execution_count": null,
   "metadata": {},
   "outputs": [],
   "source": [
    "all_samples_adata = all_samples_adata[all_samples_adata.obs[\"celltype\"].isin(germcell_types[\"celltype\"])]"
   ]
  },
  {
   "cell_type": "code",
   "execution_count": null,
   "metadata": {},
   "outputs": [],
   "source": [
    "all_samples_adata"
   ]
  },
  {
   "cell_type": "code",
   "execution_count": null,
   "metadata": {},
   "outputs": [],
   "source": [
    "all_samples_adata.X.max()"
   ]
  },
  {
   "cell_type": "code",
   "execution_count": null,
   "metadata": {},
   "outputs": [],
   "source": [
    "# Normalize and log transform\n",
    "sc.pp.normalize_total(all_samples_adata)\n",
    "sc.pp.log1p(all_samples_adata)\n",
    "\n",
    "# UMAP\n",
    "# sc.pp.neighbors(all_samples_adata)\n",
    "# sc.tl.umap(all_samples_adata)\n",
    "\n"
   ]
  },
  {
   "cell_type": "code",
   "execution_count": null,
   "metadata": {},
   "outputs": [],
   "source": [
    "ref_germcell"
   ]
  },
  {
   "cell_type": "code",
   "execution_count": null,
   "metadata": {},
   "outputs": [],
   "source": [
    "sc.pl.umap(ref_germcell, color = \"celltype\")"
   ]
  },
  {
   "cell_type": "code",
   "execution_count": null,
   "metadata": {},
   "outputs": [],
   "source": [
    "# Fit UMAP model to the reference data\n",
    "from umap import UMAP\n",
    "from matplotlib import pyplot as plt\n",
    "\n",
    "# Fit UMAP model using the scVI latent space that was used for the original UMAP\n",
    "umap_model = UMAP()\n",
    "umap_model.fit(ref_germcell.obsm['X_scVI'])\n",
    "\n",
    "# We need to get all_samples_adata into a compatible feature space\n",
    "# Since ref_germcell used scVI, we might need to:\n",
    "# 1. Either run scVI on all_samples_adata\n",
    "# 2. Or use a simpler approach with PCA to get to a similar dimensionality\n",
    "\n",
    "# For now, let's try with PCA\n",
    "sc.pp.pca(all_samples_adata, n_comps=ref_germcell.obsm['X_scVI'].shape[1])\n",
    "\n",
    "# Project onto reference UMAP\n",
    "projected_umap = umap_model.transform(all_samples_adata.obsm['X_pca'])\n",
    "all_samples_adata.obsm['X_umap'] = projected_umap\n",
    "\n",
    "# Plot to compare\n",
    "fig, (ax1, ax2) = plt.subplots(1, 2, figsize=(12, 5))\n",
    "sc.pl.umap(ref_germcell, color=\"celltype\", ax=ax1, show=False, title='Reference')\n",
    "sc.pl.umap(all_samples_adata, color=\"celltype\", ax=ax2, show=False, title='Projected')\n",
    "plt.tight_layout()\n",
    "plt.show()"
   ]
  },
  {
   "cell_type": "code",
   "execution_count": null,
   "metadata": {},
   "outputs": [],
   "source": [
    "# Concatenate the datasets\n",
    "# Make sure they share the same genes first\n",
    "common_genes = list(set(all_samples_adata.var_names) & set(ref_germcell.var_names))\n",
    "combined = anndata.concat(\n",
    "    [all_samples_adata[:, common_genes], ref_germcell[:, common_genes]],\n",
    "    join='inner',\n",
    "    label='dataset',  # This will create a new column in .obs called 'dataset'\n",
    "    keys=['new', 'atlas']\n",
    ")\n",
    "\n",
    "# Process the combined data\n",
    "sc.pp.normalize_total(combined)\n",
    "sc.pp.log1p(combined)\n",
    "sc.pp.pca(combined)\n",
    "sc.pp.neighbors(combined)\n",
    "sc.tl.umap(combined)\n",
    "\n",
    "# Plot\n",
    "fig, (ax1, ax2) = plt.subplots(1, 2, figsize=(12, 5))\n",
    "sc.pl.umap(combined, color=\"dataset\", ax=ax1, show=False, title='Datasets')\n",
    "sc.pl.umap(combined, color=\"celltype\", ax=ax2, show=False, title='Cell Types')\n",
    "plt.tight_layout()\n",
    "plt.show()"
   ]
  },
  {
   "cell_type": "code",
   "execution_count": null,
   "metadata": {},
   "outputs": [],
   "source": [
    "sc.pp.normalize_total(ref_germcell)\n",
    "sc.pp.log1p(ref_germcell)\n",
    "sc.pp.pca(ref_germcell)\n",
    "sc.pp.neighbors(ref_germcell)\n",
    "sc.tl.umap(ref_germcell)"
   ]
  },
  {
   "cell_type": "code",
   "execution_count": null,
   "metadata": {},
   "outputs": [],
   "source": [
    "from matplotlib import pyplot as plt\n",
    "gene_intersection = list(set(all_samples_adata.var_names) & set(ref_germcell.var_names))\n",
    "all_samples_adata = all_samples_adata[:, gene_intersection]\n",
    "ref_germcell = ref_germcell[:, gene_intersection]\n",
    "# Ingest the new data into the reference\n",
    "sc.tl.ingest(all_samples_adata, ref_germcell, obs='celltype')\n",
    "\n",
    "# Plot\n",
    "fig, (ax1, ax2) = plt.subplots(1, 2, figsize=(12, 5))\n",
    "sc.pl.umap(ref_germcell, color=\"celltype\", ax=ax1, show=False, title='Reference')\n",
    "sc.pl.umap(all_samples_adata, color=\"celltype\", ax=ax2, show=False, title='Ingested')\n",
    "plt.tight_layout()\n",
    "plt.show()"
   ]
  },
  {
   "cell_type": "code",
   "execution_count": null,
   "metadata": {},
   "outputs": [],
   "source": []
  },
  {
   "cell_type": "code",
   "execution_count": null,
   "metadata": {},
   "outputs": [],
   "source": []
  }
 ],
 "metadata": {
  "kernelspec": {
   "display_name": "ovelle_research",
   "language": "python",
   "name": "python3"
  },
  "language_info": {
   "codemirror_mode": {
    "name": "ipython",
    "version": 3
   },
   "file_extension": ".py",
   "mimetype": "text/x-python",
   "name": "python",
   "nbconvert_exporter": "python",
   "pygments_lexer": "ipython3",
   "version": "3.12.7"
  }
 },
 "nbformat": 4,
 "nbformat_minor": 2
}
