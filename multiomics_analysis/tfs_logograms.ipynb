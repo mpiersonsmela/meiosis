{
 "cells": [
  {
   "cell_type": "code",
   "execution_count": null,
   "metadata": {},
   "outputs": [],
   "source": [
    "import pandas as pd\n",
    "import numpy as np\n",
    "from bs4 import BeautifulSoup\n"
   ]
  },
  {
   "cell_type": "code",
   "execution_count": null,
   "metadata": {},
   "outputs": [],
   "source": [
    "def get_tf_matches(html_file):\n",
    "    # Load the HTML file\n",
    "\n",
    "    # Read the HTML file into BeautifulSoup\n",
    "    with open(html_file, \"r\", encoding=\"utf-8\") as file:\n",
    "        soup = BeautifulSoup(file, \"html.parser\")\n",
    "\n",
    "    # Find the table\n",
    "    table = soup.find(\"table\")  # Adjust if there's more than one table or a specific identifier\n",
    "\n",
    "    # Extract rows\n",
    "    rows = table.find_all(\"tr\")\n",
    "\n",
    "    # Parse the table into a list of lists\n",
    "    data = []\n",
    "    for row in rows:\n",
    "        cells = row.find_all([\"td\", \"th\"])  # Include both header and data cells\n",
    "        row_data = []\n",
    "        for cell in cells:\n",
    "            # Check if the cell contains an image\n",
    "            img_tag = cell.find(\"img\")\n",
    "            if img_tag:\n",
    "                row_data.append(img_tag.get(\"src\"))  # Get the `src` attribute of the image\n",
    "            else:\n",
    "                row_data.append(cell.get_text(strip=True))  # Get the text content\n",
    "        data.append(row_data)\n",
    "\n",
    "    # Convert the data into a Pandas DataFrame\n",
    "    df = pd.DataFrame(data)\n",
    "    df = df.set_index(df.columns[0])  # Set the first column as the index\n",
    "\n",
    "    # Inspect the DataFrame\n",
    "\n",
    "    df.columns = df.iloc[0]\n",
    "    df = df[1:]\n",
    "\n",
    "    df[\"Direct_annot\"] = df[\"Direct_annot\"].str.split(\",\").apply(lambda x: [item.strip() for item in x])  # Split strings into lists\n",
    "    df = df.dropna(subset=[\"Direct_annot\", \"Logo\"])  # Drop rows where Direct_annot is NaN\n",
    "    df = df.explode(\"Direct_annot\", ignore_index=True)  # Expand into multiple rows\n",
    "\n",
    "    # Group by TF and get the first Logo for each TF\n",
    "    tf_matches = df[[\"Direct_annot\", \"Logo\"]].groupby(\"Direct_annot\").first()\n",
    "\n",
    "    return tf_matches"
   ]
  },
  {
   "cell_type": "code",
   "execution_count": null,
   "metadata": {},
   "outputs": [],
   "source": [
    "tf_matches_ctx = get_tf_matches(\"/Users/bogdan/Downloads/ctx_results.html\")\n",
    "tf_matches_dem = get_tf_matches(\"/Users/bogdan/Downloads/dem_results.html\")\n",
    "tf_matches_ctx.columns = [\"Logo_ctx\"]\n",
    "tf_matches_dem.columns = [\"Logo_dem\"]"
   ]
  },
  {
   "cell_type": "code",
   "execution_count": null,
   "metadata": {},
   "outputs": [],
   "source": [
    "tf_matches = pd.concat([tf_matches_ctx, tf_matches_dem], axis = 1)\n",
    "tf_matches[\"Logo\"] = np.where(~tf_matches[\"Logo_ctx\"].isna(), tf_matches[\"Logo_ctx\"], tf_matches[\"Logo_dem\"])\n",
    "tf_matches"
   ]
  },
  {
   "cell_type": "code",
   "execution_count": null,
   "metadata": {},
   "outputs": [],
   "source": [
    "top_tfs = pd.read_csv(\"/Users/bogdan/Downloads/top_meiotic_tfs.csv\", index_col=0)"
   ]
  },
  {
   "cell_type": "code",
   "execution_count": null,
   "metadata": {},
   "outputs": [],
   "source": [
    "top_tfs"
   ]
  },
  {
   "cell_type": "code",
   "execution_count": null,
   "metadata": {},
   "outputs": [],
   "source": [
    "top_tfs = top_tfs.head(20).merge(tf_matches[\"Logo\"], \"left\", left_index=True, right_index=True)"
   ]
  },
  {
   "cell_type": "code",
   "execution_count": null,
   "metadata": {},
   "outputs": [],
   "source": [
    "top_tfs"
   ]
  },
  {
   "cell_type": "code",
   "execution_count": null,
   "metadata": {},
   "outputs": [],
   "source": [
    "top_tfs.to_csv(\"/Users/bogdan/ovelle/output/garcia_ATAC/tfs_logos.csv\", index = True)"
   ]
  },
  {
   "cell_type": "code",
   "execution_count": null,
   "metadata": {},
   "outputs": [],
   "source": [
    "top_regulons = pd.read_csv(\"/Users/bogdan/Downloads/top_meiotic_regulons.csv\", index_col=0)"
   ]
  },
  {
   "cell_type": "code",
   "execution_count": null,
   "metadata": {},
   "outputs": [],
   "source": [
    "top_regulons[\"TF\"] = top_regulons.index.str.split(\"_\").str[0]\n",
    "top_regulons"
   ]
  },
  {
   "cell_type": "code",
   "execution_count": null,
   "metadata": {},
   "outputs": [],
   "source": [
    "top_regulons = top_regulons.head(20).merge(tf_matches[\"Logo\"], \"left\", left_on = \"TF\", right_index=True)\n",
    "top_regulons"
   ]
  },
  {
   "cell_type": "code",
   "execution_count": null,
   "metadata": {},
   "outputs": [],
   "source": [
    "top_regulons.to_csv(\"/Users/bogdan/ovelle/output/garcia_ATAC/regulons_tfs_logos.csv\", index = True)"
   ]
  }
 ],
 "metadata": {
  "kernelspec": {
   "display_name": "ovelle_research_base",
   "language": "python",
   "name": "python3"
  },
  "language_info": {
   "codemirror_mode": {
    "name": "ipython",
    "version": 3
   },
   "file_extension": ".py",
   "mimetype": "text/x-python",
   "name": "python",
   "nbconvert_exporter": "python",
   "pygments_lexer": "ipython3",
   "version": "3.12.7"
  }
 },
 "nbformat": 4,
 "nbformat_minor": 2
}
