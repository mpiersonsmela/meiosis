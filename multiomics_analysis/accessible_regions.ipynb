{
 "cells": [
  {
   "cell_type": "code",
   "execution_count": null,
   "metadata": {},
   "outputs": [],
   "source": [
    "import pybedtools\n",
    "import pandas as pd\n",
    "import matplotlib.pyplot as plt\n",
    "import seaborn as sns\n",
    "import os\n",
    "from pathlib import Path\n",
    "from dotenv import load_dotenv\n",
    "\n",
    "load_dotenv()\n",
    "DATA_PATH = Path(os.getenv(\"DATA_PATH\"))/'garcia_ATAC'\n"
   ]
  },
  {
   "cell_type": "code",
   "execution_count": null,
   "metadata": {},
   "outputs": [],
   "source": [
    "scenic_consensus_peak_paths = '/mnt/windows/extradata/meiotic_cells/atac_preprocessing/consensus_regions.bed'\n",
    "peaks = pd.read_csv(scenic_consensus_peak_paths, sep='\\t', header=None, comment = \"#\")\n",
    "    \n",
    "# Assuming standard BED3+ format\n",
    "peaks.columns = ['chrom', 'start', 'end', \"name\", \"score\"]\n",
    "\n",
    "peaks_bed = pybedtools.BedTool.from_dataframe(peaks)\n"
   ]
  },
  {
   "cell_type": "code",
   "execution_count": null,
   "metadata": {},
   "outputs": [],
   "source": [
    "peaks_bed"
   ]
  },
  {
   "cell_type": "code",
   "execution_count": null,
   "metadata": {},
   "outputs": [],
   "source": [
    "print(f'total_peaks: {len(peaks_bed)}')\n",
    "print(f'total_coverage: {sum(peak.length for peak in peaks_bed)}')\n",
    "    "
   ]
  },
  {
   "cell_type": "code",
   "execution_count": null,
   "metadata": {},
   "outputs": [],
   "source": [
    "peaks"
   ]
  },
  {
   "cell_type": "code",
   "execution_count": null,
   "metadata": {},
   "outputs": [],
   "source": [
    "\n",
    "feature_beds = {\n",
    "    'promoters': DATA_PATH / 'feature_annotation/Hs_EPDnew_006_hg38_900up400down.bed',\n",
    "    'CpG_islands': DATA_PATH / 'feature_annotation/2023-12-29_CpGislands_export.bed',\n",
    "    'imprints': DATA_PATH / 'feature_annotation/human_imprintome_hg38_ICRs_coordinates.bed',\n",
    "    'TEs': DATA_PATH / 'feature_annotation/2024-01-06_RepeatMasker_UCSC_Export.bed'\n",
    "}\n"
   ]
  },
  {
   "cell_type": "code",
   "execution_count": null,
   "metadata": {},
   "outputs": [],
   "source": [
    "feature = pybedtools.BedTool(feature_beds['promoters'])\n"
   ]
  },
  {
   "cell_type": "code",
   "execution_count": null,
   "metadata": {},
   "outputs": [],
   "source": [
    "overlaps = peaks_bed.intersect(feature, wa=True, wb=True)\n",
    "overlaps"
   ]
  },
  {
   "cell_type": "code",
   "execution_count": null,
   "metadata": {},
   "outputs": [],
   "source": [
    "overlaps.head()"
   ]
  },
  {
   "cell_type": "code",
   "execution_count": null,
   "metadata": {},
   "outputs": [],
   "source": [
    "len(peaks_bed), len(feature)\n"
   ]
  },
  {
   "cell_type": "code",
   "execution_count": null,
   "metadata": {},
   "outputs": [],
   "source": [
    "def analyze_scenic_accessibility(atac_peaks, feature_name, feature_bed):       \n",
    "    results = []\n",
    "    genome_size = 2.9e9\n",
    "    feature = pybedtools.BedTool(feature_bed)\n",
    "    overlaps = atac_peaks.intersect(feature, wo=True)\n",
    "    \n",
    "    # Calculate base coverage\n",
    "    total_peak_bases = sum(peak.length for peak in atac_peaks)\n",
    "    total_feature_bases = sum(f.length for f in feature)\n",
    "    bases_overlapping = sum(int(o.fields[-1]) for o in overlaps) if overlaps else 0\n",
    "    \n",
    "    results.append({\n",
    "        'feature_type': feature_name,        \n",
    "        # What proportion of feature bases are accessible?\n",
    "        'percent_coverage_of_features': (bases_overlapping / total_feature_bases) * 100,\n",
    "        # How enriched is accessibility at these features?\n",
    "        'enrichment_over_genome': (bases_overlapping / total_peak_bases) / (total_feature_bases / genome_size),\n",
    "        # Raw counts for reference\n",
    "        'total_peak_bases': total_peak_bases,\n",
    "        'total_feature_bases': total_feature_bases,\n",
    "        'overlapping_bases': bases_overlapping\n",
    "    })\n",
    "    \n",
    "    return pd.DataFrame(results)"
   ]
  },
  {
   "cell_type": "code",
   "execution_count": null,
   "metadata": {},
   "outputs": [],
   "source": [
    "all_results = []\n",
    "for name, bed in feature_beds.items():\n",
    "    print(name)\n",
    "    all_results.append(analyze_scenic_accessibility(peaks_bed, name, bed))\n",
    "\n",
    "all_results_df = pd.concat(all_results)\n",
    "all_results_df\n"
   ]
  },
  {
   "cell_type": "code",
   "execution_count": null,
   "metadata": {},
   "outputs": [],
   "source": [
    "all_results_df.to_csv(Path(os.getenv(\"OUTPUT_PATH\"))/'garcia_ATAC/outputs/feature_accessibility.csv', index=False)"
   ]
  },
  {
   "cell_type": "code",
   "execution_count": null,
   "metadata": {},
   "outputs": [],
   "source": [
    "def plot_accessibility_patterns(results_df):\n",
    "    fig, (ax1, ax2) = plt.subplots(1, 2, figsize=(18, 5))\n",
    "    \n",
    "    # Plot percentage of ATAC coverage at each feature\n",
    "    sns.barplot(data=results_df, \n",
    "                x='feature_type', \n",
    "                y='percent_coverage_of_features',\n",
    "                ax=ax1)\n",
    "    ax1.set_title('% feature coverage')\n",
    "    ax1.set_ylabel('% of feature bases')\n",
    "    \n",
    "    # Plot enrichment\n",
    "    sns.barplot(data=results_df,\n",
    "                x='feature_type',\n",
    "                y='enrichment_over_genome',\n",
    "                ax=ax2)\n",
    "    ax2.set_title('Coverage enrichment over genome background')\n",
    "    ax2.set_ylabel('Fold enrichment')    \n",
    "    \n",
    "    # Rotate x-axis labels if they're too long\n",
    "    for ax in [ax1, ax2]:\n",
    "        ax.tick_params(axis='x', rotation=45)\n",
    "    \n",
    "    plt.tight_layout()\n",
    "    plt.show()"
   ]
  },
  {
   "cell_type": "code",
   "execution_count": null,
   "metadata": {},
   "outputs": [],
   "source": [
    "fig = plot_accessibility_patterns(all_results_df)"
   ]
  },
  {
   "cell_type": "markdown",
   "metadata": {},
   "source": [
    "# Get detailed overlaps for promoters"
   ]
  },
  {
   "cell_type": "code",
   "execution_count": null,
   "metadata": {},
   "outputs": [],
   "source": [
    "# Get detailed overlaps for promoters\n",
    "promoter_overlaps = peaks_bed.intersect(\n",
    "    pybedtools.BedTool(feature_beds['promoters']), \n",
    "    wo=True\n",
    ")\n",
    "\n",
    "# Convert to DataFrame for easier analysis\n",
    "overlaps_df = pd.DataFrame([\n",
    "    {\n",
    "        'peak_chrom': o.fields[0],\n",
    "        'peak_start': int(o.fields[1]),\n",
    "        'peak_end': int(o.fields[2]),\n",
    "        'promoter_name': o.fields[-2],\n",
    "        'overlap_size': int(o.fields[-1]),\n",
    "    }\n",
    "    for o in promoter_overlaps\n",
    "])\n",
    "\n",
    "# Group by promoter and sum overlap sizes\n",
    "promoter_coverage = (overlaps_df\n",
    "    .groupby('promoter_name')\n",
    "    .agg({\n",
    "        'overlap_size': 'sum',\n",
    "        'peak_chrom': 'first'  # Keep chromosome for reference\n",
    "    })\n",
    "    .sort_values('overlap_size', ascending=False)\n",
    ")\n",
    "\n",
    "# Display top 20 promoters with highest ATAC coverage\n",
    "print(\"Top 20 promoters by ATAC coverage:\")\n",
    "print(promoter_coverage.head(20))\n",
    "\n",
    "# Create a bar plot of top promoters\n",
    "plt.figure(figsize=(12, 6))\n",
    "sns.barplot(data=promoter_coverage.head(20).reset_index(), \n",
    "            x='promoter_name', \n",
    "            y='overlap_size')\n",
    "plt.xticks(rotation=45, ha='right')\n",
    "plt.title('Top 20 Promoters by ATAC Coverage')\n",
    "plt.ylabel('Total bases covered by ATAC peaks')\n",
    "plt.tight_layout()\n",
    "plt.show()"
   ]
  },
  {
   "cell_type": "code",
   "execution_count": null,
   "metadata": {},
   "outputs": [],
   "source": [
    "all_overlaps = []\n",
    "for i in range(1,4):\n",
    "    peak_path = f'/mnt/windows/extradata/meiotic_cells/24047-05-0{i}/atac_peaks.bed'\n",
    "    peaks = pd.read_csv(peak_path, sep='\\t', header=None, comment = \"#\")\n",
    "        \n",
    "    # Assuming standard BED3+ format\n",
    "    peaks.columns = ['chrom', 'start', 'end']\n",
    "\n",
    "    peaks = peaks.loc[peaks.chrom.str.startswith('chr')]\n",
    "    peaks_bed = pybedtools.BedTool.from_dataframe(peaks)\n",
    "    promoter_overlaps = pybedtools.BedTool(feature_beds['promoters']).intersect(peaks_bed, wao=True)\n",
    "    # Convert to DataFrame for easier analysis\n",
    "    overlaps_df = pd.DataFrame([\n",
    "    {\n",
    "        'promoter_name': o.fields[3],\n",
    "        'overlap_size': int(o.fields[-1]),\n",
    "    }\n",
    "    for o in promoter_overlaps\n",
    "    ])\n",
    "    overlaps_df_by_promoter = overlaps_df.groupby(\"promoter_name\").sum()\n",
    "\n",
    "    all_overlaps.append(overlaps_df_by_promoter)\n",
    "\n",
    "all_overlaps_df = pd.concat(all_overlaps)\n"
   ]
  },
  {
   "cell_type": "code",
   "execution_count": null,
   "metadata": {},
   "outputs": [],
   "source": [
    "\n",
    "all_overlaps_df.head()"
   ]
  },
  {
   "cell_type": "code",
   "execution_count": null,
   "metadata": {},
   "outputs": [],
   "source": [
    "all_overlaps_df.head()"
   ]
  },
  {
   "cell_type": "code",
   "execution_count": null,
   "metadata": {},
   "outputs": [],
   "source": [
    "plt.figure(figsize=(12, 6))\n",
    "all_overlaps_df.overlap_size.hist()\n",
    "plt.title('Histogram of Overlap Sizes')\n",
    "plt.xlabel('Overlap Size')\n",
    "plt.ylabel('Count')\n",
    "plt.tight_layout()\n",
    "plt.savefig('/mnt/storage/outputs/garcia_ATAC/outputs/TSS_overlap_hist_2.svg', format='svg')\n",
    "plt.show()"
   ]
  }
 ],
 "metadata": {
  "kernelspec": {
   "display_name": "scenicplus",
   "language": "python",
   "name": "python3"
  },
  "language_info": {
   "codemirror_mode": {
    "name": "ipython",
    "version": 3
   },
   "file_extension": ".py",
   "mimetype": "text/x-python",
   "name": "python",
   "nbconvert_exporter": "python",
   "pygments_lexer": "ipython3",
   "version": "3.11.8"
  }
 },
 "nbformat": 4,
 "nbformat_minor": 2
}
