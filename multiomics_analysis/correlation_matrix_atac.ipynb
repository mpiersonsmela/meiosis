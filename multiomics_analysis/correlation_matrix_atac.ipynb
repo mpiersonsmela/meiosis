{
 "cells": [
  {
   "cell_type": "code",
   "execution_count": null,
   "metadata": {},
   "outputs": [],
   "source": [
    "import os\n",
    "from pathlib import Path\n",
    "import pandas as pd\n",
    "from dotenv import load_dotenv\n",
    "import scanpy as sc\n",
    "import numpy as np\n",
    "import seaborn as sns\n",
    "import matplotlib.pyplot as plt\n",
    "load_dotenv()\n",
    "\n",
    "DATA_PATH = Path(os.getenv(\"OUTPUT_PATH\"))/'garcia_ATAC'"
   ]
  },
  {
   "cell_type": "code",
   "execution_count": null,
   "metadata": {},
   "outputs": [],
   "source": [
    "import pickle\n",
    "cistopic_obj = pickle.load(open(DATA_PATH / 'atac_preprocessing_combined/cistopic_obj.pkl', \"rb\"))"
   ]
  },
  {
   "cell_type": "code",
   "execution_count": null,
   "metadata": {},
   "outputs": [],
   "source": [
    "has_celltype = cistopic_obj.cell_data[~cistopic_obj.cell_data.celltype.isna()].index.tolist()\n",
    "cistopic_obj = cistopic_obj.subset(cells=has_celltype, copy = True)"
   ]
  },
  {
   "cell_type": "code",
   "execution_count": null,
   "metadata": {},
   "outputs": [],
   "source": [
    "is_pre_oocyte = cistopic_obj.cell_data[cistopic_obj.cell_data.celltype != 'pre_oocyte'].index.tolist()\n",
    "cistopic_obj = cistopic_obj.subset(cells=is_pre_oocyte, copy = True)"
   ]
  },
  {
   "cell_type": "code",
   "execution_count": null,
   "metadata": {},
   "outputs": [],
   "source": [
    "print(cistopic_obj.fragment_matrix.shape)"
   ]
  },
  {
   "cell_type": "code",
   "execution_count": null,
   "metadata": {},
   "outputs": [],
   "source": [
    "print(cistopic_obj.cell_data[\"sample\"].unique())"
   ]
  },
  {
   "cell_type": "code",
   "execution_count": null,
   "metadata": {},
   "outputs": [],
   "source": [
    "cistopic_obj.cell_data['celltype_2'] = np.where(cistopic_obj.cell_data['sample'].str.startswith('24047'), \"our_meiotic_cells_\", \"atlas_\") + cistopic_obj.cell_data['celltype']"
   ]
  },
  {
   "cell_type": "code",
   "execution_count": null,
   "metadata": {},
   "outputs": [],
   "source": [
    "cistopic_obj.cell_data['celltype_2'].unique()"
   ]
  },
  {
   "cell_type": "code",
   "execution_count": null,
   "metadata": {},
   "outputs": [],
   "source": [
    "import anndata as ad\n",
    "\n",
    "# Create AnnData objects\n",
    "adata = ad.AnnData(X=cistopic_obj.fragment_matrix.T,\n",
    "            obs=pd.DataFrame(index=cistopic_obj.cell_names), \n",
    "            var=pd.DataFrame(index=cistopic_obj.region_names))"
   ]
  },
  {
   "cell_type": "code",
   "execution_count": null,
   "metadata": {},
   "outputs": [],
   "source": [
    "adata.obs['celltype'] = cistopic_obj.cell_data['celltype_2']"
   ]
  },
  {
   "cell_type": "code",
   "execution_count": null,
   "metadata": {},
   "outputs": [],
   "source": [
    "adata.write_h5ad(DATA_PATH / \"temp_adata.h5ad\")"
   ]
  },
  {
   "cell_type": "code",
   "execution_count": null,
   "metadata": {},
   "outputs": [],
   "source": [
    "adata = sc.read_h5ad(DATA_PATH / \"temp_adata.h5ad\")"
   ]
  },
  {
   "cell_type": "code",
   "execution_count": null,
   "metadata": {},
   "outputs": [],
   "source": [
    "print(adata)"
   ]
  },
  {
   "cell_type": "code",
   "execution_count": null,
   "metadata": {},
   "outputs": [],
   "source": [
    "aggregate_func = \"sum\"\n",
    "pseudobulk = sc.get.aggregate(adata, by=[\"celltype\"], func=aggregate_func)\n"
   ]
  },
  {
   "cell_type": "code",
   "execution_count": null,
   "metadata": {},
   "outputs": [],
   "source": [
    "pseudobulk.obs.index"
   ]
  },
  {
   "cell_type": "code",
   "execution_count": null,
   "metadata": {},
   "outputs": [],
   "source": [
    "#Convert AnnData objects to pandas DataFrames for correlation analysis\n",
    "corr_df = pd.DataFrame(pseudobulk.layers[aggregate_func], index=pseudobulk.obs.index, columns=pseudobulk.var_names)\n"
   ]
  },
  {
   "cell_type": "code",
   "execution_count": null,
   "metadata": {},
   "outputs": [],
   "source": [
    "corr_df"
   ]
  },
  {
   "cell_type": "code",
   "execution_count": null,
   "metadata": {},
   "outputs": [],
   "source": [
    "#Compute the Spearman correlation matrix for the combined dataframe\n",
    "correlation_matrix_combined = corr_df.T.corr(method='spearman')"
   ]
  },
  {
   "cell_type": "code",
   "execution_count": null,
   "metadata": {},
   "outputs": [],
   "source": [
    "correlation_matrix_combined\n"
   ]
  },
  {
   "cell_type": "code",
   "execution_count": null,
   "metadata": {},
   "outputs": [],
   "source": [
    "# Step 6: Plot a heatmap of the combined correlation matrix\n",
    "plt.figure(figsize=(12, 10))\n",
    "sns.heatmap(\n",
    "\tcorrelation_matrix_combined,\n",
    "\tannot=True,\n",
    "\tfmt=\".2f\",\n",
    "\tcmap=\"coolwarm\",\n",
    "\tcbar_kws={'label': 'Spearman Correlation'},\n",
    "\txticklabels=correlation_matrix_combined.columns,\n",
    "\tyticklabels=correlation_matrix_combined.index\n",
    ")\n",
    "plt.title(\"Spearman Correlation Among Cell Types (Both Samples)\")\n",
    "plt.xlabel(\"Cell Types\")\n",
    "plt.ylabel(\"Cell Types\")\n",
    "plt.tight_layout()\n",
    "plt.show()\n"
   ]
  }
 ],
 "metadata": {
  "kernelspec": {
   "display_name": "ovelle_research",
   "language": "python",
   "name": "python3"
  },
  "language_info": {
   "codemirror_mode": {
    "name": "ipython",
    "version": 3
   },
   "file_extension": ".py",
   "mimetype": "text/x-python",
   "name": "python",
   "nbconvert_exporter": "python",
   "pygments_lexer": "ipython3",
   "version": "3.12.7"
  }
 },
 "nbformat": 4,
 "nbformat_minor": 2
}
