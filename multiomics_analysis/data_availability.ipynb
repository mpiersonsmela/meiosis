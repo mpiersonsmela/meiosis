{
 "cells": [
  {
   "cell_type": "code",
   "execution_count": null,
   "metadata": {},
   "outputs": [],
   "source": [
    "import os\n",
    "from pathlib import Path\n",
    "import pandas as pd\n",
    "from dotenv import load_dotenv\n",
    "\n",
    "pd.set_option('display.max_rows', None)\n",
    "pd.set_option('display.max_columns', None)\n",
    "pd.set_option('display.width', None)\n",
    "pd.set_option('display.max_colwidth', None)\n",
    "\n",
    "load_dotenv()\n",
    "\n",
    "# set working directory\n",
    "\n",
    "DATA_PATH = Path(os.getenv('DATA_PATH')) / 'garcia_ATAC'\n"
   ]
  },
  {
   "cell_type": "code",
   "execution_count": null,
   "metadata": {},
   "outputs": [],
   "source": [
    "# Load SDRF File\n",
    "sdrf_file = DATA_PATH / 'E-MTAB-11708.sdrf.txt'\n",
    "sdrf = pd.read_csv(sdrf_file, sep='\\t')\n",
    "\n",
    "sdrf\n",
    "\n"
   ]
  },
  {
   "cell_type": "code",
   "execution_count": null,
   "metadata": {},
   "outputs": [],
   "source": [
    "sdrf.loc[sdrf['Source Name'] == 'FCA_GND10287600', :]\n",
    "\n",
    "\n"
   ]
  },
  {
   "cell_type": "code",
   "execution_count": null,
   "metadata": {},
   "outputs": [],
   "source": [
    "sdrf.loc[sdrf['Source Name'] == 'FCA_GND10288176', :]\n"
   ]
  },
  {
   "cell_type": "code",
   "execution_count": null,
   "metadata": {},
   "outputs": [],
   "source": [
    "all_samples = sdrf[\"Source Name\"].unique()\n",
    "all_samples"
   ]
  },
  {
   "cell_type": "code",
   "execution_count": null,
   "metadata": {},
   "outputs": [],
   "source": [
    "pair_samples = sdrf[\"Characteristics[paired library]\"].unique()\n",
    "pair_samples"
   ]
  },
  {
   "cell_type": "code",
   "execution_count": null,
   "metadata": {},
   "outputs": [],
   "source": [
    "set(all_samples).symmetric_difference(set(pair_samples))"
   ]
  },
  {
   "cell_type": "code",
   "execution_count": null,
   "metadata": {},
   "outputs": [],
   "source": [
    "rna_samples = sdrf.loc[sdrf[\"Characteristics[protocol]\"] == \"rna\", \"Source Name\"].unique()\n",
    "rna_samples"
   ]
  },
  {
   "cell_type": "code",
   "execution_count": null,
   "metadata": {},
   "outputs": [],
   "source": [
    "atac_samples = sdrf.loc[sdrf[\"Characteristics[protocol]\"] == \"atac\", \"Source Name\"].unique()\n",
    "atac_samples"
   ]
  },
  {
   "cell_type": "code",
   "execution_count": null,
   "metadata": {},
   "outputs": [],
   "source": [
    "set(rna_samples).union(set(atac_samples)) == set(all_samples)"
   ]
  },
  {
   "cell_type": "code",
   "execution_count": null,
   "metadata": {},
   "outputs": [],
   "source": [
    "set(rna_samples).intersection(set(atac_samples))"
   ]
  },
  {
   "cell_type": "code",
   "execution_count": null,
   "metadata": {},
   "outputs": [],
   "source": [
    "pairs_of_rna_samples = sdrf.loc[sdrf[\"Source Name\"].isin(rna_samples), \"Characteristics[paired library]\"].unique()\n",
    "pairs_of_rna_samples\n"
   ]
  },
  {
   "cell_type": "code",
   "execution_count": null,
   "metadata": {},
   "outputs": [],
   "source": [
    "set(pairs_of_rna_samples) == set(atac_samples)"
   ]
  },
  {
   "cell_type": "code",
   "execution_count": null,
   "metadata": {},
   "outputs": [],
   "source": [
    "dict_of_matches = sdrf.loc[:, [\"Source Name\", \"Characteristics[paired library]\"]].groupby(\"Source Name\").first()"
   ]
  },
  {
   "cell_type": "code",
   "execution_count": null,
   "metadata": {},
   "outputs": [],
   "source": [
    "dic = dict(zip(dict_of_matches.index, dict_of_matches[\"Characteristics[paired library]\"]))\n",
    "dic"
   ]
  },
  {
   "cell_type": "code",
   "execution_count": null,
   "metadata": {},
   "outputs": [],
   "source": [
    "# Load one sample and figure out where everything is\n",
    "\n",
    "# Load fragments file\n",
    "fragments_file = DATA_PATH / \"FCA_GND10288176_and_FCA_GND10287600_atac_fragments.tsv.gz\"\n",
    "fragments = pd.read_csv(fragments_file, sep=\"\\t\", header=None, \n",
    "                       names=[\"chrom\", \"start\", \"end\", \"barcode\", \"count\"])\n",
    "fragments.head()\n"
   ]
  },
  {
   "cell_type": "code",
   "execution_count": null,
   "metadata": {},
   "outputs": [],
   "source": [
    "frag_barcodes = fragments.barcode.unique()"
   ]
  },
  {
   "cell_type": "code",
   "execution_count": null,
   "metadata": {},
   "outputs": [],
   "source": [
    "set(frag_barcodes).issuperset(set(adata.obs_names))"
   ]
  },
  {
   "cell_type": "code",
   "execution_count": null,
   "metadata": {},
   "outputs": [],
   "source": [
    "per_barcode_metrics = pd.read_csv(DATA_PATH / \"FCA_GND10288176_and_FCA_GND10287600_per_barcode_metrics.csv\")\n",
    "per_barcode_metrics.head()"
   ]
  },
  {
   "cell_type": "code",
   "execution_count": null,
   "metadata": {},
   "outputs": [],
   "source": [
    "import scanpy as sc\n",
    "# Load matrix files using scanpy\n",
    "adata = sc.read_10x_mtx(\n",
    "    DATA_PATH,\n",
    "    prefix=\"FCA_GND10287600_\"\n",
    ")\n",
    "adata\n"
   ]
  },
  {
   "cell_type": "code",
   "execution_count": null,
   "metadata": {},
   "outputs": [],
   "source": [
    "adata.obs_names"
   ]
  },
  {
   "cell_type": "code",
   "execution_count": null,
   "metadata": {},
   "outputs": [],
   "source": [
    "# Load matrix files using scanpy\n",
    "adata_atac = sc.read_10x_mtx(\n",
    "    DATA_PATH,\n",
    "    prefix=\"FCA_GND10288176_and_FCA_GND10287600_\"\n",
    ")\n",
    "adata_atac"
   ]
  },
  {
   "cell_type": "code",
   "execution_count": null,
   "metadata": {},
   "outputs": [],
   "source": [
    "adata_atac.X.toarray().min(), adata_atac.X.toarray().max() "
   ]
  },
  {
   "cell_type": "code",
   "execution_count": null,
   "metadata": {},
   "outputs": [],
   "source": [
    "adata_atac.obs_names.unique()\n"
   ]
  },
  {
   "cell_type": "code",
   "execution_count": null,
   "metadata": {},
   "outputs": [],
   "source": [
    "set(adata.obs_names.unique()).issubset(set(adata_atac.obs_names.unique()))"
   ]
  },
  {
   "cell_type": "code",
   "execution_count": null,
   "metadata": {},
   "outputs": [],
   "source": [
    "per_barcode_metrics.loc[per_barcode_metrics.is_cell == 1, :].shape"
   ]
  },
  {
   "cell_type": "code",
   "execution_count": null,
   "metadata": {},
   "outputs": [],
   "source": [
    "set(per_barcode_metrics[\"gex_barcode\"].unique()).issuperset(adata.obs_names)"
   ]
  },
  {
   "cell_type": "code",
   "execution_count": null,
   "metadata": {},
   "outputs": [],
   "source": [
    "original_garcia_atlas = sc.read_h5ad(\"/Users/bogdan/ovelle/data/atlas/processed_files/E-MTAB-10551/human_germcells.h5ad\")\n",
    "original_garcia_atlas\n"
   ]
  },
  {
   "cell_type": "code",
   "execution_count": null,
   "metadata": {},
   "outputs": [],
   "source": [
    "original_garcia_atlas.obs.head()"
   ]
  }
 ],
 "metadata": {
  "kernelspec": {
   "display_name": "ovelle_research_base",
   "language": "python",
   "name": "python3"
  },
  "language_info": {
   "codemirror_mode": {
    "name": "ipython",
    "version": 3
   },
   "file_extension": ".py",
   "mimetype": "text/x-python",
   "name": "python",
   "nbconvert_exporter": "python",
   "pygments_lexer": "ipython3",
   "version": "3.12.7"
  }
 },
 "nbformat": 4,
 "nbformat_minor": 2
}
