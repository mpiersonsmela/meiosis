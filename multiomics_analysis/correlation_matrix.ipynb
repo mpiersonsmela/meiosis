{
 "cells": [
  {
   "cell_type": "code",
   "execution_count": null,
   "metadata": {},
   "outputs": [],
   "source": [
    "from pathlib import Path\n",
    "import pandas as pd\n",
    "from dotenv import load_dotenv\n",
    "import scanpy as sc\n",
    "import anndata\n",
    "import numpy as np\n",
    "import seaborn as sns\n",
    "import matplotlib.pyplot as plt\n",
    "load_dotenv()\n",
    "\n",
    "DATA_PATH = Path('/mnt/windows/extradata/')"
   ]
  },
  {
   "cell_type": "code",
   "execution_count": null,
   "metadata": {},
   "outputs": [],
   "source": [
    "# Load RNA atlas\n",
    "DATA_PATH_2 = Path(os.getenv(\"DATA_PATH\")) / \"garcia_ATAC\"\n",
    "#ref_germcell = sc.read_h5ad(DATA_PATH / \"atlas/processed_files/E-MTAB-10551/human_germcells_reduced.h5ad\")\n",
    "ref_germcell = sc.read_h5ad(DATA_PATH_2 / 'combined_samples.h5ad')\n",
    "sc.pp.normalize_total(ref_germcell, target_sum=1e4)\n",
    "sc.pp.log1p(ref_germcell)"
   ]
  },
  {
   "cell_type": "code",
   "execution_count": null,
   "metadata": {},
   "outputs": [],
   "source": [
    "meiotic_cells = sc.read_h5ad(DATA_PATH / 'meiotic_cells/meiotic_merged/preprocessed/merged_preprocessed_data.h5ad')\n"
   ]
  },
  {
   "cell_type": "code",
   "execution_count": null,
   "metadata": {},
   "outputs": [],
   "source": [
    "meiotic_cell_types = pd.read_csv(DATA_PATH / 'meiotic_cells/meiotic_merged/preprocessed/cell_data.csv', index_col=0)"
   ]
  },
  {
   "cell_type": "code",
   "execution_count": null,
   "metadata": {},
   "outputs": [],
   "source": [
    "meiotic_cells.obs['celltype'] = meiotic_cell_types['celltype']"
   ]
  },
  {
   "cell_type": "code",
   "execution_count": null,
   "metadata": {},
   "outputs": [],
   "source": [
    "meiotic_cells = meiotic_cells[meiotic_cells.obs['celltype'] != \"pre_oocyte\"]\n",
    "ref_germcell = ref_germcell[ref_germcell.obs['celltype'] != \"pre_oocyte\"]"
   ]
  },
  {
   "cell_type": "code",
   "execution_count": null,
   "metadata": {},
   "outputs": [],
   "source": [
    "#Aggregate by sum (possibly median instead?)\n",
    "aggregate_func = \"sum\"\n",
    "atlas_pseudobulk = sc.get.aggregate(ref_germcell, by=[\"celltype\"], func=aggregate_func)\n",
    "meiotic_pseudobulk = sc.get.aggregate(meiotic_cells, by=[\"celltype\"], func=aggregate_func)"
   ]
  },
  {
   "cell_type": "code",
   "execution_count": null,
   "metadata": {},
   "outputs": [],
   "source": [
    "atlas_pseudobulk.obs.index"
   ]
  },
  {
   "cell_type": "code",
   "execution_count": null,
   "metadata": {},
   "outputs": [],
   "source": [
    "#Convert AnnData objects to pandas DataFrames for correlation analysis\n",
    "atlas_df = pd.DataFrame(atlas_pseudobulk.layers[aggregate_func], index=atlas_pseudobulk.obs.index + \"_atlas\", columns=atlas_pseudobulk.var_names)\n",
    "meiotic_df = pd.DataFrame(meiotic_pseudobulk.layers[aggregate_func], index=meiotic_pseudobulk.obs.index + \"_our_meiotic_cells\", columns=meiotic_pseudobulk.var_names)\n"
   ]
  },
  {
   "cell_type": "code",
   "execution_count": null,
   "metadata": {},
   "outputs": [],
   "source": [
    "#Concatenate the data from our samples with the atlas data\n",
    "combined_data = pd.concat([atlas_df, meiotic_df])"
   ]
  },
  {
   "cell_type": "code",
   "execution_count": null,
   "metadata": {},
   "outputs": [],
   "source": [
    "combined_data"
   ]
  },
  {
   "cell_type": "code",
   "execution_count": null,
   "metadata": {},
   "outputs": [],
   "source": [
    "#Compute the Spearman correlation matrix for the combined dataframe\n",
    "correlation_matrix_combined = combined_data.T.corr(method='spearman')"
   ]
  },
  {
   "cell_type": "code",
   "execution_count": null,
   "metadata": {},
   "outputs": [],
   "source": [
    "correlation_matrix_combined"
   ]
  },
  {
   "cell_type": "code",
   "execution_count": null,
   "metadata": {},
   "outputs": [],
   "source": [
    "# Step 6: Plot a heatmap of the combined correlation matrix\n",
    "plt.figure(figsize=(12, 10))\n",
    "sns.heatmap(\n",
    "\tcorrelation_matrix_combined,\n",
    "\tannot=True,\n",
    "\tfmt=\".2f\",\n",
    "\tcmap=\"coolwarm\",\n",
    "\tvmin = 0,\n",
    "\tvmax = 1,\n",
    "\tcbar_kws={'label': 'Spearman Correlation'},\n",
    "\txticklabels=correlation_matrix_combined.columns,\n",
    "\tyticklabels=correlation_matrix_combined.index\n",
    ")\n",
    "plt.title(\"Spearman Correlation Among Cell Types (Both Studies)\")\n",
    "plt.xlabel(\"Cell Types\")\n",
    "plt.ylabel(\"Cell Types\")\n",
    "plt.tight_layout()\n",
    "plt.savefig('/mnt/storage/outputs/garcia_ATAC/outputs/rna_cor.svg', format='svg')\n",
    "plt.show()\n"
   ]
  }
 ],
 "metadata": {
  "kernelspec": {
   "display_name": "ovelle_research",
   "language": "python",
   "name": "python3"
  },
  "language_info": {
   "codemirror_mode": {
    "name": "ipython",
    "version": 3
   },
   "file_extension": ".py",
   "mimetype": "text/x-python",
   "name": "python",
   "nbconvert_exporter": "python",
   "pygments_lexer": "ipython3",
   "version": "3.12.7"
  }
 },
 "nbformat": 4,
 "nbformat_minor": 2
}
