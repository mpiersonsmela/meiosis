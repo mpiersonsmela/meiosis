{
 "cells": [
  {
   "cell_type": "code",
   "execution_count": null,
   "metadata": {},
   "outputs": [],
   "source": [
    "import pandas as pd\n",
    "import numpy as np\n",
    "import matplotlib.pyplot as plt\n",
    "import seaborn as sns\n",
    "import pybedtools\n",
    "import pandas as pd\n",
    "import matplotlib.pyplot as plt\n",
    "import seaborn as sns\n",
    "import os\n",
    "from pathlib import Path\n",
    "from dotenv import load_dotenv\n",
    "import pickle\n",
    "import re\n",
    "\n",
    "load_dotenv()\n"
   ]
  },
  {
   "cell_type": "code",
   "execution_count": null,
   "metadata": {},
   "outputs": [],
   "source": [
    "cistopic_obj = pickle.load(open('/mnt/windows/extradata/meiotic_cells/atac_preprocessing/cistopic_obj.pkl', \"rb\"))\n"
   ]
  },
  {
   "cell_type": "code",
   "execution_count": null,
   "metadata": {},
   "outputs": [],
   "source": [
    "DATA_PATH = Path(os.getenv(\"DATA_PATH\"))/'garcia_ATAC'\n",
    "OUTPUT_PATH = Path(os.getenv(\"OUTPUT_PATH\"))/'garcia_ATAC'\n",
    "\n",
    "#cistopic_obj = pickle.load(open(OUTPUT_PATH / 'atac_preprocessing/cistopic_obj.pkl', \"rb\"))"
   ]
  },
  {
   "cell_type": "code",
   "execution_count": null,
   "metadata": {},
   "outputs": [],
   "source": [
    "has_celltype = cistopic_obj.cell_data[~cistopic_obj.cell_data.celltype.isna()].index.tolist()\n",
    "cistopic_obj = cistopic_obj.subset(cells=has_celltype, copy = True)"
   ]
  },
  {
   "cell_type": "code",
   "execution_count": null,
   "metadata": {},
   "outputs": [],
   "source": [
    "fragment_matrix = cistopic_obj.fragment_matrix \n",
    "cell_types = np.where(cistopic_obj.cell_data['celltype'].isin(['oogonia_STRA8', 'oogonia_meiotic']), \"meiotic\", \"non-meiotic\")\n",
    "#cell_types = \"All\"\n",
    "peaks = cistopic_obj.region_names\n",
    "peaks_df = pd.DataFrame([p.replace(':', '-').split('-') for p in peaks], \n",
    "                       columns=['chr', 'start', 'end'])\n",
    "\n",
    "peaks_bed = pybedtools.BedTool.from_dataframe(peaks_df)\n",
    "peaks_bed.head()"
   ]
  },
  {
   "cell_type": "code",
   "execution_count": null,
   "metadata": {},
   "outputs": [],
   "source": [
    "promoter_bed_file = DATA_PATH / 'feature_annotation/Hs_EPDnew_006_hg38_900up400down.bed''\n",
    "# Try with this too: Hs_EPDnew_006_hg38.bed\n",
    "# TSSs are just a single point here. \n",
    "# Load bed file\n",
    "promoter_bed = pybedtools.BedTool(promoter_bed_file)\n",
    "promoter_bed.head()\n"
   ]
  },
  {
   "cell_type": "code",
   "execution_count": null,
   "metadata": {},
   "outputs": [],
   "source": [
    "gtf_file = \"/home/bdobre/resources/gencode.v47.basic.annotation.gtf\"\n",
    "\n",
    "# Columns in a GTF file\n",
    "columns = [\"chrom\", \"source\", \"feature\", \"start\", \"end\", \"score\", \"strand\", \"frame\", \"attribute\"]\n",
    "\n",
    "# Read the GTF, skipping comment lines beginning with '#'\n",
    "df = pd.read_csv(\n",
    "    gtf_file,\n",
    "    sep=\"\\t\",\n",
    "    comment=\"#\",\n",
    "    names=columns,\n",
    "    low_memory=False\n",
    ")\n",
    "\n",
    "# Keep only rows corresponding to genes \n",
    "df = df[df[\"feature\"] == \"gene\"].copy()\n",
    "\n",
    "# Function to pick the TSS from start/end depending on strand\n",
    "def get_tss(row):\n",
    "    # For + strand, TSS = 'start'\n",
    "    # For - strand, TSS = 'end'\n",
    "    return row[\"start\"] if row[\"strand\"] == \"+\" else row[\"end\"]\n",
    "\n",
    "df[\"tss\"] = df.apply(get_tss, axis=1)\n",
    "\n",
    "# Extract transcript_id or gene_id from the attribute column using a regex\n",
    "def get_id(attr_str, key=\"gene_name\"):\n",
    "    match = re.search(f'{key} \"([^\"]+)\"', attr_str)\n",
    "    return match.group(1) if match else \"NA\"\n",
    "\n",
    "df[\"name\"] = df[\"attribute\"].apply(lambda x: get_id(x, \"gene_name\"))\n",
    "\n",
    "# Build a BED DataFrame\n",
    "# BED format: [chrom, start, end, name, score, strand]\n",
    "bed = pd.DataFrame({\n",
    "    \"chrom\": df[\"chrom\"],\n",
    "    \"start\": df[\"tss\"],\n",
    "    \"end\":   df[\"tss\"],\n",
    "    \"name\":  df[\"name\"],\n",
    "    \"score\": 0,\n",
    "    \"strand\": df[\"strand\"]\n",
    "})\n",
    "gene_bed = pybedtools.BedTool.from_dataframe(bed)\n",
    "gene_bed.head()"
   ]
  },
  {
   "cell_type": "code",
   "execution_count": null,
   "metadata": {},
   "outputs": [],
   "source": [
    "# Find closest promoter\n",
    "closest_promoter_bed = peaks_bed.sort().closest(gene_bed.sort(), t='first')\n",
    "closest_promoter_bed.head()"
   ]
  },
  {
   "cell_type": "code",
   "execution_count": null,
   "metadata": {},
   "outputs": [],
   "source": [
    "closest_df = closest_promoter_bed.to_dataframe()\n",
    "closest_df.head()"
   ]
  },
  {
   "cell_type": "markdown",
   "metadata": {},
   "source": [
    "If > 200k label it as intergenic"
   ]
  },
  {
   "cell_type": "code",
   "execution_count": null,
   "metadata": {},
   "outputs": [],
   "source": [
    "distances = closest_df.iloc[:, 4] - 0.5*(closest_df.iloc[:, 1] + closest_df.iloc[:, 2])\n",
    "distances"
   ]
  },
  {
   "cell_type": "code",
   "execution_count": null,
   "metadata": {},
   "outputs": [],
   "source": [
    "sns.histplot(distances)"
   ]
  },
  {
   "cell_type": "code",
   "execution_count": null,
   "metadata": {},
   "outputs": [],
   "source": [
    "np.sum(np.abs(distances) > 3000) / len(distances)"
   ]
  },
  {
   "cell_type": "code",
   "execution_count": null,
   "metadata": {},
   "outputs": [],
   "source": [
    "window_size=3000# Try 200k\n",
    "in_range_mask = (distances > -window_size) & (distances < window_size)\n",
    "\n",
    "# Filter your data\n",
    "filtered_fragment_matrix = fragment_matrix[in_range_mask, :]  # pick those rows/peaks\n",
    "filtered_distances = distances[in_range_mask]\n",
    "closest_df_filtered = closest_df[in_range_mask]\n",
    "sns.histplot(filtered_distances)"
   ]
  },
  {
   "cell_type": "code",
   "execution_count": null,
   "metadata": {},
   "outputs": [],
   "source": [
    "genes = closest_df_filtered.iloc[:, 6]\n",
    "genes"
   ]
  },
  {
   "cell_type": "code",
   "execution_count": null,
   "metadata": {},
   "outputs": [],
   "source": [
    "from collections import defaultdict\n",
    "\n",
    "gene_to_peak_indices = defaultdict(list)\n",
    "for i, g in enumerate(genes):\n",
    "    gene_to_peak_indices[g].append(i)\n"
   ]
  },
  {
   "cell_type": "code",
   "execution_count": null,
   "metadata": {},
   "outputs": [],
   "source": [
    "unique_genes = np.unique(genes)\n",
    "n_genes = len(unique_genes)\n",
    "n_genes"
   ]
  },
  {
   "cell_type": "code",
   "execution_count": null,
   "metadata": {},
   "outputs": [],
   "source": [
    "from scipy.ndimage import gaussian_filter1d\n",
    "\n",
    "bins=100\n",
    "\n",
    "# Create distance bins\n",
    "bin_edges = np.linspace(-window_size, window_size, bins + 1)\n",
    "bin_centers = (bin_edges[:-1] + bin_edges[1:]) / 2\n",
    "dist_bin = np.digitize(filtered_distances, bin_edges)\n",
    "\n",
    "# Initialize figure\n",
    "fig = plt.figure(figsize=(15, 10))\n",
    "gs = plt.GridSpec(2, 3, height_ratios=[1, 3])\n",
    "\n",
    "# Process each cell type\n",
    "unique_cell_types = np.unique(cell_types)\n",
    "\n",
    "for idx, cell_type in enumerate(unique_cell_types):\n",
    "    # Get cells of this type\n",
    "    cell_mask = cell_types == cell_type\n",
    "    submatrix_all_peaks = filtered_fragment_matrix[:, cell_mask]\n",
    "    peak_accessibility = submatrix_all_peaks.mean(axis=1)    \n",
    "    # Calculate profile\n",
    "    profile = np.zeros(len(bin_centers))\n",
    "    for b_i in range(1, bins + 1):  \n",
    "        # find peaks that fall in this bin\n",
    "        in_bin = (dist_bin == b_i)\n",
    "        if np.any(in_bin):\n",
    "            profile[b_i - 1] = peak_accessibility[in_bin].mean()\n",
    "        else:\n",
    "            profile[b_i - 1] = 0.0\n",
    "\n",
    "    # Smooth the profile\n",
    "    profile_smooth = gaussian_filter1d(profile, sigma=2.0)\n",
    "    \n",
    "    # Plot line graph\n",
    "    ax_top = fig.add_subplot(gs[0, idx])\n",
    "    ax_top.plot(bin_centers, profile_smooth)\n",
    "    ax_top.set_title(f'Cell Type: {cell_type}')\n",
    "    ax_top.set_xlabel('Distance from TSS (bp)')\n",
    "    ax_top.set_ylabel('Average Accessibility')\n",
    "    \n",
    "    # Plot heatmap\n",
    "    ax_bottom = fig.add_subplot(gs[1, idx])\n",
    "    \n",
    "    # Create distance bins for heatmap\n",
    "    heatmap_data = np.zeros((n_genes, bins))\n",
    "\n",
    "    celltype_submatrix = fragment_matrix[:, cell_mask]\n",
    "\n",
    "    for g_idx, g in enumerate(unique_genes):\n",
    "        peak_inds = gene_to_peak_indices[g]  \n",
    "        if len(peak_inds) == 0:\n",
    "            # Just skip if no peaks for this gene\n",
    "            continue  \n",
    "        submat_gene = submatrix_all_peaks[peak_inds, :]  \n",
    "        gene_peak_access = submat_gene.mean(axis=1)\n",
    "    \n",
    "        gene_peak_distbins = dist_bin[peak_inds]\n",
    "        \n",
    "        # For each bin, average accessibility\n",
    "        for b_i in range(1, bins + 1):\n",
    "            in_bin = (gene_peak_distbins == b_i)\n",
    "            if np.any(in_bin):\n",
    "                heatmap_data[g_idx, b_i - 1] = gene_peak_access[in_bin].mean()\n",
    "            else:\n",
    "                heatmap_data[g_idx, b_i - 1] = 0.0\n",
    "\n",
    "    # sort by the maximum accessibility in each row\n",
    "    row_max = heatmap_data.max(axis=1)\n",
    "    sort_idx = np.argsort(row_max)[::-1]    # descending order\n",
    "    heatmap_data = heatmap_data[sort_idx, :]\n",
    "        \n",
    "    sns.heatmap(heatmap_data, cmap='YlOrRd', ax=ax_bottom, vmax = 0.02, yticklabels=False)\n",
    "    ax_bottom.set_xlabel('Distance from TSS (bp)')\n",
    "    ax_bottom.set_ylabel('Genes')\n",
    "    n_labels = 7\n",
    "    tick_positions = np.linspace(0, bins - 1, n_labels)\n",
    "    tick_labels = np.linspace(-window_size, window_size, n_labels, dtype=int)\n",
    "    ax_bottom.set_xticks(tick_positions)\n",
    "    ax_bottom.set_xticklabels(tick_labels)\n",
    "\n",
    "plt.tight_layout()"
   ]
  }
 ],
 "metadata": {
  "kernelspec": {
   "display_name": "scenicplus",
   "language": "python",
   "name": "python3"
  },
  "language_info": {
   "codemirror_mode": {
    "name": "ipython",
    "version": 3
   },
   "file_extension": ".py",
   "mimetype": "text/x-python",
   "name": "python",
   "nbconvert_exporter": "python",
   "pygments_lexer": "ipython3",
   "version": "3.11.8"
  }
 },
 "nbformat": 4,
 "nbformat_minor": 2
}
